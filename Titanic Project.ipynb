{
 "cells": [
  {
   "cell_type": "code",
   "execution_count": 1,
   "id": "8a16c556",
   "metadata": {},
   "outputs": [],
   "source": [
    "import pandas as pd\n",
    "import numpy as np\n",
    "import matplotlib as plt\n",
    "import seaborn as sns\n",
    "%matplotlib inline"
   ]
  },
  {
   "cell_type": "markdown",
   "id": "f97bca8c",
   "metadata": {},
   "source": [
    "# Data collection\n",
    "Data import"
   ]
  },
  {
   "cell_type": "code",
   "execution_count": 2,
   "id": "bb70d63a",
   "metadata": {},
   "outputs": [
    {
     "data": {
      "text/html": [
       "<div>\n",
       "<style scoped>\n",
       "    .dataframe tbody tr th:only-of-type {\n",
       "        vertical-align: middle;\n",
       "    }\n",
       "\n",
       "    .dataframe tbody tr th {\n",
       "        vertical-align: top;\n",
       "    }\n",
       "\n",
       "    .dataframe thead th {\n",
       "        text-align: right;\n",
       "    }\n",
       "</style>\n",
       "<table border=\"1\" class=\"dataframe\">\n",
       "  <thead>\n",
       "    <tr style=\"text-align: right;\">\n",
       "      <th></th>\n",
       "      <th>PassengerId</th>\n",
       "      <th>Survived</th>\n",
       "      <th>Pclass</th>\n",
       "      <th>Name</th>\n",
       "      <th>Sex</th>\n",
       "      <th>Age</th>\n",
       "      <th>SibSp</th>\n",
       "      <th>Parch</th>\n",
       "      <th>Ticket</th>\n",
       "      <th>Fare</th>\n",
       "      <th>Cabin</th>\n",
       "      <th>Embarked</th>\n",
       "    </tr>\n",
       "  </thead>\n",
       "  <tbody>\n",
       "    <tr>\n",
       "      <th>0</th>\n",
       "      <td>1</td>\n",
       "      <td>0</td>\n",
       "      <td>3</td>\n",
       "      <td>Braund, Mr. Owen Harris</td>\n",
       "      <td>male</td>\n",
       "      <td>22.0</td>\n",
       "      <td>1</td>\n",
       "      <td>0</td>\n",
       "      <td>A/5 21171</td>\n",
       "      <td>7.2500</td>\n",
       "      <td>NaN</td>\n",
       "      <td>S</td>\n",
       "    </tr>\n",
       "    <tr>\n",
       "      <th>1</th>\n",
       "      <td>2</td>\n",
       "      <td>1</td>\n",
       "      <td>1</td>\n",
       "      <td>Cumings, Mrs. John Bradley (Florence Briggs Th...</td>\n",
       "      <td>female</td>\n",
       "      <td>38.0</td>\n",
       "      <td>1</td>\n",
       "      <td>0</td>\n",
       "      <td>PC 17599</td>\n",
       "      <td>71.2833</td>\n",
       "      <td>C85</td>\n",
       "      <td>C</td>\n",
       "    </tr>\n",
       "    <tr>\n",
       "      <th>2</th>\n",
       "      <td>3</td>\n",
       "      <td>1</td>\n",
       "      <td>3</td>\n",
       "      <td>Heikkinen, Miss. Laina</td>\n",
       "      <td>female</td>\n",
       "      <td>26.0</td>\n",
       "      <td>0</td>\n",
       "      <td>0</td>\n",
       "      <td>STON/O2. 3101282</td>\n",
       "      <td>7.9250</td>\n",
       "      <td>NaN</td>\n",
       "      <td>S</td>\n",
       "    </tr>\n",
       "    <tr>\n",
       "      <th>3</th>\n",
       "      <td>4</td>\n",
       "      <td>1</td>\n",
       "      <td>1</td>\n",
       "      <td>Futrelle, Mrs. Jacques Heath (Lily May Peel)</td>\n",
       "      <td>female</td>\n",
       "      <td>35.0</td>\n",
       "      <td>1</td>\n",
       "      <td>0</td>\n",
       "      <td>113803</td>\n",
       "      <td>53.1000</td>\n",
       "      <td>C123</td>\n",
       "      <td>S</td>\n",
       "    </tr>\n",
       "    <tr>\n",
       "      <th>4</th>\n",
       "      <td>5</td>\n",
       "      <td>0</td>\n",
       "      <td>3</td>\n",
       "      <td>Allen, Mr. William Henry</td>\n",
       "      <td>male</td>\n",
       "      <td>35.0</td>\n",
       "      <td>0</td>\n",
       "      <td>0</td>\n",
       "      <td>373450</td>\n",
       "      <td>8.0500</td>\n",
       "      <td>NaN</td>\n",
       "      <td>S</td>\n",
       "    </tr>\n",
       "  </tbody>\n",
       "</table>\n",
       "</div>"
      ],
      "text/plain": [
       "   PassengerId  Survived  Pclass  \\\n",
       "0            1         0       3   \n",
       "1            2         1       1   \n",
       "2            3         1       3   \n",
       "3            4         1       1   \n",
       "4            5         0       3   \n",
       "\n",
       "                                                Name     Sex   Age  SibSp  \\\n",
       "0                            Braund, Mr. Owen Harris    male  22.0      1   \n",
       "1  Cumings, Mrs. John Bradley (Florence Briggs Th...  female  38.0      1   \n",
       "2                             Heikkinen, Miss. Laina  female  26.0      0   \n",
       "3       Futrelle, Mrs. Jacques Heath (Lily May Peel)  female  35.0      1   \n",
       "4                           Allen, Mr. William Henry    male  35.0      0   \n",
       "\n",
       "   Parch            Ticket     Fare Cabin Embarked  \n",
       "0      0         A/5 21171   7.2500   NaN        S  \n",
       "1      0          PC 17599  71.2833   C85        C  \n",
       "2      0  STON/O2. 3101282   7.9250   NaN        S  \n",
       "3      0            113803  53.1000  C123        S  \n",
       "4      0            373450   8.0500   NaN        S  "
      ]
     },
     "execution_count": 2,
     "metadata": {},
     "output_type": "execute_result"
    }
   ],
   "source": [
    "tit_data = pd.read_csv(\"https://raw.githubusercontent.com/dsrscientist/dataset1/master/titanic_train.csv\")\n",
    "tit_data.head()"
   ]
  },
  {
   "cell_type": "code",
   "execution_count": 3,
   "id": "5135d04f",
   "metadata": {},
   "outputs": [
    {
     "data": {
      "text/plain": [
       "Index(['PassengerId', 'Survived', 'Pclass', 'Name', 'Sex', 'Age', 'SibSp',\n",
       "       'Parch', 'Ticket', 'Fare', 'Cabin', 'Embarked'],\n",
       "      dtype='object')"
      ]
     },
     "execution_count": 3,
     "metadata": {},
     "output_type": "execute_result"
    }
   ],
   "source": [
    "tit_data.columns"
   ]
  },
  {
   "cell_type": "markdown",
   "id": "7436e677",
   "metadata": {},
   "source": [
    "# Data cleaning\n",
    "Describe the data"
   ]
  },
  {
   "cell_type": "code",
   "execution_count": 4,
   "id": "9338d2ef",
   "metadata": {},
   "outputs": [
    {
     "data": {
      "text/html": [
       "<div>\n",
       "<style scoped>\n",
       "    .dataframe tbody tr th:only-of-type {\n",
       "        vertical-align: middle;\n",
       "    }\n",
       "\n",
       "    .dataframe tbody tr th {\n",
       "        vertical-align: top;\n",
       "    }\n",
       "\n",
       "    .dataframe thead th {\n",
       "        text-align: right;\n",
       "    }\n",
       "</style>\n",
       "<table border=\"1\" class=\"dataframe\">\n",
       "  <thead>\n",
       "    <tr style=\"text-align: right;\">\n",
       "      <th></th>\n",
       "      <th>PassengerId</th>\n",
       "      <th>Survived</th>\n",
       "      <th>Pclass</th>\n",
       "      <th>Age</th>\n",
       "      <th>SibSp</th>\n",
       "      <th>Parch</th>\n",
       "      <th>Fare</th>\n",
       "    </tr>\n",
       "  </thead>\n",
       "  <tbody>\n",
       "    <tr>\n",
       "      <th>count</th>\n",
       "      <td>891.000000</td>\n",
       "      <td>891.000000</td>\n",
       "      <td>891.000000</td>\n",
       "      <td>714.000000</td>\n",
       "      <td>891.000000</td>\n",
       "      <td>891.000000</td>\n",
       "      <td>891.000000</td>\n",
       "    </tr>\n",
       "    <tr>\n",
       "      <th>mean</th>\n",
       "      <td>446.000000</td>\n",
       "      <td>0.383838</td>\n",
       "      <td>2.308642</td>\n",
       "      <td>29.699118</td>\n",
       "      <td>0.523008</td>\n",
       "      <td>0.381594</td>\n",
       "      <td>32.204208</td>\n",
       "    </tr>\n",
       "    <tr>\n",
       "      <th>std</th>\n",
       "      <td>257.353842</td>\n",
       "      <td>0.486592</td>\n",
       "      <td>0.836071</td>\n",
       "      <td>14.526497</td>\n",
       "      <td>1.102743</td>\n",
       "      <td>0.806057</td>\n",
       "      <td>49.693429</td>\n",
       "    </tr>\n",
       "    <tr>\n",
       "      <th>min</th>\n",
       "      <td>1.000000</td>\n",
       "      <td>0.000000</td>\n",
       "      <td>1.000000</td>\n",
       "      <td>0.420000</td>\n",
       "      <td>0.000000</td>\n",
       "      <td>0.000000</td>\n",
       "      <td>0.000000</td>\n",
       "    </tr>\n",
       "    <tr>\n",
       "      <th>25%</th>\n",
       "      <td>223.500000</td>\n",
       "      <td>0.000000</td>\n",
       "      <td>2.000000</td>\n",
       "      <td>20.125000</td>\n",
       "      <td>0.000000</td>\n",
       "      <td>0.000000</td>\n",
       "      <td>7.910400</td>\n",
       "    </tr>\n",
       "    <tr>\n",
       "      <th>50%</th>\n",
       "      <td>446.000000</td>\n",
       "      <td>0.000000</td>\n",
       "      <td>3.000000</td>\n",
       "      <td>28.000000</td>\n",
       "      <td>0.000000</td>\n",
       "      <td>0.000000</td>\n",
       "      <td>14.454200</td>\n",
       "    </tr>\n",
       "    <tr>\n",
       "      <th>75%</th>\n",
       "      <td>668.500000</td>\n",
       "      <td>1.000000</td>\n",
       "      <td>3.000000</td>\n",
       "      <td>38.000000</td>\n",
       "      <td>1.000000</td>\n",
       "      <td>0.000000</td>\n",
       "      <td>31.000000</td>\n",
       "    </tr>\n",
       "    <tr>\n",
       "      <th>max</th>\n",
       "      <td>891.000000</td>\n",
       "      <td>1.000000</td>\n",
       "      <td>3.000000</td>\n",
       "      <td>80.000000</td>\n",
       "      <td>8.000000</td>\n",
       "      <td>6.000000</td>\n",
       "      <td>512.329200</td>\n",
       "    </tr>\n",
       "  </tbody>\n",
       "</table>\n",
       "</div>"
      ],
      "text/plain": [
       "       PassengerId    Survived      Pclass         Age       SibSp  \\\n",
       "count   891.000000  891.000000  891.000000  714.000000  891.000000   \n",
       "mean    446.000000    0.383838    2.308642   29.699118    0.523008   \n",
       "std     257.353842    0.486592    0.836071   14.526497    1.102743   \n",
       "min       1.000000    0.000000    1.000000    0.420000    0.000000   \n",
       "25%     223.500000    0.000000    2.000000   20.125000    0.000000   \n",
       "50%     446.000000    0.000000    3.000000   28.000000    0.000000   \n",
       "75%     668.500000    1.000000    3.000000   38.000000    1.000000   \n",
       "max     891.000000    1.000000    3.000000   80.000000    8.000000   \n",
       "\n",
       "            Parch        Fare  \n",
       "count  891.000000  891.000000  \n",
       "mean     0.381594   32.204208  \n",
       "std      0.806057   49.693429  \n",
       "min      0.000000    0.000000  \n",
       "25%      0.000000    7.910400  \n",
       "50%      0.000000   14.454200  \n",
       "75%      0.000000   31.000000  \n",
       "max      6.000000  512.329200  "
      ]
     },
     "execution_count": 4,
     "metadata": {},
     "output_type": "execute_result"
    }
   ],
   "source": [
    "tit_data.describe()"
   ]
  },
  {
   "cell_type": "markdown",
   "id": "4b2ca747",
   "metadata": {},
   "source": [
    "I notice that there is an outlier in the \"Fare\" feature. I wanna look into it."
   ]
  },
  {
   "cell_type": "code",
   "execution_count": 5,
   "id": "52bca1b7",
   "metadata": {},
   "outputs": [
    {
     "data": {
      "text/html": [
       "<div>\n",
       "<style scoped>\n",
       "    .dataframe tbody tr th:only-of-type {\n",
       "        vertical-align: middle;\n",
       "    }\n",
       "\n",
       "    .dataframe tbody tr th {\n",
       "        vertical-align: top;\n",
       "    }\n",
       "\n",
       "    .dataframe thead th {\n",
       "        text-align: right;\n",
       "    }\n",
       "</style>\n",
       "<table border=\"1\" class=\"dataframe\">\n",
       "  <thead>\n",
       "    <tr style=\"text-align: right;\">\n",
       "      <th></th>\n",
       "      <th>PassengerId</th>\n",
       "      <th>Survived</th>\n",
       "      <th>Pclass</th>\n",
       "      <th>Name</th>\n",
       "      <th>Sex</th>\n",
       "      <th>Age</th>\n",
       "      <th>SibSp</th>\n",
       "      <th>Parch</th>\n",
       "      <th>Ticket</th>\n",
       "      <th>Fare</th>\n",
       "      <th>Cabin</th>\n",
       "      <th>Embarked</th>\n",
       "    </tr>\n",
       "  </thead>\n",
       "  <tbody>\n",
       "    <tr>\n",
       "      <th>258</th>\n",
       "      <td>259</td>\n",
       "      <td>1</td>\n",
       "      <td>1</td>\n",
       "      <td>Ward, Miss. Anna</td>\n",
       "      <td>female</td>\n",
       "      <td>35.0</td>\n",
       "      <td>0</td>\n",
       "      <td>0</td>\n",
       "      <td>PC 17755</td>\n",
       "      <td>512.3292</td>\n",
       "      <td>NaN</td>\n",
       "      <td>C</td>\n",
       "    </tr>\n",
       "    <tr>\n",
       "      <th>679</th>\n",
       "      <td>680</td>\n",
       "      <td>1</td>\n",
       "      <td>1</td>\n",
       "      <td>Cardeza, Mr. Thomas Drake Martinez</td>\n",
       "      <td>male</td>\n",
       "      <td>36.0</td>\n",
       "      <td>0</td>\n",
       "      <td>1</td>\n",
       "      <td>PC 17755</td>\n",
       "      <td>512.3292</td>\n",
       "      <td>B51 B53 B55</td>\n",
       "      <td>C</td>\n",
       "    </tr>\n",
       "    <tr>\n",
       "      <th>737</th>\n",
       "      <td>738</td>\n",
       "      <td>1</td>\n",
       "      <td>1</td>\n",
       "      <td>Lesurer, Mr. Gustave J</td>\n",
       "      <td>male</td>\n",
       "      <td>35.0</td>\n",
       "      <td>0</td>\n",
       "      <td>0</td>\n",
       "      <td>PC 17755</td>\n",
       "      <td>512.3292</td>\n",
       "      <td>B101</td>\n",
       "      <td>C</td>\n",
       "    </tr>\n",
       "  </tbody>\n",
       "</table>\n",
       "</div>"
      ],
      "text/plain": [
       "     PassengerId  Survived  Pclass                                Name  \\\n",
       "258          259         1       1                    Ward, Miss. Anna   \n",
       "679          680         1       1  Cardeza, Mr. Thomas Drake Martinez   \n",
       "737          738         1       1              Lesurer, Mr. Gustave J   \n",
       "\n",
       "        Sex   Age  SibSp  Parch    Ticket      Fare        Cabin Embarked  \n",
       "258  female  35.0      0      0  PC 17755  512.3292          NaN        C  \n",
       "679    male  36.0      0      1  PC 17755  512.3292  B51 B53 B55        C  \n",
       "737    male  35.0      0      0  PC 17755  512.3292         B101        C  "
      ]
     },
     "execution_count": 5,
     "metadata": {},
     "output_type": "execute_result"
    }
   ],
   "source": [
    "tit_data[tit_data['Fare']==max(tit_data['Fare'])]"
   ]
  },
  {
   "cell_type": "markdown",
   "id": "7204c8a9",
   "metadata": {},
   "source": [
    "#I assume these 3 people are from the higher class of the ship.\n",
    "\n",
    "Check for null values"
   ]
  },
  {
   "cell_type": "code",
   "execution_count": 9,
   "id": "df1f59c0",
   "metadata": {},
   "outputs": [
    {
     "data": {
      "text/plain": [
       "<AxesSubplot:>"
      ]
     },
     "execution_count": 9,
     "metadata": {},
     "output_type": "execute_result"
    },
    {
     "data": {
      "image/png": "[encoded data removed]",
      "text/plain": [
       "<Figure size 432x288 with 1 Axes>"
      ]
     },
     "metadata": {
      "needs_background": "light"
     },
     "output_type": "display_data"
    }
   ],
   "source": [
    "sns.heatmap(tit_data.isnull(),yticklabels=False,cbar=False,cmap='rocket_r')"
   ]
  },
  {
   "cell_type": "code",
   "execution_count": 11,
   "id": "8250db90",
   "metadata": {},
   "outputs": [
    {
     "name": "stdout",
     "output_type": "stream",
     "text": [
      "20% of missing values in the 'Age' feature.\n",
      "77% of missing values in the 'Cabin' feature.\n"
     ]
    }
   ],
   "source": [
    "print(\"{0:.0%}\".format(tit_data['Age'].isnull().value_counts()[1]/tit_data.shape[0]),\"of missing values in the 'Age' feature.\")\n",
    "print(\"{0:.0%}\".format(tit_data['Cabin'].isnull().value_counts()[1]/tit_data.shape[0]),\"of missing values in the 'Cabin' feature.\")"
   ]
  },
  {
   "cell_type": "markdown",
   "id": "0fd08a98",
   "metadata": {},
   "source": [
    "We can see that the \"Cabin\" feature has a lot of missing values, we might consider dropping it. Regarding the \"Age\" feature, we might look into other solutions"
   ]
  },
  {
   "cell_type": "code",
   "execution_count": 12,
   "id": "894c4a6c",
   "metadata": {},
   "outputs": [
    {
     "data": {
      "text/html": [
       "<div>\n",
       "<style scoped>\n",
       "    .dataframe tbody tr th:only-of-type {\n",
       "        vertical-align: middle;\n",
       "    }\n",
       "\n",
       "    .dataframe tbody tr th {\n",
       "        vertical-align: top;\n",
       "    }\n",
       "\n",
       "    .dataframe thead th {\n",
       "        text-align: right;\n",
       "    }\n",
       "</style>\n",
       "<table border=\"1\" class=\"dataframe\">\n",
       "  <thead>\n",
       "    <tr style=\"text-align: right;\">\n",
       "      <th></th>\n",
       "      <th>PassengerId</th>\n",
       "      <th>Survived</th>\n",
       "      <th>Pclass</th>\n",
       "      <th>Name</th>\n",
       "      <th>Sex</th>\n",
       "      <th>Age</th>\n",
       "      <th>SibSp</th>\n",
       "      <th>Parch</th>\n",
       "      <th>Ticket</th>\n",
       "      <th>Fare</th>\n",
       "      <th>Embarked</th>\n",
       "    </tr>\n",
       "  </thead>\n",
       "  <tbody>\n",
       "    <tr>\n",
       "      <th>0</th>\n",
       "      <td>1</td>\n",
       "      <td>0</td>\n",
       "      <td>3</td>\n",
       "      <td>Braund, Mr. Owen Harris</td>\n",
       "      <td>male</td>\n",
       "      <td>22.0</td>\n",
       "      <td>1</td>\n",
       "      <td>0</td>\n",
       "      <td>A/5 21171</td>\n",
       "      <td>7.2500</td>\n",
       "      <td>S</td>\n",
       "    </tr>\n",
       "    <tr>\n",
       "      <th>1</th>\n",
       "      <td>2</td>\n",
       "      <td>1</td>\n",
       "      <td>1</td>\n",
       "      <td>Cumings, Mrs. John Bradley (Florence Briggs Th...</td>\n",
       "      <td>female</td>\n",
       "      <td>38.0</td>\n",
       "      <td>1</td>\n",
       "      <td>0</td>\n",
       "      <td>PC 17599</td>\n",
       "      <td>71.2833</td>\n",
       "      <td>C</td>\n",
       "    </tr>\n",
       "    <tr>\n",
       "      <th>2</th>\n",
       "      <td>3</td>\n",
       "      <td>1</td>\n",
       "      <td>3</td>\n",
       "      <td>Heikkinen, Miss. Laina</td>\n",
       "      <td>female</td>\n",
       "      <td>26.0</td>\n",
       "      <td>0</td>\n",
       "      <td>0</td>\n",
       "      <td>STON/O2. 3101282</td>\n",
       "      <td>7.9250</td>\n",
       "      <td>S</td>\n",
       "    </tr>\n",
       "    <tr>\n",
       "      <th>3</th>\n",
       "      <td>4</td>\n",
       "      <td>1</td>\n",
       "      <td>1</td>\n",
       "      <td>Futrelle, Mrs. Jacques Heath (Lily May Peel)</td>\n",
       "      <td>female</td>\n",
       "      <td>35.0</td>\n",
       "      <td>1</td>\n",
       "      <td>0</td>\n",
       "      <td>113803</td>\n",
       "      <td>53.1000</td>\n",
       "      <td>S</td>\n",
       "    </tr>\n",
       "    <tr>\n",
       "      <th>4</th>\n",
       "      <td>5</td>\n",
       "      <td>0</td>\n",
       "      <td>3</td>\n",
       "      <td>Allen, Mr. William Henry</td>\n",
       "      <td>male</td>\n",
       "      <td>35.0</td>\n",
       "      <td>0</td>\n",
       "      <td>0</td>\n",
       "      <td>373450</td>\n",
       "      <td>8.0500</td>\n",
       "      <td>S</td>\n",
       "    </tr>\n",
       "  </tbody>\n",
       "</table>\n",
       "</div>"
      ],
      "text/plain": [
       "   PassengerId  Survived  Pclass  \\\n",
       "0            1         0       3   \n",
       "1            2         1       1   \n",
       "2            3         1       3   \n",
       "3            4         1       1   \n",
       "4            5         0       3   \n",
       "\n",
       "                                                Name     Sex   Age  SibSp  \\\n",
       "0                            Braund, Mr. Owen Harris    male  22.0      1   \n",
       "1  Cumings, Mrs. John Bradley (Florence Briggs Th...  female  38.0      1   \n",
       "2                             Heikkinen, Miss. Laina  female  26.0      0   \n",
       "3       Futrelle, Mrs. Jacques Heath (Lily May Peel)  female  35.0      1   \n",
       "4                           Allen, Mr. William Henry    male  35.0      0   \n",
       "\n",
       "   Parch            Ticket     Fare Embarked  \n",
       "0      0         A/5 21171   7.2500        S  \n",
       "1      0          PC 17599  71.2833        C  \n",
       "2      0  STON/O2. 3101282   7.9250        S  \n",
       "3      0            113803  53.1000        S  \n",
       "4      0            373450   8.0500        S  "
      ]
     },
     "execution_count": 12,
     "metadata": {},
     "output_type": "execute_result"
    }
   ],
   "source": [
    "tit_data_clean = tit_data.drop('Cabin',axis=1)\n",
    "tit_data_clean.head()"
   ]
  },
  {
   "cell_type": "code",
   "execution_count": 13,
   "id": "bb5297dc",
   "metadata": {},
   "outputs": [
    {
     "data": {
      "text/plain": [
       "count    714.000000\n",
       "mean      29.699118\n",
       "std       14.526497\n",
       "min        0.420000\n",
       "25%       20.125000\n",
       "50%       28.000000\n",
       "75%       38.000000\n",
       "max       80.000000\n",
       "Name: Age, dtype: float64"
      ]
     },
     "execution_count": 13,
     "metadata": {},
     "output_type": "execute_result"
    }
   ],
   "source": [
    "tit_data_clean['Age'].describe()"
   ]
  },
  {
   "cell_type": "markdown",
   "id": "49d2e3a4",
   "metadata": {},
   "source": [
    "I notice that \"mean\" and \"median\" are quite close. I assume both could be working solutions for filling missing values. I will choose \"mean\" to fill NAs. Let's figure out if there is a smarter way to impute the \"mean\"."
   ]
  },
  {
   "cell_type": "code",
   "execution_count": 14,
   "id": "50a6ea8b",
   "metadata": {},
   "outputs": [
    {
     "data": {
      "text/html": [
       "<div>\n",
       "<style scoped>\n",
       "    .dataframe tbody tr th:only-of-type {\n",
       "        vertical-align: middle;\n",
       "    }\n",
       "\n",
       "    .dataframe tbody tr th {\n",
       "        vertical-align: top;\n",
       "    }\n",
       "\n",
       "    .dataframe thead th {\n",
       "        text-align: right;\n",
       "    }\n",
       "</style>\n",
       "<table border=\"1\" class=\"dataframe\">\n",
       "  <thead>\n",
       "    <tr style=\"text-align: right;\">\n",
       "      <th></th>\n",
       "      <th>PassengerId</th>\n",
       "      <th>Survived</th>\n",
       "      <th>Pclass</th>\n",
       "      <th>Name</th>\n",
       "      <th>Sex</th>\n",
       "      <th>Age</th>\n",
       "      <th>SibSp</th>\n",
       "      <th>Parch</th>\n",
       "      <th>Ticket</th>\n",
       "      <th>Fare</th>\n",
       "      <th>Embarked</th>\n",
       "    </tr>\n",
       "  </thead>\n",
       "  <tbody>\n",
       "    <tr>\n",
       "      <th>0</th>\n",
       "      <td>1</td>\n",
       "      <td>0</td>\n",
       "      <td>3</td>\n",
       "      <td>Braund, Mr. Owen Harris</td>\n",
       "      <td>male</td>\n",
       "      <td>22.0</td>\n",
       "      <td>1</td>\n",
       "      <td>0</td>\n",
       "      <td>A/5 21171</td>\n",
       "      <td>7.2500</td>\n",
       "      <td>S</td>\n",
       "    </tr>\n",
       "    <tr>\n",
       "      <th>1</th>\n",
       "      <td>2</td>\n",
       "      <td>1</td>\n",
       "      <td>1</td>\n",
       "      <td>Cumings, Mrs. John Bradley (Florence Briggs Th...</td>\n",
       "      <td>female</td>\n",
       "      <td>38.0</td>\n",
       "      <td>1</td>\n",
       "      <td>0</td>\n",
       "      <td>PC 17599</td>\n",
       "      <td>71.2833</td>\n",
       "      <td>C</td>\n",
       "    </tr>\n",
       "    <tr>\n",
       "      <th>2</th>\n",
       "      <td>3</td>\n",
       "      <td>1</td>\n",
       "      <td>3</td>\n",
       "      <td>Heikkinen, Miss. Laina</td>\n",
       "      <td>female</td>\n",
       "      <td>26.0</td>\n",
       "      <td>0</td>\n",
       "      <td>0</td>\n",
       "      <td>STON/O2. 3101282</td>\n",
       "      <td>7.9250</td>\n",
       "      <td>S</td>\n",
       "    </tr>\n",
       "    <tr>\n",
       "      <th>3</th>\n",
       "      <td>4</td>\n",
       "      <td>1</td>\n",
       "      <td>1</td>\n",
       "      <td>Futrelle, Mrs. Jacques Heath (Lily May Peel)</td>\n",
       "      <td>female</td>\n",
       "      <td>35.0</td>\n",
       "      <td>1</td>\n",
       "      <td>0</td>\n",
       "      <td>113803</td>\n",
       "      <td>53.1000</td>\n",
       "      <td>S</td>\n",
       "    </tr>\n",
       "    <tr>\n",
       "      <th>4</th>\n",
       "      <td>5</td>\n",
       "      <td>0</td>\n",
       "      <td>3</td>\n",
       "      <td>Allen, Mr. William Henry</td>\n",
       "      <td>male</td>\n",
       "      <td>35.0</td>\n",
       "      <td>0</td>\n",
       "      <td>0</td>\n",
       "      <td>373450</td>\n",
       "      <td>8.0500</td>\n",
       "      <td>S</td>\n",
       "    </tr>\n",
       "  </tbody>\n",
       "</table>\n",
       "</div>"
      ],
      "text/plain": [
       "   PassengerId  Survived  Pclass  \\\n",
       "0            1         0       3   \n",
       "1            2         1       1   \n",
       "2            3         1       3   \n",
       "3            4         1       1   \n",
       "4            5         0       3   \n",
       "\n",
       "                                                Name     Sex   Age  SibSp  \\\n",
       "0                            Braund, Mr. Owen Harris    male  22.0      1   \n",
       "1  Cumings, Mrs. John Bradley (Florence Briggs Th...  female  38.0      1   \n",
       "2                             Heikkinen, Miss. Laina  female  26.0      0   \n",
       "3       Futrelle, Mrs. Jacques Heath (Lily May Peel)  female  35.0      1   \n",
       "4                           Allen, Mr. William Henry    male  35.0      0   \n",
       "\n",
       "   Parch            Ticket     Fare Embarked  \n",
       "0      0         A/5 21171   7.2500        S  \n",
       "1      0          PC 17599  71.2833        C  \n",
       "2      0  STON/O2. 3101282   7.9250        S  \n",
       "3      0            113803  53.1000        S  \n",
       "4      0            373450   8.0500        S  "
      ]
     },
     "execution_count": 14,
     "metadata": {},
     "output_type": "execute_result"
    }
   ],
   "source": [
    "tit_data_clean.head()"
   ]
  },
  {
   "cell_type": "code",
   "execution_count": 17,
   "id": "1dd0fb98",
   "metadata": {},
   "outputs": [
    {
     "data": {
      "text/plain": [
       "<AxesSubplot:xlabel='Pclass', ylabel='Age'>"
      ]
     },
     "execution_count": 17,
     "metadata": {},
     "output_type": "execute_result"
    },
    {
     "data": {
      "image/png": "[encoded data removed]",
      "text/plain": [
       "<Figure size 432x288 with 1 Axes>"
      ]
     },
     "metadata": {
      "needs_background": "light"
     },
     "output_type": "display_data"
    }
   ],
   "source": [
    "sns.boxplot(x='Pclass',y='Age',data=tit_data_clean,palette='RdPu',saturation=0)"
   ]
  },
  {
   "cell_type": "markdown",
   "id": "f6b9d8b1",
   "metadata": {},
   "source": [
    "It seems like passengers who were in a higher class tended to be older. We could take the age mean of each class and input these accordingly to the missing values."
   ]
  },
  {
   "cell_type": "code",
   "execution_count": 18,
   "id": "b0aed69e",
   "metadata": {},
   "outputs": [
    {
     "data": {
      "text/plain": [
       "38.233440860215055"
      ]
     },
     "execution_count": 18,
     "metadata": {},
     "output_type": "execute_result"
    }
   ],
   "source": [
    "tit_data_clean[tit_data_clean['Pclass']==1]['Age'].mean()"
   ]
  },
  {
   "cell_type": "code",
   "execution_count": 19,
   "id": "e3cd242f",
   "metadata": {},
   "outputs": [
    {
     "data": {
      "text/plain": [
       "29.87763005780347"
      ]
     },
     "execution_count": 19,
     "metadata": {},
     "output_type": "execute_result"
    }
   ],
   "source": [
    "tit_data_clean[tit_data_clean['Pclass']==2]['Age'].mean()\n"
   ]
  },
  {
   "cell_type": "code",
   "execution_count": 20,
   "id": "fa8ec7fc",
   "metadata": {},
   "outputs": [
    {
     "data": {
      "text/plain": [
       "25.14061971830986"
      ]
     },
     "execution_count": 20,
     "metadata": {},
     "output_type": "execute_result"
    }
   ],
   "source": [
    "tit_data_clean[tit_data_clean['Pclass']==3]['Age'].mean()\n"
   ]
  },
  {
   "cell_type": "code",
   "execution_count": 21,
   "id": "56ae180a",
   "metadata": {},
   "outputs": [],
   "source": [
    "def impute_age(cols):\n",
    "    Age = cols[0]\n",
    "    Pclass = cols[1]\n",
    "    \n",
    "    if pd.isnull(Age):\n",
    "\n",
    "        if Pclass == 1:\n",
    "            return 38\n",
    "\n",
    "        elif Pclass == 2:\n",
    "            return 30\n",
    "\n",
    "        else:\n",
    "            return 25\n",
    "\n",
    "    else:\n",
    "        return Age"
   ]
  },
  {
   "cell_type": "code",
   "execution_count": 22,
   "id": "1c0c1d75",
   "metadata": {},
   "outputs": [],
   "source": [
    "tit_data_clean['Age'] = tit_data_clean[['Age','Pclass']].apply(impute_age,axis=1)\n"
   ]
  },
  {
   "cell_type": "code",
   "execution_count": 25,
   "id": "f97a98e5",
   "metadata": {},
   "outputs": [
    {
     "data": {
      "text/plain": [
       "<AxesSubplot:>"
      ]
     },
     "execution_count": 25,
     "metadata": {},
     "output_type": "execute_result"
    },
    {
     "data": {
      "image/png": "[encoded data removed]",
      "text/plain": [
       "<Figure size 432x288 with 1 Axes>"
      ]
     },
     "metadata": {
      "needs_background": "light"
     },
     "output_type": "display_data"
    }
   ],
   "source": [
    "sns.heatmap(tit_data_clean.isnull(),yticklabels=False,cbar=False,cmap='seismic_r')\n"
   ]
  },
  {
   "cell_type": "markdown",
   "id": "42141be0",
   "metadata": {},
   "source": [
    "# Exploratory Data Analysis (EDA)\n",
    "We might perform other steps of data cleaning during the EDA."
   ]
  },
  {
   "cell_type": "code",
   "execution_count": 26,
   "id": "b3edad3f",
   "metadata": {},
   "outputs": [
    {
     "data": {
      "text/html": [
       "<div>\n",
       "<style scoped>\n",
       "    .dataframe tbody tr th:only-of-type {\n",
       "        vertical-align: middle;\n",
       "    }\n",
       "\n",
       "    .dataframe tbody tr th {\n",
       "        vertical-align: top;\n",
       "    }\n",
       "\n",
       "    .dataframe thead th {\n",
       "        text-align: right;\n",
       "    }\n",
       "</style>\n",
       "<table border=\"1\" class=\"dataframe\">\n",
       "  <thead>\n",
       "    <tr style=\"text-align: right;\">\n",
       "      <th></th>\n",
       "      <th>PassengerId</th>\n",
       "      <th>Survived</th>\n",
       "      <th>Pclass</th>\n",
       "      <th>Name</th>\n",
       "      <th>Sex</th>\n",
       "      <th>Age</th>\n",
       "      <th>SibSp</th>\n",
       "      <th>Parch</th>\n",
       "      <th>Ticket</th>\n",
       "      <th>Fare</th>\n",
       "      <th>Embarked</th>\n",
       "    </tr>\n",
       "  </thead>\n",
       "  <tbody>\n",
       "    <tr>\n",
       "      <th>0</th>\n",
       "      <td>1</td>\n",
       "      <td>0</td>\n",
       "      <td>3</td>\n",
       "      <td>Braund, Mr. Owen Harris</td>\n",
       "      <td>male</td>\n",
       "      <td>22.0</td>\n",
       "      <td>1</td>\n",
       "      <td>0</td>\n",
       "      <td>A/5 21171</td>\n",
       "      <td>7.2500</td>\n",
       "      <td>S</td>\n",
       "    </tr>\n",
       "    <tr>\n",
       "      <th>1</th>\n",
       "      <td>2</td>\n",
       "      <td>1</td>\n",
       "      <td>1</td>\n",
       "      <td>Cumings, Mrs. John Bradley (Florence Briggs Th...</td>\n",
       "      <td>female</td>\n",
       "      <td>38.0</td>\n",
       "      <td>1</td>\n",
       "      <td>0</td>\n",
       "      <td>PC 17599</td>\n",
       "      <td>71.2833</td>\n",
       "      <td>C</td>\n",
       "    </tr>\n",
       "    <tr>\n",
       "      <th>2</th>\n",
       "      <td>3</td>\n",
       "      <td>1</td>\n",
       "      <td>3</td>\n",
       "      <td>Heikkinen, Miss. Laina</td>\n",
       "      <td>female</td>\n",
       "      <td>26.0</td>\n",
       "      <td>0</td>\n",
       "      <td>0</td>\n",
       "      <td>STON/O2. 3101282</td>\n",
       "      <td>7.9250</td>\n",
       "      <td>S</td>\n",
       "    </tr>\n",
       "    <tr>\n",
       "      <th>3</th>\n",
       "      <td>4</td>\n",
       "      <td>1</td>\n",
       "      <td>1</td>\n",
       "      <td>Futrelle, Mrs. Jacques Heath (Lily May Peel)</td>\n",
       "      <td>female</td>\n",
       "      <td>35.0</td>\n",
       "      <td>1</td>\n",
       "      <td>0</td>\n",
       "      <td>113803</td>\n",
       "      <td>53.1000</td>\n",
       "      <td>S</td>\n",
       "    </tr>\n",
       "    <tr>\n",
       "      <th>4</th>\n",
       "      <td>5</td>\n",
       "      <td>0</td>\n",
       "      <td>3</td>\n",
       "      <td>Allen, Mr. William Henry</td>\n",
       "      <td>male</td>\n",
       "      <td>35.0</td>\n",
       "      <td>0</td>\n",
       "      <td>0</td>\n",
       "      <td>373450</td>\n",
       "      <td>8.0500</td>\n",
       "      <td>S</td>\n",
       "    </tr>\n",
       "  </tbody>\n",
       "</table>\n",
       "</div>"
      ],
      "text/plain": [
       "   PassengerId  Survived  Pclass  \\\n",
       "0            1         0       3   \n",
       "1            2         1       1   \n",
       "2            3         1       3   \n",
       "3            4         1       1   \n",
       "4            5         0       3   \n",
       "\n",
       "                                                Name     Sex   Age  SibSp  \\\n",
       "0                            Braund, Mr. Owen Harris    male  22.0      1   \n",
       "1  Cumings, Mrs. John Bradley (Florence Briggs Th...  female  38.0      1   \n",
       "2                             Heikkinen, Miss. Laina  female  26.0      0   \n",
       "3       Futrelle, Mrs. Jacques Heath (Lily May Peel)  female  35.0      1   \n",
       "4                           Allen, Mr. William Henry    male  35.0      0   \n",
       "\n",
       "   Parch            Ticket     Fare Embarked  \n",
       "0      0         A/5 21171   7.2500        S  \n",
       "1      0          PC 17599  71.2833        C  \n",
       "2      0  STON/O2. 3101282   7.9250        S  \n",
       "3      0            113803  53.1000        S  \n",
       "4      0            373450   8.0500        S  "
      ]
     },
     "execution_count": 26,
     "metadata": {},
     "output_type": "execute_result"
    }
   ],
   "source": [
    "tit_data_clean.head()\n"
   ]
  },
  {
   "cell_type": "code",
   "execution_count": 27,
   "id": "dd882b46",
   "metadata": {},
   "outputs": [
    {
     "data": {
      "text/plain": [
       "<seaborn.axisgrid.PairGrid at 0x1f020bbaf40>"
      ]
     },
     "execution_count": 27,
     "metadata": {},
     "output_type": "execute_result"
    },
    {
     "data": {
      "image/png": "[encoded data removed]",
      "text/plain": [
       "<Figure size 1131.88x1080 with 42 Axes>"
      ]
     },
     "metadata": {
      "needs_background": "light"
     },
     "output_type": "display_data"
    }
   ],
   "source": [
    "sns.pairplot(tit_data_clean,hue=\"Survived\",plot_kws={'palette':'Dark2','alpha':1})\n"
   ]
  },
  {
   "cell_type": "markdown",
   "id": "690294f4",
   "metadata": {},
   "source": [
    "I will have a look in more details at some numerical features."
   ]
  },
  {
   "cell_type": "markdown",
   "id": "0b999dba",
   "metadata": {},
   "source": [
    "# NUMERICAL FEATURES\n",
    "\n",
    "Age"
   ]
  },
  {
   "cell_type": "code",
   "execution_count": 28,
   "id": "e1a7bd09",
   "metadata": {},
   "outputs": [
    {
     "data": {
      "text/html": [
       "<div>\n",
       "<style scoped>\n",
       "    .dataframe tbody tr th:only-of-type {\n",
       "        vertical-align: middle;\n",
       "    }\n",
       "\n",
       "    .dataframe tbody tr th {\n",
       "        vertical-align: top;\n",
       "    }\n",
       "\n",
       "    .dataframe thead th {\n",
       "        text-align: right;\n",
       "    }\n",
       "</style>\n",
       "<table border=\"1\" class=\"dataframe\">\n",
       "  <thead>\n",
       "    <tr style=\"text-align: right;\">\n",
       "      <th></th>\n",
       "      <th>PassengerId</th>\n",
       "      <th>Survived</th>\n",
       "      <th>Pclass</th>\n",
       "      <th>Name</th>\n",
       "      <th>Sex</th>\n",
       "      <th>Age</th>\n",
       "      <th>SibSp</th>\n",
       "      <th>Parch</th>\n",
       "      <th>Ticket</th>\n",
       "      <th>Fare</th>\n",
       "      <th>Embarked</th>\n",
       "    </tr>\n",
       "  </thead>\n",
       "  <tbody>\n",
       "    <tr>\n",
       "      <th>0</th>\n",
       "      <td>1</td>\n",
       "      <td>0</td>\n",
       "      <td>3</td>\n",
       "      <td>Braund, Mr. Owen Harris</td>\n",
       "      <td>male</td>\n",
       "      <td>22.0</td>\n",
       "      <td>1</td>\n",
       "      <td>0</td>\n",
       "      <td>A/5 21171</td>\n",
       "      <td>7.2500</td>\n",
       "      <td>S</td>\n",
       "    </tr>\n",
       "    <tr>\n",
       "      <th>1</th>\n",
       "      <td>2</td>\n",
       "      <td>1</td>\n",
       "      <td>1</td>\n",
       "      <td>Cumings, Mrs. John Bradley (Florence Briggs Th...</td>\n",
       "      <td>female</td>\n",
       "      <td>38.0</td>\n",
       "      <td>1</td>\n",
       "      <td>0</td>\n",
       "      <td>PC 17599</td>\n",
       "      <td>71.2833</td>\n",
       "      <td>C</td>\n",
       "    </tr>\n",
       "    <tr>\n",
       "      <th>2</th>\n",
       "      <td>3</td>\n",
       "      <td>1</td>\n",
       "      <td>3</td>\n",
       "      <td>Heikkinen, Miss. Laina</td>\n",
       "      <td>female</td>\n",
       "      <td>26.0</td>\n",
       "      <td>0</td>\n",
       "      <td>0</td>\n",
       "      <td>STON/O2. 3101282</td>\n",
       "      <td>7.9250</td>\n",
       "      <td>S</td>\n",
       "    </tr>\n",
       "    <tr>\n",
       "      <th>3</th>\n",
       "      <td>4</td>\n",
       "      <td>1</td>\n",
       "      <td>1</td>\n",
       "      <td>Futrelle, Mrs. Jacques Heath (Lily May Peel)</td>\n",
       "      <td>female</td>\n",
       "      <td>35.0</td>\n",
       "      <td>1</td>\n",
       "      <td>0</td>\n",
       "      <td>113803</td>\n",
       "      <td>53.1000</td>\n",
       "      <td>S</td>\n",
       "    </tr>\n",
       "    <tr>\n",
       "      <th>4</th>\n",
       "      <td>5</td>\n",
       "      <td>0</td>\n",
       "      <td>3</td>\n",
       "      <td>Allen, Mr. William Henry</td>\n",
       "      <td>male</td>\n",
       "      <td>35.0</td>\n",
       "      <td>0</td>\n",
       "      <td>0</td>\n",
       "      <td>373450</td>\n",
       "      <td>8.0500</td>\n",
       "      <td>S</td>\n",
       "    </tr>\n",
       "  </tbody>\n",
       "</table>\n",
       "</div>"
      ],
      "text/plain": [
       "   PassengerId  Survived  Pclass  \\\n",
       "0            1         0       3   \n",
       "1            2         1       1   \n",
       "2            3         1       3   \n",
       "3            4         1       1   \n",
       "4            5         0       3   \n",
       "\n",
       "                                                Name     Sex   Age  SibSp  \\\n",
       "0                            Braund, Mr. Owen Harris    male  22.0      1   \n",
       "1  Cumings, Mrs. John Bradley (Florence Briggs Th...  female  38.0      1   \n",
       "2                             Heikkinen, Miss. Laina  female  26.0      0   \n",
       "3       Futrelle, Mrs. Jacques Heath (Lily May Peel)  female  35.0      1   \n",
       "4                           Allen, Mr. William Henry    male  35.0      0   \n",
       "\n",
       "   Parch            Ticket     Fare Embarked  \n",
       "0      0         A/5 21171   7.2500        S  \n",
       "1      0          PC 17599  71.2833        C  \n",
       "2      0  STON/O2. 3101282   7.9250        S  \n",
       "3      0            113803  53.1000        S  \n",
       "4      0            373450   8.0500        S  "
      ]
     },
     "execution_count": 28,
     "metadata": {},
     "output_type": "execute_result"
    }
   ],
   "source": [
    "tit_data_clean.head()\n"
   ]
  },
  {
   "cell_type": "code",
   "execution_count": 30,
   "id": "fb810639",
   "metadata": {},
   "outputs": [
    {
     "data": {
      "text/plain": [
       "<AxesSubplot:xlabel='Age'>"
      ]
     },
     "execution_count": 30,
     "metadata": {},
     "output_type": "execute_result"
    },
    {
     "data": {
      "image/png": "[encoded data removed]",
      "text/plain": [
       "<Figure size 432x288 with 1 Axes>"
      ]
     },
     "metadata": {
      "needs_background": "light"
     },
     "output_type": "display_data"
    }
   ],
   "source": [
    "sns.distplot(tit_data_clean['Age'],kde=False,bins=50,hist_kws={'color':'red','alpha':0.8})\n"
   ]
  },
  {
   "cell_type": "markdown",
   "id": "ebb0af35",
   "metadata": {},
   "source": [
    "Having a look at this chart, I would like to know if the age had any impact on being a survivor or not. Therefore, I will transform these numerical values into categorical values in order to determine if any category was spared more than another."
   ]
  },
  {
   "cell_type": "code",
   "execution_count": 33,
   "id": "eb4773ff",
   "metadata": {},
   "outputs": [
    {
     "name": "stderr",
     "output_type": "stream",
     "text": [
      "C:\\Users\\hp\\AppData\\Local\\Temp/ipykernel_18200/907715142.py:8: SettingWithCopyWarning: \n",
      "A value is trying to be set on a copy of a slice from a DataFrame\n",
      "\n",
      "See the caveats in the documentation: https://pandas.pydata.org/pandas-docs/stable/user_guide/indexing.html#returning-a-view-versus-a-copy\n",
      "  tit_data_clean['Age_cat'][i]='21-30'\n"
     ]
    }
   ],
   "source": [
    "tit_data_clean['Age_cat']=0\n",
    "for i in range(0,tit_data_clean.shape[0]):\n",
    "    if tit_data_clean['Age'][i]<=10:\n",
    "        tit_data_clean['Age_cat'][i]='0-10'\n",
    "    elif tit_data_clean['Age'][i]>10 and tit_data_clean['Age'][i]<=20:\n",
    "        tit_data_clean['Age_cat'][i]='11-20'\n",
    "    elif tit_data_clean['Age'][i]>20 and tit_data_clean['Age'][i]<=30:\n",
    "        tit_data_clean['Age_cat'][i]='21-30'\n",
    "    elif tit_data_clean['Age'][i]>30 and tit_data_clean['Age'][i]<=40:\n",
    "        tit_data_clean['Age_cat'][i]='31-40'\n",
    "    elif tit_data_clean['Age'][i]>40 and tit_data_clean['Age'][i]<=50:\n",
    "        tit_data_clean['Age_cat'][i]='41-50'       \n",
    "    elif tit_data_clean['Age'][i]>50 and tit_data_clean['Age'][i]<=60:\n",
    "        tit_data_clean['Age_cat'][i]='51-60'\n",
    "    elif tit_data_clean['Age'][i]>60 and tit_data_clean['Age'][i]<=70:\n",
    "        tit_data_clean['Age_cat'][i]='61-70'\n",
    "    elif tit_data_clean['Age'][i]>70 and tit_data_clean['Age'][i]<=80:\n",
    "        tit_data_clean['Age_cat'][i]='71-80'"
   ]
  },
  {
   "cell_type": "code",
   "execution_count": 35,
   "id": "fcf6091c",
   "metadata": {},
   "outputs": [
    {
     "data": {
      "text/plain": [
       "<seaborn.axisgrid.FacetGrid at 0x1f02304bca0>"
      ]
     },
     "execution_count": 35,
     "metadata": {},
     "output_type": "execute_result"
    },
    {
     "data": {
      "image/png": "[encoded data removed]",
      "text/plain": [
       "<Figure size 360x360 with 1 Axes>"
      ]
     },
     "metadata": {
      "needs_background": "light"
     },
     "output_type": "display_data"
    }
   ],
   "source": [
    "sns.catplot(x='Age_cat',data=tit_data_clean,kind='count',order=['0-10','11-20','21-30','31-40','41-50','51-60','61-70','71-80'],palette='viridis')\n"
   ]
  },
  {
   "cell_type": "code",
   "execution_count": 36,
   "id": "bc8c572c",
   "metadata": {},
   "outputs": [
    {
     "data": {
      "text/plain": [
       "<seaborn.axisgrid.FacetGrid at 0x1f0230fbbe0>"
      ]
     },
     "execution_count": 36,
     "metadata": {},
     "output_type": "execute_result"
    },
    {
     "data": {
      "image/png": "[encoded data removed]",
      "text/plain": [
       "<Figure size 360x360 with 1 Axes>"
      ]
     },
     "metadata": {
      "needs_background": "light"
     },
     "output_type": "display_data"
    }
   ],
   "source": [
    "sns.catplot(x='Age_cat',y='Survived',data=tit_data_clean,kind='bar',order=['0-10','11-20','21-30','31-40','41-50','51-60','61-70','71-80'],palette='viridis')\n"
   ]
  },
  {
   "cell_type": "markdown",
   "id": "8c458521",
   "metadata": {},
   "source": [
    "On average, it looks like babies and kids had more chance to survive."
   ]
  },
  {
   "cell_type": "code",
   "execution_count": 38,
   "id": "2a595e0a",
   "metadata": {},
   "outputs": [
    {
     "data": {
      "text/plain": [
       "<seaborn.axisgrid.FacetGrid at 0x1f0230fbc70>"
      ]
     },
     "execution_count": 38,
     "metadata": {},
     "output_type": "execute_result"
    },
    {
     "data": {
      "image/png": "[encoded data removed]",
      "text/plain": [
       "<Figure size 430.5x360 with 1 Axes>"
      ]
     },
     "metadata": {
      "needs_background": "light"
     },
     "output_type": "display_data"
    }
   ],
   "source": [
    "sns.catplot(x='Age_cat',y='Survived',data=tit_data_clean,kind='bar',hue='Sex',order=['0-10','11-20','21-30','31-40','41-50','51-60','61-70','71-80'],palette='cividis')\n"
   ]
  },
  {
   "cell_type": "markdown",
   "id": "03d9edd2",
   "metadata": {},
   "source": [
    "On this chart we see that on average females between 61 and 70 y.o were more likely to survive than the other categories. For males, it is clear that young kids between 0 and 10 y.o were more likely to survive."
   ]
  },
  {
   "cell_type": "markdown",
   "id": "6aff1d24",
   "metadata": {},
   "source": [
    "# SibSp + Parch"
   ]
  },
  {
   "cell_type": "code",
   "execution_count": 39,
   "id": "25b0464a",
   "metadata": {},
   "outputs": [
    {
     "data": {
      "text/html": [
       "<div>\n",
       "<style scoped>\n",
       "    .dataframe tbody tr th:only-of-type {\n",
       "        vertical-align: middle;\n",
       "    }\n",
       "\n",
       "    .dataframe tbody tr th {\n",
       "        vertical-align: top;\n",
       "    }\n",
       "\n",
       "    .dataframe thead th {\n",
       "        text-align: right;\n",
       "    }\n",
       "</style>\n",
       "<table border=\"1\" class=\"dataframe\">\n",
       "  <thead>\n",
       "    <tr style=\"text-align: right;\">\n",
       "      <th></th>\n",
       "      <th>PassengerId</th>\n",
       "      <th>Survived</th>\n",
       "      <th>Pclass</th>\n",
       "      <th>Name</th>\n",
       "      <th>Sex</th>\n",
       "      <th>Age</th>\n",
       "      <th>SibSp</th>\n",
       "      <th>Parch</th>\n",
       "      <th>Ticket</th>\n",
       "      <th>Fare</th>\n",
       "      <th>Embarked</th>\n",
       "      <th>Age_cat</th>\n",
       "    </tr>\n",
       "  </thead>\n",
       "  <tbody>\n",
       "    <tr>\n",
       "      <th>0</th>\n",
       "      <td>1</td>\n",
       "      <td>0</td>\n",
       "      <td>3</td>\n",
       "      <td>Braund, Mr. Owen Harris</td>\n",
       "      <td>male</td>\n",
       "      <td>22.0</td>\n",
       "      <td>1</td>\n",
       "      <td>0</td>\n",
       "      <td>A/5 21171</td>\n",
       "      <td>7.2500</td>\n",
       "      <td>S</td>\n",
       "      <td>21-30</td>\n",
       "    </tr>\n",
       "    <tr>\n",
       "      <th>1</th>\n",
       "      <td>2</td>\n",
       "      <td>1</td>\n",
       "      <td>1</td>\n",
       "      <td>Cumings, Mrs. John Bradley (Florence Briggs Th...</td>\n",
       "      <td>female</td>\n",
       "      <td>38.0</td>\n",
       "      <td>1</td>\n",
       "      <td>0</td>\n",
       "      <td>PC 17599</td>\n",
       "      <td>71.2833</td>\n",
       "      <td>C</td>\n",
       "      <td>31-40</td>\n",
       "    </tr>\n",
       "    <tr>\n",
       "      <th>2</th>\n",
       "      <td>3</td>\n",
       "      <td>1</td>\n",
       "      <td>3</td>\n",
       "      <td>Heikkinen, Miss. Laina</td>\n",
       "      <td>female</td>\n",
       "      <td>26.0</td>\n",
       "      <td>0</td>\n",
       "      <td>0</td>\n",
       "      <td>STON/O2. 3101282</td>\n",
       "      <td>7.9250</td>\n",
       "      <td>S</td>\n",
       "      <td>21-30</td>\n",
       "    </tr>\n",
       "    <tr>\n",
       "      <th>3</th>\n",
       "      <td>4</td>\n",
       "      <td>1</td>\n",
       "      <td>1</td>\n",
       "      <td>Futrelle, Mrs. Jacques Heath (Lily May Peel)</td>\n",
       "      <td>female</td>\n",
       "      <td>35.0</td>\n",
       "      <td>1</td>\n",
       "      <td>0</td>\n",
       "      <td>113803</td>\n",
       "      <td>53.1000</td>\n",
       "      <td>S</td>\n",
       "      <td>31-40</td>\n",
       "    </tr>\n",
       "    <tr>\n",
       "      <th>4</th>\n",
       "      <td>5</td>\n",
       "      <td>0</td>\n",
       "      <td>3</td>\n",
       "      <td>Allen, Mr. William Henry</td>\n",
       "      <td>male</td>\n",
       "      <td>35.0</td>\n",
       "      <td>0</td>\n",
       "      <td>0</td>\n",
       "      <td>373450</td>\n",
       "      <td>8.0500</td>\n",
       "      <td>S</td>\n",
       "      <td>31-40</td>\n",
       "    </tr>\n",
       "  </tbody>\n",
       "</table>\n",
       "</div>"
      ],
      "text/plain": [
       "   PassengerId  Survived  Pclass  \\\n",
       "0            1         0       3   \n",
       "1            2         1       1   \n",
       "2            3         1       3   \n",
       "3            4         1       1   \n",
       "4            5         0       3   \n",
       "\n",
       "                                                Name     Sex   Age  SibSp  \\\n",
       "0                            Braund, Mr. Owen Harris    male  22.0      1   \n",
       "1  Cumings, Mrs. John Bradley (Florence Briggs Th...  female  38.0      1   \n",
       "2                             Heikkinen, Miss. Laina  female  26.0      0   \n",
       "3       Futrelle, Mrs. Jacques Heath (Lily May Peel)  female  35.0      1   \n",
       "4                           Allen, Mr. William Henry    male  35.0      0   \n",
       "\n",
       "   Parch            Ticket     Fare Embarked Age_cat  \n",
       "0      0         A/5 21171   7.2500        S   21-30  \n",
       "1      0          PC 17599  71.2833        C   31-40  \n",
       "2      0  STON/O2. 3101282   7.9250        S   21-30  \n",
       "3      0            113803  53.1000        S   31-40  \n",
       "4      0            373450   8.0500        S   31-40  "
      ]
     },
     "execution_count": 39,
     "metadata": {},
     "output_type": "execute_result"
    }
   ],
   "source": [
    "tit_data_clean.head()"
   ]
  },
  {
   "cell_type": "code",
   "execution_count": 40,
   "id": "2cc6ebf4",
   "metadata": {},
   "outputs": [
    {
     "name": "stderr",
     "output_type": "stream",
     "text": [
      "C:\\Users\\hp\\anaconda3\\lib\\site-packages\\seaborn\\axisgrid.py:670: UserWarning: Using the countplot function without specifying `order` is likely to produce an incorrect plot.\n",
      "  warnings.warn(warning)\n"
     ]
    },
    {
     "data": {
      "text/plain": [
       "<seaborn.axisgrid.FacetGrid at 0x1f0231b3c70>"
      ]
     },
     "execution_count": 40,
     "metadata": {},
     "output_type": "execute_result"
    },
    {
     "data": {
      "image/png": "[encoded data removed]",
      "text/plain": [
       "<Figure size 771.875x360 with 2 Axes>"
      ]
     },
     "metadata": {
      "needs_background": "light"
     },
     "output_type": "display_data"
    }
   ],
   "source": [
    "tit_data_clean['Family Size'] = tit_data_clean['SibSp'] + tit_data_clean['Parch']\n",
    "sns.FacetGrid(tit_data_clean,col='Sex',hue='Survived',height=5,palette='cividis').map(sns.countplot,'Family Size').add_legend()\n"
   ]
  },
  {
   "cell_type": "markdown",
   "id": "7106af33",
   "metadata": {},
   "source": [
    "These two graphs are very insightful:\n",
    "\n",
    "*On the one hand, all females survived if they were either alone, or having a family between 1 and 3 people.\n",
    "\n",
    "*On the other hand, males were less likely to survive if they were alone or having a family of 1 person (spouse?). Between 2 and 4 persons in the family, they had more chance to survive.\n"
   ]
  },
  {
   "cell_type": "markdown",
   "id": "746eab81",
   "metadata": {},
   "source": [
    "# Fare"
   ]
  },
  {
   "cell_type": "code",
   "execution_count": 41,
   "id": "e47e7ad2",
   "metadata": {},
   "outputs": [
    {
     "data": {
      "text/html": [
       "<div>\n",
       "<style scoped>\n",
       "    .dataframe tbody tr th:only-of-type {\n",
       "        vertical-align: middle;\n",
       "    }\n",
       "\n",
       "    .dataframe tbody tr th {\n",
       "        vertical-align: top;\n",
       "    }\n",
       "\n",
       "    .dataframe thead th {\n",
       "        text-align: right;\n",
       "    }\n",
       "</style>\n",
       "<table border=\"1\" class=\"dataframe\">\n",
       "  <thead>\n",
       "    <tr style=\"text-align: right;\">\n",
       "      <th></th>\n",
       "      <th>PassengerId</th>\n",
       "      <th>Survived</th>\n",
       "      <th>Pclass</th>\n",
       "      <th>Name</th>\n",
       "      <th>Sex</th>\n",
       "      <th>Age</th>\n",
       "      <th>SibSp</th>\n",
       "      <th>Parch</th>\n",
       "      <th>Ticket</th>\n",
       "      <th>Fare</th>\n",
       "      <th>Embarked</th>\n",
       "      <th>Age_cat</th>\n",
       "      <th>Family Size</th>\n",
       "    </tr>\n",
       "  </thead>\n",
       "  <tbody>\n",
       "    <tr>\n",
       "      <th>0</th>\n",
       "      <td>1</td>\n",
       "      <td>0</td>\n",
       "      <td>3</td>\n",
       "      <td>Braund, Mr. Owen Harris</td>\n",
       "      <td>male</td>\n",
       "      <td>22.0</td>\n",
       "      <td>1</td>\n",
       "      <td>0</td>\n",
       "      <td>A/5 21171</td>\n",
       "      <td>7.2500</td>\n",
       "      <td>S</td>\n",
       "      <td>21-30</td>\n",
       "      <td>1</td>\n",
       "    </tr>\n",
       "    <tr>\n",
       "      <th>1</th>\n",
       "      <td>2</td>\n",
       "      <td>1</td>\n",
       "      <td>1</td>\n",
       "      <td>Cumings, Mrs. John Bradley (Florence Briggs Th...</td>\n",
       "      <td>female</td>\n",
       "      <td>38.0</td>\n",
       "      <td>1</td>\n",
       "      <td>0</td>\n",
       "      <td>PC 17599</td>\n",
       "      <td>71.2833</td>\n",
       "      <td>C</td>\n",
       "      <td>31-40</td>\n",
       "      <td>1</td>\n",
       "    </tr>\n",
       "    <tr>\n",
       "      <th>2</th>\n",
       "      <td>3</td>\n",
       "      <td>1</td>\n",
       "      <td>3</td>\n",
       "      <td>Heikkinen, Miss. Laina</td>\n",
       "      <td>female</td>\n",
       "      <td>26.0</td>\n",
       "      <td>0</td>\n",
       "      <td>0</td>\n",
       "      <td>STON/O2. 3101282</td>\n",
       "      <td>7.9250</td>\n",
       "      <td>S</td>\n",
       "      <td>21-30</td>\n",
       "      <td>0</td>\n",
       "    </tr>\n",
       "    <tr>\n",
       "      <th>3</th>\n",
       "      <td>4</td>\n",
       "      <td>1</td>\n",
       "      <td>1</td>\n",
       "      <td>Futrelle, Mrs. Jacques Heath (Lily May Peel)</td>\n",
       "      <td>female</td>\n",
       "      <td>35.0</td>\n",
       "      <td>1</td>\n",
       "      <td>0</td>\n",
       "      <td>113803</td>\n",
       "      <td>53.1000</td>\n",
       "      <td>S</td>\n",
       "      <td>31-40</td>\n",
       "      <td>1</td>\n",
       "    </tr>\n",
       "    <tr>\n",
       "      <th>4</th>\n",
       "      <td>5</td>\n",
       "      <td>0</td>\n",
       "      <td>3</td>\n",
       "      <td>Allen, Mr. William Henry</td>\n",
       "      <td>male</td>\n",
       "      <td>35.0</td>\n",
       "      <td>0</td>\n",
       "      <td>0</td>\n",
       "      <td>373450</td>\n",
       "      <td>8.0500</td>\n",
       "      <td>S</td>\n",
       "      <td>31-40</td>\n",
       "      <td>0</td>\n",
       "    </tr>\n",
       "  </tbody>\n",
       "</table>\n",
       "</div>"
      ],
      "text/plain": [
       "   PassengerId  Survived  Pclass  \\\n",
       "0            1         0       3   \n",
       "1            2         1       1   \n",
       "2            3         1       3   \n",
       "3            4         1       1   \n",
       "4            5         0       3   \n",
       "\n",
       "                                                Name     Sex   Age  SibSp  \\\n",
       "0                            Braund, Mr. Owen Harris    male  22.0      1   \n",
       "1  Cumings, Mrs. John Bradley (Florence Briggs Th...  female  38.0      1   \n",
       "2                             Heikkinen, Miss. Laina  female  26.0      0   \n",
       "3       Futrelle, Mrs. Jacques Heath (Lily May Peel)  female  35.0      1   \n",
       "4                           Allen, Mr. William Henry    male  35.0      0   \n",
       "\n",
       "   Parch            Ticket     Fare Embarked Age_cat  Family Size  \n",
       "0      0         A/5 21171   7.2500        S   21-30            1  \n",
       "1      0          PC 17599  71.2833        C   31-40            1  \n",
       "2      0  STON/O2. 3101282   7.9250        S   21-30            0  \n",
       "3      0            113803  53.1000        S   31-40            1  \n",
       "4      0            373450   8.0500        S   31-40            0  "
      ]
     },
     "execution_count": 41,
     "metadata": {},
     "output_type": "execute_result"
    }
   ],
   "source": [
    "tit_data_clean.head()"
   ]
  },
  {
   "cell_type": "code",
   "execution_count": 43,
   "id": "5d4066d9",
   "metadata": {},
   "outputs": [
    {
     "name": "stderr",
     "output_type": "stream",
     "text": [
      "C:\\Users\\hp\\anaconda3\\lib\\site-packages\\seaborn\\distributions.py:2619: FutureWarning: `distplot` is a deprecated function and will be removed in a future version. Please adapt your code to use either `displot` (a figure-level function with similar flexibility) or `histplot` (an axes-level function for histograms).\n",
      "  warnings.warn(msg, FutureWarning)\n"
     ]
    },
    {
     "data": {
      "text/plain": [
       "<seaborn.axisgrid.FacetGrid at 0x1f0238c2be0>"
      ]
     },
     "execution_count": 43,
     "metadata": {},
     "output_type": "execute_result"
    },
    {
     "data": {
      "image/png": "[encoded data removed]",
      "text/plain": [
       "<Figure size 728x720 with 4 Axes>"
      ]
     },
     "metadata": {
      "needs_background": "light"
     },
     "output_type": "display_data"
    }
   ],
   "source": [
    "sns.FacetGrid(tit_data_clean,row='Survived',col='Sex',height=5).map(sns.distplot,'Fare',kde=False,hist_kws={'color':'red','alpha':0.8}).add_legend()\n"
   ]
  },
  {
   "cell_type": "markdown",
   "id": "a4a306af",
   "metadata": {},
   "source": [
    "We notice here that the \"Fare\" data looks more spread if passengers survived."
   ]
  },
  {
   "cell_type": "code",
   "execution_count": 44,
   "id": "2d864485",
   "metadata": {},
   "outputs": [
    {
     "name": "stdout",
     "output_type": "stream",
     "text": [
      "Mean fare of men who survived: 40.82148440366974\n",
      "Mean fare of women who survived: 51.93857339055791\n",
      "Mean fare of men who did not survive: 21.960992948717944\n",
      "Mean fare of women who did not survive: 23.02438518518519\n"
     ]
    }
   ],
   "source": [
    "print('Mean fare of men who survived:',tit_data_clean[(tit_data_clean['Survived']==1) & (tit_data_clean['Sex']=='male')]['Fare'].mean())\n",
    "print('Mean fare of women who survived:',tit_data_clean[(tit_data_clean['Survived']==1) & (tit_data_clean['Sex']=='female')]['Fare'].mean())\n",
    "print('Mean fare of men who did not survive:',tit_data_clean[(tit_data_clean['Survived']==0) & (tit_data_clean['Sex']=='male')]['Fare'].mean())\n",
    "print('Mean fare of women who did not survive:',tit_data_clean[(tit_data_clean['Survived']==0) & (tit_data_clean['Sex']=='female')]['Fare'].mean())"
   ]
  },
  {
   "cell_type": "markdown",
   "id": "4e26f645",
   "metadata": {},
   "source": [
    "Looking at the mean for each category, it is quite clear that men and women who survived had on average a higher fare than those who did not survive.\n",
    "\n",
    "I will now look into categorical features."
   ]
  },
  {
   "cell_type": "markdown",
   "id": "f2d9d543",
   "metadata": {},
   "source": [
    "# CATEGORICAL FEATURES\n",
    "\n",
    "Sex"
   ]
  },
  {
   "cell_type": "code",
   "execution_count": 45,
   "id": "47cd88b2",
   "metadata": {},
   "outputs": [
    {
     "name": "stdout",
     "output_type": "stream",
     "text": [
      "65% of passengers are male.\n",
      "35% of passengers are female.\n"
     ]
    }
   ],
   "source": [
    "print(\"{0:.0%}\".format(tit_data_clean['Sex'].value_counts()[0]/tit_data.shape[0]),\"of passengers are male.\")\n",
    "print(\"{0:.0%}\".format(tit_data_clean['Sex'].value_counts()[1]/tit_data.shape[0]),\"of passengers are female.\")"
   ]
  },
  {
   "cell_type": "code",
   "execution_count": 52,
   "id": "99e40533",
   "metadata": {},
   "outputs": [
    {
     "data": {
      "text/plain": [
       "<seaborn.axisgrid.FacetGrid at 0x1f0255f9eb0>"
      ]
     },
     "execution_count": 52,
     "metadata": {},
     "output_type": "execute_result"
    },
    {
     "data": {
      "image/png": "[encoded data removed]",
      "text/plain": [
       "<Figure size 402.375x360 with 1 Axes>"
      ]
     },
     "metadata": {
      "needs_background": "light"
     },
     "output_type": "display_data"
    }
   ],
   "source": [
    "sns.catplot(x='Sex',y='Survived',data=tit_data_clean,kind='bar',hue=\"Pclass\",palette='plasma')"
   ]
  },
  {
   "cell_type": "markdown",
   "id": "5e844fd9",
   "metadata": {},
   "source": [
    "There are two main insights here:\n",
    "\n",
    "Males are on average less likely to survive than females.\n",
    "Third classes are less likely to survive than the others (huge gap between second and third class in female category)\n",
    " \n",
    "\n",
    "Even women from third class were more likely to survive than men from first class.\n",
    "\n",
    "We can imagine that \"Sex\" and \"Pclass\" will be important features for our model."
   ]
  },
  {
   "cell_type": "markdown",
   "id": "8ca58f68",
   "metadata": {},
   "source": [
    "# Embarked"
   ]
  },
  {
   "cell_type": "code",
   "execution_count": 53,
   "id": "5fd5812d",
   "metadata": {},
   "outputs": [
    {
     "data": {
      "text/html": [
       "<div>\n",
       "<style scoped>\n",
       "    .dataframe tbody tr th:only-of-type {\n",
       "        vertical-align: middle;\n",
       "    }\n",
       "\n",
       "    .dataframe tbody tr th {\n",
       "        vertical-align: top;\n",
       "    }\n",
       "\n",
       "    .dataframe thead th {\n",
       "        text-align: right;\n",
       "    }\n",
       "</style>\n",
       "<table border=\"1\" class=\"dataframe\">\n",
       "  <thead>\n",
       "    <tr style=\"text-align: right;\">\n",
       "      <th></th>\n",
       "      <th>PassengerId</th>\n",
       "      <th>Survived</th>\n",
       "      <th>Pclass</th>\n",
       "      <th>Name</th>\n",
       "      <th>Sex</th>\n",
       "      <th>Age</th>\n",
       "      <th>SibSp</th>\n",
       "      <th>Parch</th>\n",
       "      <th>Ticket</th>\n",
       "      <th>Fare</th>\n",
       "      <th>Embarked</th>\n",
       "      <th>Age_cat</th>\n",
       "      <th>Family Size</th>\n",
       "    </tr>\n",
       "  </thead>\n",
       "  <tbody>\n",
       "    <tr>\n",
       "      <th>0</th>\n",
       "      <td>1</td>\n",
       "      <td>0</td>\n",
       "      <td>3</td>\n",
       "      <td>Braund, Mr. Owen Harris</td>\n",
       "      <td>male</td>\n",
       "      <td>22.0</td>\n",
       "      <td>1</td>\n",
       "      <td>0</td>\n",
       "      <td>A/5 21171</td>\n",
       "      <td>7.2500</td>\n",
       "      <td>S</td>\n",
       "      <td>21-30</td>\n",
       "      <td>1</td>\n",
       "    </tr>\n",
       "    <tr>\n",
       "      <th>1</th>\n",
       "      <td>2</td>\n",
       "      <td>1</td>\n",
       "      <td>1</td>\n",
       "      <td>Cumings, Mrs. John Bradley (Florence Briggs Th...</td>\n",
       "      <td>female</td>\n",
       "      <td>38.0</td>\n",
       "      <td>1</td>\n",
       "      <td>0</td>\n",
       "      <td>PC 17599</td>\n",
       "      <td>71.2833</td>\n",
       "      <td>C</td>\n",
       "      <td>31-40</td>\n",
       "      <td>1</td>\n",
       "    </tr>\n",
       "    <tr>\n",
       "      <th>2</th>\n",
       "      <td>3</td>\n",
       "      <td>1</td>\n",
       "      <td>3</td>\n",
       "      <td>Heikkinen, Miss. Laina</td>\n",
       "      <td>female</td>\n",
       "      <td>26.0</td>\n",
       "      <td>0</td>\n",
       "      <td>0</td>\n",
       "      <td>STON/O2. 3101282</td>\n",
       "      <td>7.9250</td>\n",
       "      <td>S</td>\n",
       "      <td>21-30</td>\n",
       "      <td>0</td>\n",
       "    </tr>\n",
       "    <tr>\n",
       "      <th>3</th>\n",
       "      <td>4</td>\n",
       "      <td>1</td>\n",
       "      <td>1</td>\n",
       "      <td>Futrelle, Mrs. Jacques Heath (Lily May Peel)</td>\n",
       "      <td>female</td>\n",
       "      <td>35.0</td>\n",
       "      <td>1</td>\n",
       "      <td>0</td>\n",
       "      <td>113803</td>\n",
       "      <td>53.1000</td>\n",
       "      <td>S</td>\n",
       "      <td>31-40</td>\n",
       "      <td>1</td>\n",
       "    </tr>\n",
       "    <tr>\n",
       "      <th>4</th>\n",
       "      <td>5</td>\n",
       "      <td>0</td>\n",
       "      <td>3</td>\n",
       "      <td>Allen, Mr. William Henry</td>\n",
       "      <td>male</td>\n",
       "      <td>35.0</td>\n",
       "      <td>0</td>\n",
       "      <td>0</td>\n",
       "      <td>373450</td>\n",
       "      <td>8.0500</td>\n",
       "      <td>S</td>\n",
       "      <td>31-40</td>\n",
       "      <td>0</td>\n",
       "    </tr>\n",
       "  </tbody>\n",
       "</table>\n",
       "</div>"
      ],
      "text/plain": [
       "   PassengerId  Survived  Pclass  \\\n",
       "0            1         0       3   \n",
       "1            2         1       1   \n",
       "2            3         1       3   \n",
       "3            4         1       1   \n",
       "4            5         0       3   \n",
       "\n",
       "                                                Name     Sex   Age  SibSp  \\\n",
       "0                            Braund, Mr. Owen Harris    male  22.0      1   \n",
       "1  Cumings, Mrs. John Bradley (Florence Briggs Th...  female  38.0      1   \n",
       "2                             Heikkinen, Miss. Laina  female  26.0      0   \n",
       "3       Futrelle, Mrs. Jacques Heath (Lily May Peel)  female  35.0      1   \n",
       "4                           Allen, Mr. William Henry    male  35.0      0   \n",
       "\n",
       "   Parch            Ticket     Fare Embarked Age_cat  Family Size  \n",
       "0      0         A/5 21171   7.2500        S   21-30            1  \n",
       "1      0          PC 17599  71.2833        C   31-40            1  \n",
       "2      0  STON/O2. 3101282   7.9250        S   21-30            0  \n",
       "3      0            113803  53.1000        S   31-40            1  \n",
       "4      0            373450   8.0500        S   31-40            0  "
      ]
     },
     "execution_count": 53,
     "metadata": {},
     "output_type": "execute_result"
    }
   ],
   "source": [
    "tit_data_clean.head()\n"
   ]
  },
  {
   "cell_type": "code",
   "execution_count": 54,
   "id": "63b7d4c6",
   "metadata": {},
   "outputs": [
    {
     "name": "stdout",
     "output_type": "stream",
     "text": [
      "72% of passengers embarked from Southampton (S).\n",
      "19% of passengers embarked from Cherbourg (C).\n",
      "9% of passengers embarked from Queenstown (Q).\n"
     ]
    }
   ],
   "source": [
    "print(\"{0:.0%}\".format(tit_data_clean['Embarked'].value_counts()[0]/tit_data.shape[0]),\"of passengers embarked from Southampton (S).\") \n",
    "print(\"{0:.0%}\".format(tit_data_clean['Embarked'].value_counts()[1]/tit_data.shape[0]),\"of passengers embarked from Cherbourg (C).\") \n",
    "print(\"{0:.0%}\".format(tit_data_clean['Embarked'].value_counts()[2]/tit_data.shape[0]),\"of passengers embarked from Queenstown (Q).\") "
   ]
  },
  {
   "cell_type": "code",
   "execution_count": 55,
   "id": "483dda8a",
   "metadata": {},
   "outputs": [
    {
     "data": {
      "text/plain": [
       "<seaborn.axisgrid.FacetGrid at 0x1f023f988e0>"
      ]
     },
     "execution_count": 55,
     "metadata": {},
     "output_type": "execute_result"
    },
    {
     "data": {
      "image/png": "[encoded data removed]",
      "text/plain": [
       "<Figure size 360x360 with 1 Axes>"
      ]
     },
     "metadata": {
      "needs_background": "light"
     },
     "output_type": "display_data"
    }
   ],
   "source": [
    "sns.catplot(x='Embarked',y='Survived',data=tit_data_clean,kind='bar',palette='plasma')"
   ]
  },
  {
   "cell_type": "markdown",
   "id": "fa76dd69",
   "metadata": {},
   "source": [
    "Here is another insightful graph. It looks like passengers who embarked from Cherbourg were most likely to survive (on average)."
   ]
  },
  {
   "cell_type": "markdown",
   "id": "2d856ad7",
   "metadata": {},
   "source": [
    "# CORRELATIONS"
   ]
  },
  {
   "cell_type": "code",
   "execution_count": 56,
   "id": "c73c8052",
   "metadata": {},
   "outputs": [
    {
     "data": {
      "text/html": [
       "<div>\n",
       "<style scoped>\n",
       "    .dataframe tbody tr th:only-of-type {\n",
       "        vertical-align: middle;\n",
       "    }\n",
       "\n",
       "    .dataframe tbody tr th {\n",
       "        vertical-align: top;\n",
       "    }\n",
       "\n",
       "    .dataframe thead th {\n",
       "        text-align: right;\n",
       "    }\n",
       "</style>\n",
       "<table border=\"1\" class=\"dataframe\">\n",
       "  <thead>\n",
       "    <tr style=\"text-align: right;\">\n",
       "      <th></th>\n",
       "      <th>PassengerId</th>\n",
       "      <th>Survived</th>\n",
       "      <th>Pclass</th>\n",
       "      <th>Name</th>\n",
       "      <th>Sex</th>\n",
       "      <th>Age</th>\n",
       "      <th>SibSp</th>\n",
       "      <th>Parch</th>\n",
       "      <th>Ticket</th>\n",
       "      <th>Fare</th>\n",
       "      <th>Embarked</th>\n",
       "      <th>Age_cat</th>\n",
       "      <th>Family Size</th>\n",
       "    </tr>\n",
       "  </thead>\n",
       "  <tbody>\n",
       "    <tr>\n",
       "      <th>0</th>\n",
       "      <td>1</td>\n",
       "      <td>0</td>\n",
       "      <td>3</td>\n",
       "      <td>Braund, Mr. Owen Harris</td>\n",
       "      <td>male</td>\n",
       "      <td>22.0</td>\n",
       "      <td>1</td>\n",
       "      <td>0</td>\n",
       "      <td>A/5 21171</td>\n",
       "      <td>7.2500</td>\n",
       "      <td>S</td>\n",
       "      <td>21-30</td>\n",
       "      <td>1</td>\n",
       "    </tr>\n",
       "    <tr>\n",
       "      <th>1</th>\n",
       "      <td>2</td>\n",
       "      <td>1</td>\n",
       "      <td>1</td>\n",
       "      <td>Cumings, Mrs. John Bradley (Florence Briggs Th...</td>\n",
       "      <td>female</td>\n",
       "      <td>38.0</td>\n",
       "      <td>1</td>\n",
       "      <td>0</td>\n",
       "      <td>PC 17599</td>\n",
       "      <td>71.2833</td>\n",
       "      <td>C</td>\n",
       "      <td>31-40</td>\n",
       "      <td>1</td>\n",
       "    </tr>\n",
       "    <tr>\n",
       "      <th>2</th>\n",
       "      <td>3</td>\n",
       "      <td>1</td>\n",
       "      <td>3</td>\n",
       "      <td>Heikkinen, Miss. Laina</td>\n",
       "      <td>female</td>\n",
       "      <td>26.0</td>\n",
       "      <td>0</td>\n",
       "      <td>0</td>\n",
       "      <td>STON/O2. 3101282</td>\n",
       "      <td>7.9250</td>\n",
       "      <td>S</td>\n",
       "      <td>21-30</td>\n",
       "      <td>0</td>\n",
       "    </tr>\n",
       "    <tr>\n",
       "      <th>3</th>\n",
       "      <td>4</td>\n",
       "      <td>1</td>\n",
       "      <td>1</td>\n",
       "      <td>Futrelle, Mrs. Jacques Heath (Lily May Peel)</td>\n",
       "      <td>female</td>\n",
       "      <td>35.0</td>\n",
       "      <td>1</td>\n",
       "      <td>0</td>\n",
       "      <td>113803</td>\n",
       "      <td>53.1000</td>\n",
       "      <td>S</td>\n",
       "      <td>31-40</td>\n",
       "      <td>1</td>\n",
       "    </tr>\n",
       "    <tr>\n",
       "      <th>4</th>\n",
       "      <td>5</td>\n",
       "      <td>0</td>\n",
       "      <td>3</td>\n",
       "      <td>Allen, Mr. William Henry</td>\n",
       "      <td>male</td>\n",
       "      <td>35.0</td>\n",
       "      <td>0</td>\n",
       "      <td>0</td>\n",
       "      <td>373450</td>\n",
       "      <td>8.0500</td>\n",
       "      <td>S</td>\n",
       "      <td>31-40</td>\n",
       "      <td>0</td>\n",
       "    </tr>\n",
       "  </tbody>\n",
       "</table>\n",
       "</div>"
      ],
      "text/plain": [
       "   PassengerId  Survived  Pclass  \\\n",
       "0            1         0       3   \n",
       "1            2         1       1   \n",
       "2            3         1       3   \n",
       "3            4         1       1   \n",
       "4            5         0       3   \n",
       "\n",
       "                                                Name     Sex   Age  SibSp  \\\n",
       "0                            Braund, Mr. Owen Harris    male  22.0      1   \n",
       "1  Cumings, Mrs. John Bradley (Florence Briggs Th...  female  38.0      1   \n",
       "2                             Heikkinen, Miss. Laina  female  26.0      0   \n",
       "3       Futrelle, Mrs. Jacques Heath (Lily May Peel)  female  35.0      1   \n",
       "4                           Allen, Mr. William Henry    male  35.0      0   \n",
       "\n",
       "   Parch            Ticket     Fare Embarked Age_cat  Family Size  \n",
       "0      0         A/5 21171   7.2500        S   21-30            1  \n",
       "1      0          PC 17599  71.2833        C   31-40            1  \n",
       "2      0  STON/O2. 3101282   7.9250        S   21-30            0  \n",
       "3      0            113803  53.1000        S   31-40            1  \n",
       "4      0            373450   8.0500        S   31-40            0  "
      ]
     },
     "execution_count": 56,
     "metadata": {},
     "output_type": "execute_result"
    }
   ],
   "source": [
    "tit_data_clean.head()\n"
   ]
  },
  {
   "cell_type": "code",
   "execution_count": 57,
   "id": "ba86ff66",
   "metadata": {},
   "outputs": [
    {
     "data": {
      "text/html": [
       "<div>\n",
       "<style scoped>\n",
       "    .dataframe tbody tr th:only-of-type {\n",
       "        vertical-align: middle;\n",
       "    }\n",
       "\n",
       "    .dataframe tbody tr th {\n",
       "        vertical-align: top;\n",
       "    }\n",
       "\n",
       "    .dataframe thead th {\n",
       "        text-align: right;\n",
       "    }\n",
       "</style>\n",
       "<table border=\"1\" class=\"dataframe\">\n",
       "  <thead>\n",
       "    <tr style=\"text-align: right;\">\n",
       "      <th></th>\n",
       "      <th>PassengerId</th>\n",
       "      <th>Survived</th>\n",
       "      <th>Pclass</th>\n",
       "      <th>Age</th>\n",
       "      <th>SibSp</th>\n",
       "      <th>Parch</th>\n",
       "      <th>Fare</th>\n",
       "      <th>Family Size</th>\n",
       "    </tr>\n",
       "  </thead>\n",
       "  <tbody>\n",
       "    <tr>\n",
       "      <th>PassengerId</th>\n",
       "      <td>1.000000</td>\n",
       "      <td>-0.005007</td>\n",
       "      <td>-0.035144</td>\n",
       "      <td>0.035318</td>\n",
       "      <td>-0.057527</td>\n",
       "      <td>-0.001652</td>\n",
       "      <td>0.012658</td>\n",
       "      <td>-0.040143</td>\n",
       "    </tr>\n",
       "    <tr>\n",
       "      <th>Survived</th>\n",
       "      <td>-0.005007</td>\n",
       "      <td>1.000000</td>\n",
       "      <td>-0.338481</td>\n",
       "      <td>-0.050156</td>\n",
       "      <td>-0.035322</td>\n",
       "      <td>0.081629</td>\n",
       "      <td>0.257307</td>\n",
       "      <td>0.016639</td>\n",
       "    </tr>\n",
       "    <tr>\n",
       "      <th>Pclass</th>\n",
       "      <td>-0.035144</td>\n",
       "      <td>-0.338481</td>\n",
       "      <td>1.000000</td>\n",
       "      <td>-0.404262</td>\n",
       "      <td>0.083081</td>\n",
       "      <td>0.018443</td>\n",
       "      <td>-0.549500</td>\n",
       "      <td>0.065997</td>\n",
       "    </tr>\n",
       "    <tr>\n",
       "      <th>Age</th>\n",
       "      <td>0.035318</td>\n",
       "      <td>-0.050156</td>\n",
       "      <td>-0.404262</td>\n",
       "      <td>1.000000</td>\n",
       "      <td>-0.243549</td>\n",
       "      <td>-0.175264</td>\n",
       "      <td>0.121044</td>\n",
       "      <td>-0.254016</td>\n",
       "    </tr>\n",
       "    <tr>\n",
       "      <th>SibSp</th>\n",
       "      <td>-0.057527</td>\n",
       "      <td>-0.035322</td>\n",
       "      <td>0.083081</td>\n",
       "      <td>-0.243549</td>\n",
       "      <td>1.000000</td>\n",
       "      <td>0.414838</td>\n",
       "      <td>0.159651</td>\n",
       "      <td>0.890712</td>\n",
       "    </tr>\n",
       "    <tr>\n",
       "      <th>Parch</th>\n",
       "      <td>-0.001652</td>\n",
       "      <td>0.081629</td>\n",
       "      <td>0.018443</td>\n",
       "      <td>-0.175264</td>\n",
       "      <td>0.414838</td>\n",
       "      <td>1.000000</td>\n",
       "      <td>0.216225</td>\n",
       "      <td>0.783111</td>\n",
       "    </tr>\n",
       "    <tr>\n",
       "      <th>Fare</th>\n",
       "      <td>0.012658</td>\n",
       "      <td>0.257307</td>\n",
       "      <td>-0.549500</td>\n",
       "      <td>0.121044</td>\n",
       "      <td>0.159651</td>\n",
       "      <td>0.216225</td>\n",
       "      <td>1.000000</td>\n",
       "      <td>0.217138</td>\n",
       "    </tr>\n",
       "    <tr>\n",
       "      <th>Family Size</th>\n",
       "      <td>-0.040143</td>\n",
       "      <td>0.016639</td>\n",
       "      <td>0.065997</td>\n",
       "      <td>-0.254016</td>\n",
       "      <td>0.890712</td>\n",
       "      <td>0.783111</td>\n",
       "      <td>0.217138</td>\n",
       "      <td>1.000000</td>\n",
       "    </tr>\n",
       "  </tbody>\n",
       "</table>\n",
       "</div>"
      ],
      "text/plain": [
       "             PassengerId  Survived    Pclass       Age     SibSp     Parch  \\\n",
       "PassengerId     1.000000 -0.005007 -0.035144  0.035318 -0.057527 -0.001652   \n",
       "Survived       -0.005007  1.000000 -0.338481 -0.050156 -0.035322  0.081629   \n",
       "Pclass         -0.035144 -0.338481  1.000000 -0.404262  0.083081  0.018443   \n",
       "Age             0.035318 -0.050156 -0.404262  1.000000 -0.243549 -0.175264   \n",
       "SibSp          -0.057527 -0.035322  0.083081 -0.243549  1.000000  0.414838   \n",
       "Parch          -0.001652  0.081629  0.018443 -0.175264  0.414838  1.000000   \n",
       "Fare            0.012658  0.257307 -0.549500  0.121044  0.159651  0.216225   \n",
       "Family Size    -0.040143  0.016639  0.065997 -0.254016  0.890712  0.783111   \n",
       "\n",
       "                 Fare  Family Size  \n",
       "PassengerId  0.012658    -0.040143  \n",
       "Survived     0.257307     0.016639  \n",
       "Pclass      -0.549500     0.065997  \n",
       "Age          0.121044    -0.254016  \n",
       "SibSp        0.159651     0.890712  \n",
       "Parch        0.216225     0.783111  \n",
       "Fare         1.000000     0.217138  \n",
       "Family Size  0.217138     1.000000  "
      ]
     },
     "execution_count": 57,
     "metadata": {},
     "output_type": "execute_result"
    }
   ],
   "source": [
    "tit_data_clean.corr()\n"
   ]
  },
  {
   "cell_type": "markdown",
   "id": "e853f2ad",
   "metadata": {},
   "source": [
    "Let's create a heatmap to visualize the data better."
   ]
  },
  {
   "cell_type": "code",
   "execution_count": 58,
   "id": "8f87906d",
   "metadata": {},
   "outputs": [
    {
     "data": {
      "text/plain": [
       "<AxesSubplot:>"
      ]
     },
     "execution_count": 58,
     "metadata": {},
     "output_type": "execute_result"
    },
    {
     "data": {
      "image/png": "[encoded data removed]",
      "text/plain": [
       "<Figure size 432x288 with 2 Axes>"
      ]
     },
     "metadata": {
      "needs_background": "light"
     },
     "output_type": "display_data"
    }
   ],
   "source": [
    "sns.heatmap(tit_data_clean.corr(),cmap='plasma')\n"
   ]
  },
  {
   "cell_type": "markdown",
   "id": "98405829",
   "metadata": {},
   "source": [
    "Here we can clearly see that:\n",
    "\n",
    "'Pclass' is negatively correlated to 'Survived' (-0.34)\n",
    "\n",
    "'Fare' is positively correlated to 'Survived' (0.26)\n",
    "\n",
    "These two features should be decisive in model building."
   ]
  },
  {
   "cell_type": "markdown",
   "id": "11427854",
   "metadata": {},
   "source": [
    "# ADDITIONAL DATA CLEANING"
   ]
  },
  {
   "cell_type": "code",
   "execution_count": 59,
   "id": "91639f7c",
   "metadata": {},
   "outputs": [
    {
     "data": {
      "text/html": [
       "<div>\n",
       "<style scoped>\n",
       "    .dataframe tbody tr th:only-of-type {\n",
       "        vertical-align: middle;\n",
       "    }\n",
       "\n",
       "    .dataframe tbody tr th {\n",
       "        vertical-align: top;\n",
       "    }\n",
       "\n",
       "    .dataframe thead th {\n",
       "        text-align: right;\n",
       "    }\n",
       "</style>\n",
       "<table border=\"1\" class=\"dataframe\">\n",
       "  <thead>\n",
       "    <tr style=\"text-align: right;\">\n",
       "      <th></th>\n",
       "      <th>PassengerId</th>\n",
       "      <th>Survived</th>\n",
       "      <th>Pclass</th>\n",
       "      <th>Name</th>\n",
       "      <th>Sex</th>\n",
       "      <th>Age</th>\n",
       "      <th>SibSp</th>\n",
       "      <th>Parch</th>\n",
       "      <th>Ticket</th>\n",
       "      <th>Fare</th>\n",
       "      <th>Embarked</th>\n",
       "      <th>Age_cat</th>\n",
       "      <th>Family Size</th>\n",
       "    </tr>\n",
       "  </thead>\n",
       "  <tbody>\n",
       "    <tr>\n",
       "      <th>0</th>\n",
       "      <td>1</td>\n",
       "      <td>0</td>\n",
       "      <td>3</td>\n",
       "      <td>Braund, Mr. Owen Harris</td>\n",
       "      <td>male</td>\n",
       "      <td>22.0</td>\n",
       "      <td>1</td>\n",
       "      <td>0</td>\n",
       "      <td>A/5 21171</td>\n",
       "      <td>7.2500</td>\n",
       "      <td>S</td>\n",
       "      <td>21-30</td>\n",
       "      <td>1</td>\n",
       "    </tr>\n",
       "    <tr>\n",
       "      <th>1</th>\n",
       "      <td>2</td>\n",
       "      <td>1</td>\n",
       "      <td>1</td>\n",
       "      <td>Cumings, Mrs. John Bradley (Florence Briggs Th...</td>\n",
       "      <td>female</td>\n",
       "      <td>38.0</td>\n",
       "      <td>1</td>\n",
       "      <td>0</td>\n",
       "      <td>PC 17599</td>\n",
       "      <td>71.2833</td>\n",
       "      <td>C</td>\n",
       "      <td>31-40</td>\n",
       "      <td>1</td>\n",
       "    </tr>\n",
       "    <tr>\n",
       "      <th>2</th>\n",
       "      <td>3</td>\n",
       "      <td>1</td>\n",
       "      <td>3</td>\n",
       "      <td>Heikkinen, Miss. Laina</td>\n",
       "      <td>female</td>\n",
       "      <td>26.0</td>\n",
       "      <td>0</td>\n",
       "      <td>0</td>\n",
       "      <td>STON/O2. 3101282</td>\n",
       "      <td>7.9250</td>\n",
       "      <td>S</td>\n",
       "      <td>21-30</td>\n",
       "      <td>0</td>\n",
       "    </tr>\n",
       "    <tr>\n",
       "      <th>3</th>\n",
       "      <td>4</td>\n",
       "      <td>1</td>\n",
       "      <td>1</td>\n",
       "      <td>Futrelle, Mrs. Jacques Heath (Lily May Peel)</td>\n",
       "      <td>female</td>\n",
       "      <td>35.0</td>\n",
       "      <td>1</td>\n",
       "      <td>0</td>\n",
       "      <td>113803</td>\n",
       "      <td>53.1000</td>\n",
       "      <td>S</td>\n",
       "      <td>31-40</td>\n",
       "      <td>1</td>\n",
       "    </tr>\n",
       "    <tr>\n",
       "      <th>4</th>\n",
       "      <td>5</td>\n",
       "      <td>0</td>\n",
       "      <td>3</td>\n",
       "      <td>Allen, Mr. William Henry</td>\n",
       "      <td>male</td>\n",
       "      <td>35.0</td>\n",
       "      <td>0</td>\n",
       "      <td>0</td>\n",
       "      <td>373450</td>\n",
       "      <td>8.0500</td>\n",
       "      <td>S</td>\n",
       "      <td>31-40</td>\n",
       "      <td>0</td>\n",
       "    </tr>\n",
       "  </tbody>\n",
       "</table>\n",
       "</div>"
      ],
      "text/plain": [
       "   PassengerId  Survived  Pclass  \\\n",
       "0            1         0       3   \n",
       "1            2         1       1   \n",
       "2            3         1       3   \n",
       "3            4         1       1   \n",
       "4            5         0       3   \n",
       "\n",
       "                                                Name     Sex   Age  SibSp  \\\n",
       "0                            Braund, Mr. Owen Harris    male  22.0      1   \n",
       "1  Cumings, Mrs. John Bradley (Florence Briggs Th...  female  38.0      1   \n",
       "2                             Heikkinen, Miss. Laina  female  26.0      0   \n",
       "3       Futrelle, Mrs. Jacques Heath (Lily May Peel)  female  35.0      1   \n",
       "4                           Allen, Mr. William Henry    male  35.0      0   \n",
       "\n",
       "   Parch            Ticket     Fare Embarked Age_cat  Family Size  \n",
       "0      0         A/5 21171   7.2500        S   21-30            1  \n",
       "1      0          PC 17599  71.2833        C   31-40            1  \n",
       "2      0  STON/O2. 3101282   7.9250        S   21-30            0  \n",
       "3      0            113803  53.1000        S   31-40            1  \n",
       "4      0            373450   8.0500        S   31-40            0  "
      ]
     },
     "execution_count": 59,
     "metadata": {},
     "output_type": "execute_result"
    }
   ],
   "source": [
    "tit_data_clean.head()\n"
   ]
  },
  {
   "cell_type": "markdown",
   "id": "1e53fcaf",
   "metadata": {},
   "source": [
    "Here are the aditional data cleaning steps I wanna perform:\n",
    "\n",
    "Remove 'PassengerId' which I don't think will be of any use\n",
    "\n",
    "Remove 'Name' even if I believe it would be interesting to perform some NLP here (let's put this as potential model\n",
    "improvement/exploration)\n",
    "\n",
    "Perform one-hot encoding for 'Sex' as models need to be fed with numerical features\n",
    "\n",
    "Remove 'SibSp' and 'Parch' as these two features are now counted in 'Family Size'\n",
    "\n",
    "Remove 'Ticket' even if we could maybe do something with that feature (let's keep that is mind for future improvements)\n",
    "\n",
    "Perform one-hot encoding for 'Embarked'\n",
    "\n",
    "Remove 'Age_cat' as its only purpose was for the EDA"
   ]
  },
  {
   "cell_type": "markdown",
   "id": "9fef0efd",
   "metadata": {},
   "source": [
    "# Dropping features\n",
    "\n"
   ]
  },
  {
   "cell_type": "code",
   "execution_count": 60,
   "id": "50fc8f7a",
   "metadata": {},
   "outputs": [],
   "source": [
    "tit_data_model = tit_data_clean.drop(['PassengerId','Name','SibSp','Parch','Ticket','Age_cat'],axis=1)\n"
   ]
  },
  {
   "cell_type": "code",
   "execution_count": 61,
   "id": "ef66c493",
   "metadata": {},
   "outputs": [
    {
     "data": {
      "text/html": [
       "<div>\n",
       "<style scoped>\n",
       "    .dataframe tbody tr th:only-of-type {\n",
       "        vertical-align: middle;\n",
       "    }\n",
       "\n",
       "    .dataframe tbody tr th {\n",
       "        vertical-align: top;\n",
       "    }\n",
       "\n",
       "    .dataframe thead th {\n",
       "        text-align: right;\n",
       "    }\n",
       "</style>\n",
       "<table border=\"1\" class=\"dataframe\">\n",
       "  <thead>\n",
       "    <tr style=\"text-align: right;\">\n",
       "      <th></th>\n",
       "      <th>Survived</th>\n",
       "      <th>Pclass</th>\n",
       "      <th>Sex</th>\n",
       "      <th>Age</th>\n",
       "      <th>Fare</th>\n",
       "      <th>Embarked</th>\n",
       "      <th>Family Size</th>\n",
       "    </tr>\n",
       "  </thead>\n",
       "  <tbody>\n",
       "    <tr>\n",
       "      <th>0</th>\n",
       "      <td>0</td>\n",
       "      <td>3</td>\n",
       "      <td>male</td>\n",
       "      <td>22.0</td>\n",
       "      <td>7.2500</td>\n",
       "      <td>S</td>\n",
       "      <td>1</td>\n",
       "    </tr>\n",
       "    <tr>\n",
       "      <th>1</th>\n",
       "      <td>1</td>\n",
       "      <td>1</td>\n",
       "      <td>female</td>\n",
       "      <td>38.0</td>\n",
       "      <td>71.2833</td>\n",
       "      <td>C</td>\n",
       "      <td>1</td>\n",
       "    </tr>\n",
       "    <tr>\n",
       "      <th>2</th>\n",
       "      <td>1</td>\n",
       "      <td>3</td>\n",
       "      <td>female</td>\n",
       "      <td>26.0</td>\n",
       "      <td>7.9250</td>\n",
       "      <td>S</td>\n",
       "      <td>0</td>\n",
       "    </tr>\n",
       "    <tr>\n",
       "      <th>3</th>\n",
       "      <td>1</td>\n",
       "      <td>1</td>\n",
       "      <td>female</td>\n",
       "      <td>35.0</td>\n",
       "      <td>53.1000</td>\n",
       "      <td>S</td>\n",
       "      <td>1</td>\n",
       "    </tr>\n",
       "    <tr>\n",
       "      <th>4</th>\n",
       "      <td>0</td>\n",
       "      <td>3</td>\n",
       "      <td>male</td>\n",
       "      <td>35.0</td>\n",
       "      <td>8.0500</td>\n",
       "      <td>S</td>\n",
       "      <td>0</td>\n",
       "    </tr>\n",
       "  </tbody>\n",
       "</table>\n",
       "</div>"
      ],
      "text/plain": [
       "   Survived  Pclass     Sex   Age     Fare Embarked  Family Size\n",
       "0         0       3    male  22.0   7.2500        S            1\n",
       "1         1       1  female  38.0  71.2833        C            1\n",
       "2         1       3  female  26.0   7.9250        S            0\n",
       "3         1       1  female  35.0  53.1000        S            1\n",
       "4         0       3    male  35.0   8.0500        S            0"
      ]
     },
     "execution_count": 61,
     "metadata": {},
     "output_type": "execute_result"
    }
   ],
   "source": [
    "tit_data_model.head()\n"
   ]
  },
  {
   "cell_type": "markdown",
   "id": "ae164337",
   "metadata": {},
   "source": [
    "One-Hot encoding"
   ]
  },
  {
   "cell_type": "code",
   "execution_count": 62,
   "id": "463e9f09",
   "metadata": {},
   "outputs": [
    {
     "data": {
      "text/html": [
       "<div>\n",
       "<style scoped>\n",
       "    .dataframe tbody tr th:only-of-type {\n",
       "        vertical-align: middle;\n",
       "    }\n",
       "\n",
       "    .dataframe tbody tr th {\n",
       "        vertical-align: top;\n",
       "    }\n",
       "\n",
       "    .dataframe thead th {\n",
       "        text-align: right;\n",
       "    }\n",
       "</style>\n",
       "<table border=\"1\" class=\"dataframe\">\n",
       "  <thead>\n",
       "    <tr style=\"text-align: right;\">\n",
       "      <th></th>\n",
       "      <th>Survived</th>\n",
       "      <th>Pclass</th>\n",
       "      <th>Age</th>\n",
       "      <th>Fare</th>\n",
       "      <th>Family Size</th>\n",
       "      <th>male</th>\n",
       "      <th>Q</th>\n",
       "      <th>S</th>\n",
       "    </tr>\n",
       "  </thead>\n",
       "  <tbody>\n",
       "    <tr>\n",
       "      <th>0</th>\n",
       "      <td>0</td>\n",
       "      <td>3</td>\n",
       "      <td>22.0</td>\n",
       "      <td>7.2500</td>\n",
       "      <td>1</td>\n",
       "      <td>1</td>\n",
       "      <td>0</td>\n",
       "      <td>1</td>\n",
       "    </tr>\n",
       "    <tr>\n",
       "      <th>1</th>\n",
       "      <td>1</td>\n",
       "      <td>1</td>\n",
       "      <td>38.0</td>\n",
       "      <td>71.2833</td>\n",
       "      <td>1</td>\n",
       "      <td>0</td>\n",
       "      <td>0</td>\n",
       "      <td>0</td>\n",
       "    </tr>\n",
       "    <tr>\n",
       "      <th>2</th>\n",
       "      <td>1</td>\n",
       "      <td>3</td>\n",
       "      <td>26.0</td>\n",
       "      <td>7.9250</td>\n",
       "      <td>0</td>\n",
       "      <td>0</td>\n",
       "      <td>0</td>\n",
       "      <td>1</td>\n",
       "    </tr>\n",
       "    <tr>\n",
       "      <th>3</th>\n",
       "      <td>1</td>\n",
       "      <td>1</td>\n",
       "      <td>35.0</td>\n",
       "      <td>53.1000</td>\n",
       "      <td>1</td>\n",
       "      <td>0</td>\n",
       "      <td>0</td>\n",
       "      <td>1</td>\n",
       "    </tr>\n",
       "    <tr>\n",
       "      <th>4</th>\n",
       "      <td>0</td>\n",
       "      <td>3</td>\n",
       "      <td>35.0</td>\n",
       "      <td>8.0500</td>\n",
       "      <td>0</td>\n",
       "      <td>1</td>\n",
       "      <td>0</td>\n",
       "      <td>1</td>\n",
       "    </tr>\n",
       "  </tbody>\n",
       "</table>\n",
       "</div>"
      ],
      "text/plain": [
       "   Survived  Pclass   Age     Fare  Family Size  male  Q  S\n",
       "0         0       3  22.0   7.2500            1     1  0  1\n",
       "1         1       1  38.0  71.2833            1     0  0  0\n",
       "2         1       3  26.0   7.9250            0     0  0  1\n",
       "3         1       1  35.0  53.1000            1     0  0  1\n",
       "4         0       3  35.0   8.0500            0     1  0  1"
      ]
     },
     "execution_count": 62,
     "metadata": {},
     "output_type": "execute_result"
    }
   ],
   "source": [
    "tit_data_model = tit_data_model.join(pd.get_dummies(tit_data_model['Sex'],drop_first=True)).drop('Sex',axis=1)\n",
    "tit_data_model = tit_data_model.join(pd.get_dummies(tit_data_model['Embarked'],drop_first=True)).drop('Embarked',axis=1)\n",
    "tit_data_model.head()\n"
   ]
  },
  {
   "cell_type": "markdown",
   "id": "4cd1f6c7",
   "metadata": {},
   "source": [
    "# Model building\n",
    "To start with model building, I will perform a simple multiple linear regression as a baseline."
   ]
  },
  {
   "cell_type": "code",
   "execution_count": 63,
   "id": "67adbf6d",
   "metadata": {},
   "outputs": [],
   "source": [
    "X_test = pd.read_csv('https://raw.githubusercontent.com/dsrscientist/dataset1/master/titanic_train.csv')"
   ]
  },
  {
   "cell_type": "markdown",
   "id": "339d052e",
   "metadata": {},
   "source": [
    "I need to perform the exact same steps I already performed for the training set."
   ]
  },
  {
   "cell_type": "code",
   "execution_count": 65,
   "id": "c2ca45be",
   "metadata": {},
   "outputs": [],
   "source": [
    "X_test = X_test.drop(['PassengerId','Name','Ticket','Cabin'],axis=1)"
   ]
  },
  {
   "cell_type": "code",
   "execution_count": 66,
   "id": "d0838879",
   "metadata": {},
   "outputs": [
    {
     "data": {
      "text/html": [
       "<div>\n",
       "<style scoped>\n",
       "    .dataframe tbody tr th:only-of-type {\n",
       "        vertical-align: middle;\n",
       "    }\n",
       "\n",
       "    .dataframe tbody tr th {\n",
       "        vertical-align: top;\n",
       "    }\n",
       "\n",
       "    .dataframe thead th {\n",
       "        text-align: right;\n",
       "    }\n",
       "</style>\n",
       "<table border=\"1\" class=\"dataframe\">\n",
       "  <thead>\n",
       "    <tr style=\"text-align: right;\">\n",
       "      <th></th>\n",
       "      <th>Survived</th>\n",
       "      <th>Pclass</th>\n",
       "      <th>Sex</th>\n",
       "      <th>Age</th>\n",
       "      <th>SibSp</th>\n",
       "      <th>Parch</th>\n",
       "      <th>Fare</th>\n",
       "      <th>Embarked</th>\n",
       "    </tr>\n",
       "  </thead>\n",
       "  <tbody>\n",
       "    <tr>\n",
       "      <th>0</th>\n",
       "      <td>0</td>\n",
       "      <td>3</td>\n",
       "      <td>male</td>\n",
       "      <td>22.0</td>\n",
       "      <td>1</td>\n",
       "      <td>0</td>\n",
       "      <td>7.2500</td>\n",
       "      <td>S</td>\n",
       "    </tr>\n",
       "    <tr>\n",
       "      <th>1</th>\n",
       "      <td>1</td>\n",
       "      <td>1</td>\n",
       "      <td>female</td>\n",
       "      <td>38.0</td>\n",
       "      <td>1</td>\n",
       "      <td>0</td>\n",
       "      <td>71.2833</td>\n",
       "      <td>C</td>\n",
       "    </tr>\n",
       "    <tr>\n",
       "      <th>2</th>\n",
       "      <td>1</td>\n",
       "      <td>3</td>\n",
       "      <td>female</td>\n",
       "      <td>26.0</td>\n",
       "      <td>0</td>\n",
       "      <td>0</td>\n",
       "      <td>7.9250</td>\n",
       "      <td>S</td>\n",
       "    </tr>\n",
       "    <tr>\n",
       "      <th>3</th>\n",
       "      <td>1</td>\n",
       "      <td>1</td>\n",
       "      <td>female</td>\n",
       "      <td>35.0</td>\n",
       "      <td>1</td>\n",
       "      <td>0</td>\n",
       "      <td>53.1000</td>\n",
       "      <td>S</td>\n",
       "    </tr>\n",
       "    <tr>\n",
       "      <th>4</th>\n",
       "      <td>0</td>\n",
       "      <td>3</td>\n",
       "      <td>male</td>\n",
       "      <td>35.0</td>\n",
       "      <td>0</td>\n",
       "      <td>0</td>\n",
       "      <td>8.0500</td>\n",
       "      <td>S</td>\n",
       "    </tr>\n",
       "  </tbody>\n",
       "</table>\n",
       "</div>"
      ],
      "text/plain": [
       "   Survived  Pclass     Sex   Age  SibSp  Parch     Fare Embarked\n",
       "0         0       3    male  22.0      1      0   7.2500        S\n",
       "1         1       1  female  38.0      1      0  71.2833        C\n",
       "2         1       3  female  26.0      0      0   7.9250        S\n",
       "3         1       1  female  35.0      1      0  53.1000        S\n",
       "4         0       3    male  35.0      0      0   8.0500        S"
      ]
     },
     "execution_count": 66,
     "metadata": {},
     "output_type": "execute_result"
    }
   ],
   "source": [
    "X_test.head()"
   ]
  },
  {
   "cell_type": "code",
   "execution_count": 67,
   "id": "0fcb13ed",
   "metadata": {},
   "outputs": [],
   "source": [
    "X_test['Age'] = X_test[['Age','Pclass']].apply(impute_age,axis=1)"
   ]
  },
  {
   "cell_type": "code",
   "execution_count": 68,
   "id": "9d8fa5b6",
   "metadata": {},
   "outputs": [],
   "source": [
    "X_test['Family Size'] = X_test['SibSp'] + X_test['Parch']\n",
    "X_test = X_test.drop(['SibSp','Parch'],axis=1)"
   ]
  },
  {
   "cell_type": "code",
   "execution_count": 69,
   "id": "9bf12915",
   "metadata": {},
   "outputs": [],
   "source": [
    "X_test = X_test.join(pd.get_dummies(X_test['Sex'],drop_first=True)).drop('Sex',axis=1)\n"
   ]
  },
  {
   "cell_type": "code",
   "execution_count": 70,
   "id": "587b77ab",
   "metadata": {},
   "outputs": [],
   "source": [
    "X_test = X_test.join(pd.get_dummies(X_test['Embarked'],drop_first=True)).drop('Embarked',axis=1)\n"
   ]
  },
  {
   "cell_type": "code",
   "execution_count": 72,
   "id": "f39cdb9c",
   "metadata": {},
   "outputs": [
    {
     "data": {
      "text/html": [
       "<div>\n",
       "<style scoped>\n",
       "    .dataframe tbody tr th:only-of-type {\n",
       "        vertical-align: middle;\n",
       "    }\n",
       "\n",
       "    .dataframe tbody tr th {\n",
       "        vertical-align: top;\n",
       "    }\n",
       "\n",
       "    .dataframe thead th {\n",
       "        text-align: right;\n",
       "    }\n",
       "</style>\n",
       "<table border=\"1\" class=\"dataframe\">\n",
       "  <thead>\n",
       "    <tr style=\"text-align: right;\">\n",
       "      <th></th>\n",
       "      <th>Survived</th>\n",
       "      <th>Pclass</th>\n",
       "      <th>Age</th>\n",
       "      <th>Fare</th>\n",
       "      <th>Family Size</th>\n",
       "      <th>male</th>\n",
       "      <th>Q</th>\n",
       "      <th>S</th>\n",
       "    </tr>\n",
       "  </thead>\n",
       "  <tbody>\n",
       "    <tr>\n",
       "      <th>0</th>\n",
       "      <td>0</td>\n",
       "      <td>3</td>\n",
       "      <td>22.0</td>\n",
       "      <td>7.2500</td>\n",
       "      <td>1</td>\n",
       "      <td>1</td>\n",
       "      <td>0</td>\n",
       "      <td>1</td>\n",
       "    </tr>\n",
       "    <tr>\n",
       "      <th>1</th>\n",
       "      <td>1</td>\n",
       "      <td>1</td>\n",
       "      <td>38.0</td>\n",
       "      <td>71.2833</td>\n",
       "      <td>1</td>\n",
       "      <td>0</td>\n",
       "      <td>0</td>\n",
       "      <td>0</td>\n",
       "    </tr>\n",
       "    <tr>\n",
       "      <th>2</th>\n",
       "      <td>1</td>\n",
       "      <td>3</td>\n",
       "      <td>26.0</td>\n",
       "      <td>7.9250</td>\n",
       "      <td>0</td>\n",
       "      <td>0</td>\n",
       "      <td>0</td>\n",
       "      <td>1</td>\n",
       "    </tr>\n",
       "    <tr>\n",
       "      <th>3</th>\n",
       "      <td>1</td>\n",
       "      <td>1</td>\n",
       "      <td>35.0</td>\n",
       "      <td>53.1000</td>\n",
       "      <td>1</td>\n",
       "      <td>0</td>\n",
       "      <td>0</td>\n",
       "      <td>1</td>\n",
       "    </tr>\n",
       "    <tr>\n",
       "      <th>4</th>\n",
       "      <td>0</td>\n",
       "      <td>3</td>\n",
       "      <td>35.0</td>\n",
       "      <td>8.0500</td>\n",
       "      <td>0</td>\n",
       "      <td>1</td>\n",
       "      <td>0</td>\n",
       "      <td>1</td>\n",
       "    </tr>\n",
       "  </tbody>\n",
       "</table>\n",
       "</div>"
      ],
      "text/plain": [
       "   Survived  Pclass   Age     Fare  Family Size  male  Q  S\n",
       "0         0       3  22.0   7.2500            1     1  0  1\n",
       "1         1       1  38.0  71.2833            1     0  0  0\n",
       "2         1       3  26.0   7.9250            0     0  0  1\n",
       "3         1       1  35.0  53.1000            1     0  0  1\n",
       "4         0       3  35.0   8.0500            0     1  0  1"
      ]
     },
     "execution_count": 72,
     "metadata": {},
     "output_type": "execute_result"
    }
   ],
   "source": [
    "X_test.head()"
   ]
  },
  {
   "cell_type": "markdown",
   "id": "4851dc1b",
   "metadata": {},
   "source": [
    "While working on the model, I noticed there was a null value in 'Fare'. I will take the mean to fill it (only one null value)."
   ]
  },
  {
   "cell_type": "code",
   "execution_count": 74,
   "id": "6b20574f",
   "metadata": {},
   "outputs": [
    {
     "data": {
      "text/plain": [
       "False    891\n",
       "Name: Fare, dtype: int64"
      ]
     },
     "execution_count": 74,
     "metadata": {},
     "output_type": "execute_result"
    }
   ],
   "source": [
    "X_test['Fare'].isnull().value_counts()"
   ]
  },
  {
   "cell_type": "code",
   "execution_count": 75,
   "id": "482f3c3d",
   "metadata": {},
   "outputs": [],
   "source": [
    "X_test['Fare'].fillna(X_test['Fare'].mean(),inplace=True)"
   ]
  },
  {
   "cell_type": "markdown",
   "id": "45b4ee95",
   "metadata": {},
   "source": [
    "X_test is now ready!\n",
    "\n",
    "For each model, we will create a train-test split on the training data. Then we will send our final predictions using the test set from Kaggle. Using this methodology, it allows us to have a proper train + cross-validation + test set."
   ]
  },
  {
   "cell_type": "markdown",
   "id": "55c20d69",
   "metadata": {},
   "source": [
    "# MULTIPLE LINEAR REGRESSION\n",
    "\n",
    "Train-test split"
   ]
  },
  {
   "cell_type": "code",
   "execution_count": 76,
   "id": "9f7eb72f",
   "metadata": {},
   "outputs": [],
   "source": [
    "from sklearn.model_selection import train_test_split"
   ]
  },
  {
   "cell_type": "code",
   "execution_count": 77,
   "id": "03496768",
   "metadata": {},
   "outputs": [
    {
     "data": {
      "text/html": [
       "<div>\n",
       "<style scoped>\n",
       "    .dataframe tbody tr th:only-of-type {\n",
       "        vertical-align: middle;\n",
       "    }\n",
       "\n",
       "    .dataframe tbody tr th {\n",
       "        vertical-align: top;\n",
       "    }\n",
       "\n",
       "    .dataframe thead th {\n",
       "        text-align: right;\n",
       "    }\n",
       "</style>\n",
       "<table border=\"1\" class=\"dataframe\">\n",
       "  <thead>\n",
       "    <tr style=\"text-align: right;\">\n",
       "      <th></th>\n",
       "      <th>Survived</th>\n",
       "      <th>Pclass</th>\n",
       "      <th>Age</th>\n",
       "      <th>Fare</th>\n",
       "      <th>Family Size</th>\n",
       "      <th>male</th>\n",
       "      <th>Q</th>\n",
       "      <th>S</th>\n",
       "    </tr>\n",
       "  </thead>\n",
       "  <tbody>\n",
       "    <tr>\n",
       "      <th>0</th>\n",
       "      <td>0</td>\n",
       "      <td>3</td>\n",
       "      <td>22.0</td>\n",
       "      <td>7.2500</td>\n",
       "      <td>1</td>\n",
       "      <td>1</td>\n",
       "      <td>0</td>\n",
       "      <td>1</td>\n",
       "    </tr>\n",
       "    <tr>\n",
       "      <th>1</th>\n",
       "      <td>1</td>\n",
       "      <td>1</td>\n",
       "      <td>38.0</td>\n",
       "      <td>71.2833</td>\n",
       "      <td>1</td>\n",
       "      <td>0</td>\n",
       "      <td>0</td>\n",
       "      <td>0</td>\n",
       "    </tr>\n",
       "    <tr>\n",
       "      <th>2</th>\n",
       "      <td>1</td>\n",
       "      <td>3</td>\n",
       "      <td>26.0</td>\n",
       "      <td>7.9250</td>\n",
       "      <td>0</td>\n",
       "      <td>0</td>\n",
       "      <td>0</td>\n",
       "      <td>1</td>\n",
       "    </tr>\n",
       "    <tr>\n",
       "      <th>3</th>\n",
       "      <td>1</td>\n",
       "      <td>1</td>\n",
       "      <td>35.0</td>\n",
       "      <td>53.1000</td>\n",
       "      <td>1</td>\n",
       "      <td>0</td>\n",
       "      <td>0</td>\n",
       "      <td>1</td>\n",
       "    </tr>\n",
       "    <tr>\n",
       "      <th>4</th>\n",
       "      <td>0</td>\n",
       "      <td>3</td>\n",
       "      <td>35.0</td>\n",
       "      <td>8.0500</td>\n",
       "      <td>0</td>\n",
       "      <td>1</td>\n",
       "      <td>0</td>\n",
       "      <td>1</td>\n",
       "    </tr>\n",
       "  </tbody>\n",
       "</table>\n",
       "</div>"
      ],
      "text/plain": [
       "   Survived  Pclass   Age     Fare  Family Size  male  Q  S\n",
       "0         0       3  22.0   7.2500            1     1  0  1\n",
       "1         1       1  38.0  71.2833            1     0  0  0\n",
       "2         1       3  26.0   7.9250            0     0  0  1\n",
       "3         1       1  35.0  53.1000            1     0  0  1\n",
       "4         0       3  35.0   8.0500            0     1  0  1"
      ]
     },
     "execution_count": 77,
     "metadata": {},
     "output_type": "execute_result"
    }
   ],
   "source": [
    "tit_data_model.head()"
   ]
  },
  {
   "cell_type": "code",
   "execution_count": 78,
   "id": "4dd92739",
   "metadata": {},
   "outputs": [],
   "source": [
    "X = tit_data_model.drop('Survived',axis=1)\n",
    "y = tit_data_model['Survived']"
   ]
  },
  {
   "cell_type": "code",
   "execution_count": 81,
   "id": "7157eb8b",
   "metadata": {},
   "outputs": [],
   "source": [
    "X_train, X_test, y_train, y_test = train_test_split(X, y, test_size=0.3, random_state=42)\n"
   ]
  },
  {
   "cell_type": "code",
   "execution_count": 105,
   "id": "36c3a2b7",
   "metadata": {},
   "outputs": [
    {
     "data": {
      "text/plain": [
       "LinearRegression()"
      ]
     },
     "execution_count": 105,
     "metadata": {},
     "output_type": "execute_result"
    }
   ],
   "source": [
    "from sklearn.linear_model import LinearRegression\n",
    "lx = LinearRegression()\n",
    "lx.fit(X_train,y_train)"
   ]
  },
  {
   "cell_type": "code",
   "execution_count": 106,
   "id": "6df044cd",
   "metadata": {},
   "outputs": [],
   "source": [
    "predictions = lx.predict(X_test)"
   ]
  },
  {
   "cell_type": "code",
   "execution_count": 107,
   "id": "ae98ee95",
   "metadata": {},
   "outputs": [],
   "source": [
    "def final_pred(x):\n",
    "    if x>=0.5:\n",
    "        return 1\n",
    "    else:\n",
    "        return 0"
   ]
  },
  {
   "cell_type": "code",
   "execution_count": 108,
   "id": "5a6fe10d",
   "metadata": {},
   "outputs": [],
   "source": [
    "df_predictions = pd.DataFrame()\n",
    "df_predictions['Survived'] = predictions\n",
    "df_predictions['Survived'] = df_predictions['Survived'].apply(final_pred)"
   ]
  },
  {
   "cell_type": "markdown",
   "id": "e7775d95",
   "metadata": {},
   "source": [
    "# Checking model performance"
   ]
  },
  {
   "cell_type": "code",
   "execution_count": 109,
   "id": "cdc3d29b",
   "metadata": {},
   "outputs": [
    {
     "name": "stdout",
     "output_type": "stream",
     "text": [
      "[[134  23]\n",
      " [ 32  79]]\n"
     ]
    }
   ],
   "source": [
    "from sklearn.metrics import confusion_matrix,classification_report\n",
    "print(confusion_matrix(y_test,df_predictions))"
   ]
  },
  {
   "cell_type": "code",
   "execution_count": 110,
   "id": "7dc2a1db",
   "metadata": {},
   "outputs": [
    {
     "name": "stdout",
     "output_type": "stream",
     "text": [
      "              precision    recall  f1-score   support\n",
      "\n",
      "           0       0.81      0.85      0.83       157\n",
      "           1       0.77      0.71      0.74       111\n",
      "\n",
      "    accuracy                           0.79       268\n",
      "   macro avg       0.79      0.78      0.79       268\n",
      "weighted avg       0.79      0.79      0.79       268\n",
      "\n"
     ]
    }
   ],
   "source": [
    "print(classification_report(y_test,df_predictions))"
   ]
  },
  {
   "cell_type": "markdown",
   "id": "57517496",
   "metadata": {},
   "source": [
    "On our cross-validation set, it looks like the model has an accuracy of 0.79 which is quite great for a first go."
   ]
  },
  {
   "cell_type": "markdown",
   "id": "a367d724",
   "metadata": {},
   "source": [
    "# Model"
   ]
  },
  {
   "cell_type": "code",
   "execution_count": 111,
   "id": "6e1af98b",
   "metadata": {},
   "outputs": [
    {
     "name": "stderr",
     "output_type": "stream",
     "text": [
      "C:\\Users\\hp\\anaconda3\\lib\\site-packages\\sklearn\\linear_model\\_logistic.py:763: ConvergenceWarning: lbfgs failed to converge (status=1):\n",
      "STOP: TOTAL NO. of ITERATIONS REACHED LIMIT.\n",
      "\n",
      "Increase the number of iterations (max_iter) or scale the data as shown in:\n",
      "    https://scikit-learn.org/stable/modules/preprocessing.html\n",
      "Please also refer to the documentation for alternative solver options:\n",
      "    https://scikit-learn.org/stable/modules/linear_model.html#logistic-regression\n",
      "  n_iter_i = _check_optimize_result(\n"
     ]
    },
    {
     "data": {
      "text/plain": [
       "LogisticRegression()"
      ]
     },
     "execution_count": 111,
     "metadata": {},
     "output_type": "execute_result"
    }
   ],
   "source": [
    "from sklearn.linear_model import LogisticRegression\n",
    "lr = LogisticRegression()\n",
    "lr.fit(X_train,y_train)"
   ]
  },
  {
   "cell_type": "code",
   "execution_count": 112,
   "id": "7b3376f8",
   "metadata": {},
   "outputs": [],
   "source": [
    "predictions = lr.predict(X_test)"
   ]
  },
  {
   "cell_type": "markdown",
   "id": "50113003",
   "metadata": {},
   "source": [
    "Checking model performance"
   ]
  },
  {
   "cell_type": "code",
   "execution_count": 113,
   "id": "5fb1f398",
   "metadata": {},
   "outputs": [
    {
     "name": "stdout",
     "output_type": "stream",
     "text": [
      "[[136  21]\n",
      " [ 30  81]]\n"
     ]
    }
   ],
   "source": [
    "print(confusion_matrix(y_test,predictions))"
   ]
  },
  {
   "cell_type": "code",
   "execution_count": 114,
   "id": "264101da",
   "metadata": {},
   "outputs": [
    {
     "name": "stdout",
     "output_type": "stream",
     "text": [
      "              precision    recall  f1-score   support\n",
      "\n",
      "           0       0.82      0.87      0.84       157\n",
      "           1       0.79      0.73      0.76       111\n",
      "\n",
      "    accuracy                           0.81       268\n",
      "   macro avg       0.81      0.80      0.80       268\n",
      "weighted avg       0.81      0.81      0.81       268\n",
      "\n"
     ]
    }
   ],
   "source": [
    "print(classification_report(y_test,predictions))\n"
   ]
  },
  {
   "cell_type": "markdown",
   "id": "7e830ffc",
   "metadata": {},
   "source": [
    "Logistic Regression performed better with an accuracy of 0.81."
   ]
  },
  {
   "cell_type": "markdown",
   "id": "fb8f49e4",
   "metadata": {},
   "source": [
    "Train-test split"
   ]
  },
  {
   "cell_type": "code",
   "execution_count": 115,
   "id": "fbc0d999",
   "metadata": {},
   "outputs": [],
   "source": [
    "X = tit_data_model.drop('Survived',axis=1)\n",
    "y = tit_data_model['Survived']\n",
    "X_train, X_test, y_train, y_test = train_test_split(X, y, test_size=0.3, random_state=42)"
   ]
  },
  {
   "cell_type": "markdown",
   "id": "60e1df17",
   "metadata": {},
   "source": [
    "Feature scaling and normalization"
   ]
  },
  {
   "cell_type": "code",
   "execution_count": 116,
   "id": "d8837615",
   "metadata": {},
   "outputs": [],
   "source": [
    "from sklearn import preprocessing\n",
    "scaler = preprocessing.StandardScaler().fit(X_train)\n",
    "X_train = scaler.transform(X_train)\n",
    "X_test = scaler.transform(X_test)"
   ]
  },
  {
   "cell_type": "markdown",
   "id": "79ecac20",
   "metadata": {},
   "source": [
    "# Model\n",
    "\n"
   ]
  },
  {
   "cell_type": "code",
   "execution_count": 117,
   "id": "9df9b8a1",
   "metadata": {},
   "outputs": [
    {
     "data": {
      "text/plain": [
       "LogisticRegression()"
      ]
     },
     "execution_count": 117,
     "metadata": {},
     "output_type": "execute_result"
    }
   ],
   "source": [
    "lr = LogisticRegression()\n",
    "lr.fit(X_train,y_train)"
   ]
  },
  {
   "cell_type": "code",
   "execution_count": 122,
   "id": "f1f35f02",
   "metadata": {},
   "outputs": [],
   "source": [
    "predictions = lr.predict(X_test)"
   ]
  },
  {
   "cell_type": "markdown",
   "id": "7cd3f23b",
   "metadata": {},
   "source": [
    "# Checking model performance\n",
    "\n"
   ]
  },
  {
   "cell_type": "code",
   "execution_count": 119,
   "id": "e3d269c4",
   "metadata": {
    "scrolled": true
   },
   "outputs": [
    {
     "name": "stdout",
     "output_type": "stream",
     "text": [
      "[[137  20]\n",
      " [ 30  81]]\n"
     ]
    }
   ],
   "source": [
    "print(confusion_matrix(y_test,predictions))"
   ]
  },
  {
   "cell_type": "code",
   "execution_count": 120,
   "id": "fc4a1ac1",
   "metadata": {},
   "outputs": [
    {
     "name": "stdout",
     "output_type": "stream",
     "text": [
      "              precision    recall  f1-score   support\n",
      "\n",
      "           0       0.82      0.87      0.85       157\n",
      "           1       0.80      0.73      0.76       111\n",
      "\n",
      "    accuracy                           0.81       268\n",
      "   macro avg       0.81      0.80      0.80       268\n",
      "weighted avg       0.81      0.81      0.81       268\n",
      "\n"
     ]
    }
   ],
   "source": [
    "print(classification_report(y_test,predictions))"
   ]
  },
  {
   "cell_type": "markdown",
   "id": "c930c484",
   "metadata": {},
   "source": [
    "It has the same accuracy than the Logistic Regression with feature scaling, but it performed better if we look at the f1-score."
   ]
  },
  {
   "cell_type": "markdown",
   "id": "282c8b1b",
   "metadata": {},
   "source": [
    "# DECISION TREE\n",
    "\n",
    "Train-test split"
   ]
  },
  {
   "cell_type": "code",
   "execution_count": 124,
   "id": "e84d486d",
   "metadata": {},
   "outputs": [],
   "source": [
    "\n",
    "X = tit_data_model.drop('Survived',axis=1)\n",
    "y = tit_data_model['Survived']\n",
    "X_train, X_test, y_train, y_test = train_test_split(X, y, test_size=0.3, random_state=42)"
   ]
  },
  {
   "cell_type": "markdown",
   "id": "e2b4af7f",
   "metadata": {},
   "source": [
    "# Model"
   ]
  },
  {
   "cell_type": "code",
   "execution_count": 126,
   "id": "6a00fa15",
   "metadata": {},
   "outputs": [
    {
     "data": {
      "text/plain": [
       "DecisionTreeClassifier()"
      ]
     },
     "execution_count": 126,
     "metadata": {},
     "output_type": "execute_result"
    }
   ],
   "source": [
    "from sklearn.tree import DecisionTreeClassifier\n",
    "dt = DecisionTreeClassifier()\n",
    "dt.fit(X_train,y_train)"
   ]
  },
  {
   "cell_type": "code",
   "execution_count": 127,
   "id": "243319e5",
   "metadata": {},
   "outputs": [],
   "source": [
    "predictions = dt.predict(X_test)"
   ]
  },
  {
   "cell_type": "markdown",
   "id": "bca10ac4",
   "metadata": {},
   "source": [
    "    #Checking model performance"
   ]
  },
  {
   "cell_type": "code",
   "execution_count": 129,
   "id": "c6c36d06",
   "metadata": {},
   "outputs": [
    {
     "name": "stdout",
     "output_type": "stream",
     "text": [
      "[[130  27]\n",
      " [ 33  78]]\n"
     ]
    }
   ],
   "source": [
    "print(confusion_matrix(y_test,predictions))"
   ]
  },
  {
   "cell_type": "code",
   "execution_count": 130,
   "id": "038edd1e",
   "metadata": {},
   "outputs": [
    {
     "name": "stdout",
     "output_type": "stream",
     "text": [
      "              precision    recall  f1-score   support\n",
      "\n",
      "           0       0.80      0.83      0.81       157\n",
      "           1       0.74      0.70      0.72       111\n",
      "\n",
      "    accuracy                           0.78       268\n",
      "   macro avg       0.77      0.77      0.77       268\n",
      "weighted avg       0.77      0.78      0.78       268\n",
      "\n"
     ]
    }
   ],
   "source": [
    "print(classification_report(y_test,predictions))"
   ]
  },
  {
   "cell_type": "markdown",
   "id": "7f81788c",
   "metadata": {},
   "source": [
    "It looks like the Decision Tree model performed worse (0.78) than the Logistic Regression model."
   ]
  },
  {
   "cell_type": "markdown",
   "id": "aaf80dcd",
   "metadata": {},
   "source": [
    "# GRADIENT BOOSTING\n",
    "\n",
    "Train-test split"
   ]
  },
  {
   "cell_type": "code",
   "execution_count": 132,
   "id": "57da8308",
   "metadata": {},
   "outputs": [],
   "source": [
    "X = tit_data_model.drop('Survived',axis=1)\n",
    "y = tit_data_model['Survived']\n",
    "X_train, X_test, y_train, y_test = train_test_split(X, y, test_size=0.3, random_state=42)\n"
   ]
  },
  {
   "cell_type": "markdown",
   "id": "ec78912c",
   "metadata": {},
   "source": [
    "Model"
   ]
  },
  {
   "cell_type": "code",
   "execution_count": 133,
   "id": "20c504a2",
   "metadata": {},
   "outputs": [
    {
     "data": {
      "text/plain": [
       "GradientBoostingClassifier()"
      ]
     },
     "execution_count": 133,
     "metadata": {},
     "output_type": "execute_result"
    }
   ],
   "source": [
    "from sklearn.ensemble import GradientBoostingClassifier\n",
    "gb = GradientBoostingClassifier()\n",
    "gb.fit(X_train,y_train)\n"
   ]
  },
  {
   "cell_type": "code",
   "execution_count": 134,
   "id": "fffaf888",
   "metadata": {},
   "outputs": [],
   "source": [
    "predictions = gb.predict(X_test)\n"
   ]
  },
  {
   "cell_type": "markdown",
   "id": "388fd7ec",
   "metadata": {},
   "source": [
    "Checking model performance\n",
    "\n"
   ]
  },
  {
   "cell_type": "code",
   "execution_count": 135,
   "id": "18da3249",
   "metadata": {},
   "outputs": [
    {
     "name": "stdout",
     "output_type": "stream",
     "text": [
      "[[144  13]\n",
      " [ 37  74]]\n"
     ]
    }
   ],
   "source": [
    "print(confusion_matrix(y_test,predictions))\n"
   ]
  },
  {
   "cell_type": "code",
   "execution_count": 136,
   "id": "6762b743",
   "metadata": {},
   "outputs": [
    {
     "name": "stdout",
     "output_type": "stream",
     "text": [
      "              precision    recall  f1-score   support\n",
      "\n",
      "           0       0.80      0.92      0.85       157\n",
      "           1       0.85      0.67      0.75       111\n",
      "\n",
      "    accuracy                           0.81       268\n",
      "   macro avg       0.82      0.79      0.80       268\n",
      "weighted avg       0.82      0.81      0.81       268\n",
      "\n"
     ]
    }
   ],
   "source": [
    "print(classification_report(y_test,predictions))\n"
   ]
  },
  {
   "cell_type": "markdown",
   "id": "7df3dcce",
   "metadata": {},
   "source": [
    "Looking at precision and recall, it looks like the model performed slightly better than Logistic Regression."
   ]
  },
  {
   "cell_type": "markdown",
   "id": "9197e7a4",
   "metadata": {},
   "source": [
    "# GRADIENT BOOSTING using GridSearchCV\n",
    "\n",
    "As the Gradient Boosting model performed best, I will try to optimize it using GridSearchCV.\n",
    "\n",
    "Train-test split"
   ]
  },
  {
   "cell_type": "code",
   "execution_count": 137,
   "id": "f9d88a3a",
   "metadata": {},
   "outputs": [],
   "source": [
    "X = tit_data_model.drop('Survived',axis=1)\n",
    "y = tit_data_model['Survived']\n",
    "X_train, X_test, y_train, y_test = train_test_split(X, y, test_size=0.3, random_state=42)\n"
   ]
  },
  {
   "cell_type": "markdown",
   "id": "49f4b186",
   "metadata": {},
   "source": [
    "Model"
   ]
  },
  {
   "cell_type": "code",
   "execution_count": 138,
   "id": "6bd1fbc7",
   "metadata": {},
   "outputs": [],
   "source": [
    "from sklearn.model_selection import GridSearchCV\n",
    "param_grid = {'loss':['deviance','exponential'],'learning_rate': [0.001,0.01,0.1,1, 10],'n_estimators': [10,100,500,1000],'max_depth':[3,10,50,100]} \n"
   ]
  },
  {
   "cell_type": "code",
   "execution_count": 139,
   "id": "6df752a1",
   "metadata": {},
   "outputs": [],
   "source": [
    "grid = GridSearchCV(GradientBoostingClassifier(),param_grid,refit=True,verbose=3)\n"
   ]
  },
  {
   "cell_type": "code",
   "execution_count": 140,
   "id": "1c929f45",
   "metadata": {},
   "outputs": [
    {
     "name": "stdout",
     "output_type": "stream",
     "text": [
      "Fitting 5 folds for each of 160 candidates, totalling 800 fits\n",
      "[CV 1/5] END learning_rate=0.001, loss=deviance, max_depth=3, n_estimators=10;, score=0.624 total time=   0.0s\n",
      "[CV 2/5] END learning_rate=0.001, loss=deviance, max_depth=3, n_estimators=10;, score=0.632 total time=   0.0s\n",
      "[CV 3/5] END learning_rate=0.001, loss=deviance, max_depth=3, n_estimators=10;, score=0.632 total time=   0.0s\n",
      "[CV 4/5] END learning_rate=0.001, loss=deviance, max_depth=3, n_estimators=10;, score=0.629 total time=   0.0s\n",
      "[CV 5/5] END learning_rate=0.001, loss=deviance, max_depth=3, n_estimators=10;, score=0.629 total time=   0.0s\n",
      "[CV 1/5] END learning_rate=0.001, loss=deviance, max_depth=3, n_estimators=100;, score=0.624 total time=   0.1s\n",
      "[CV 2/5] END learning_rate=0.001, loss=deviance, max_depth=3, n_estimators=100;, score=0.632 total time=   0.1s\n",
      "[CV 3/5] END learning_rate=0.001, loss=deviance, max_depth=3, n_estimators=100;, score=0.632 total time=   0.1s\n",
      "[CV 4/5] END learning_rate=0.001, loss=deviance, max_depth=3, n_estimators=100;, score=0.629 total time=   0.1s\n",
      "[CV 5/5] END learning_rate=0.001, loss=deviance, max_depth=3, n_estimators=100;, score=0.629 total time=   0.1s\n",
      "[CV 1/5] END learning_rate=0.001, loss=deviance, max_depth=3, n_estimators=500;, score=0.776 total time=   0.9s\n",
      "[CV 2/5] END learning_rate=0.001, loss=deviance, max_depth=3, n_estimators=500;, score=0.856 total time=   0.9s\n",
      "[CV 3/5] END learning_rate=0.001, loss=deviance, max_depth=3, n_estimators=500;, score=0.776 total time=   0.9s\n",
      "[CV 4/5] END learning_rate=0.001, loss=deviance, max_depth=3, n_estimators=500;, score=0.790 total time=   0.8s\n",
      "[CV 5/5] END learning_rate=0.001, loss=deviance, max_depth=3, n_estimators=500;, score=0.831 total time=   0.8s\n",
      "[CV 1/5] END learning_rate=0.001, loss=deviance, max_depth=3, n_estimators=1000;, score=0.792 total time=   1.9s\n",
      "[CV 2/5] END learning_rate=0.001, loss=deviance, max_depth=3, n_estimators=1000;, score=0.864 total time=   2.8s\n",
      "[CV 3/5] END learning_rate=0.001, loss=deviance, max_depth=3, n_estimators=1000;, score=0.808 total time=   3.1s\n",
      "[CV 4/5] END learning_rate=0.001, loss=deviance, max_depth=3, n_estimators=1000;, score=0.798 total time=   2.9s\n",
      "[CV 5/5] END learning_rate=0.001, loss=deviance, max_depth=3, n_estimators=1000;, score=0.815 total time=   2.4s\n",
      "[CV 1/5] END learning_rate=0.001, loss=deviance, max_depth=10, n_estimators=10;, score=0.624 total time=   0.0s\n",
      "[CV 2/5] END learning_rate=0.001, loss=deviance, max_depth=10, n_estimators=10;, score=0.632 total time=   0.0s\n",
      "[CV 3/5] END learning_rate=0.001, loss=deviance, max_depth=10, n_estimators=10;, score=0.632 total time=   0.1s\n",
      "[CV 4/5] END learning_rate=0.001, loss=deviance, max_depth=10, n_estimators=10;, score=0.629 total time=   0.0s\n",
      "[CV 5/5] END learning_rate=0.001, loss=deviance, max_depth=10, n_estimators=10;, score=0.629 total time=   0.0s\n",
      "[CV 1/5] END learning_rate=0.001, loss=deviance, max_depth=10, n_estimators=100;, score=0.624 total time=   0.8s\n",
      "[CV 2/5] END learning_rate=0.001, loss=deviance, max_depth=10, n_estimators=100;, score=0.632 total time=   0.8s\n",
      "[CV 3/5] END learning_rate=0.001, loss=deviance, max_depth=10, n_estimators=100;, score=0.632 total time=   0.9s\n",
      "[CV 4/5] END learning_rate=0.001, loss=deviance, max_depth=10, n_estimators=100;, score=0.629 total time=   0.7s\n",
      "[CV 5/5] END learning_rate=0.001, loss=deviance, max_depth=10, n_estimators=100;, score=0.629 total time=   1.0s\n",
      "[CV 1/5] END learning_rate=0.001, loss=deviance, max_depth=10, n_estimators=500;, score=0.808 total time=   4.5s\n",
      "[CV 2/5] END learning_rate=0.001, loss=deviance, max_depth=10, n_estimators=500;, score=0.808 total time=   5.1s\n",
      "[CV 3/5] END learning_rate=0.001, loss=deviance, max_depth=10, n_estimators=500;, score=0.760 total time=   5.2s\n",
      "[CV 4/5] END learning_rate=0.001, loss=deviance, max_depth=10, n_estimators=500;, score=0.823 total time=   4.8s\n",
      "[CV 5/5] END learning_rate=0.001, loss=deviance, max_depth=10, n_estimators=500;, score=0.806 total time=   5.0s\n",
      "[CV 1/5] END learning_rate=0.001, loss=deviance, max_depth=10, n_estimators=1000;, score=0.832 total time=   8.6s\n",
      "[CV 2/5] END learning_rate=0.001, loss=deviance, max_depth=10, n_estimators=1000;, score=0.816 total time=   9.6s\n",
      "[CV 3/5] END learning_rate=0.001, loss=deviance, max_depth=10, n_estimators=1000;, score=0.768 total time=  12.3s\n",
      "[CV 4/5] END learning_rate=0.001, loss=deviance, max_depth=10, n_estimators=1000;, score=0.823 total time=  10.7s\n",
      "[CV 5/5] END learning_rate=0.001, loss=deviance, max_depth=10, n_estimators=1000;, score=0.815 total time=  10.1s\n",
      "[CV 1/5] END learning_rate=0.001, loss=deviance, max_depth=50, n_estimators=10;, score=0.624 total time=   0.1s\n",
      "[CV 2/5] END learning_rate=0.001, loss=deviance, max_depth=50, n_estimators=10;, score=0.632 total time=   0.0s\n",
      "[CV 3/5] END learning_rate=0.001, loss=deviance, max_depth=50, n_estimators=10;, score=0.632 total time=   0.0s\n",
      "[CV 4/5] END learning_rate=0.001, loss=deviance, max_depth=50, n_estimators=10;, score=0.629 total time=   0.1s\n",
      "[CV 5/5] END learning_rate=0.001, loss=deviance, max_depth=50, n_estimators=10;, score=0.629 total time=   0.0s\n",
      "[CV 1/5] END learning_rate=0.001, loss=deviance, max_depth=50, n_estimators=100;, score=0.624 total time=   1.3s\n",
      "[CV 2/5] END learning_rate=0.001, loss=deviance, max_depth=50, n_estimators=100;, score=0.632 total time=   1.5s\n",
      "[CV 3/5] END learning_rate=0.001, loss=deviance, max_depth=50, n_estimators=100;, score=0.632 total time=   1.4s\n",
      "[CV 4/5] END learning_rate=0.001, loss=deviance, max_depth=50, n_estimators=100;, score=0.629 total time=   1.2s\n",
      "[CV 5/5] END learning_rate=0.001, loss=deviance, max_depth=50, n_estimators=100;, score=0.629 total time=   1.2s\n",
      "[CV 1/5] END learning_rate=0.001, loss=deviance, max_depth=50, n_estimators=500;, score=0.792 total time=   5.6s\n",
      "[CV 2/5] END learning_rate=0.001, loss=deviance, max_depth=50, n_estimators=500;, score=0.760 total time=   6.9s\n",
      "[CV 3/5] END learning_rate=0.001, loss=deviance, max_depth=50, n_estimators=500;, score=0.744 total time=   6.1s\n",
      "[CV 4/5] END learning_rate=0.001, loss=deviance, max_depth=50, n_estimators=500;, score=0.806 total time=   6.4s\n",
      "[CV 5/5] END learning_rate=0.001, loss=deviance, max_depth=50, n_estimators=500;, score=0.790 total time=   6.7s\n",
      "[CV 1/5] END learning_rate=0.001, loss=deviance, max_depth=50, n_estimators=1000;, score=0.784 total time=  11.8s\n",
      "[CV 2/5] END learning_rate=0.001, loss=deviance, max_depth=50, n_estimators=1000;, score=0.760 total time=  12.6s\n",
      "[CV 3/5] END learning_rate=0.001, loss=deviance, max_depth=50, n_estimators=1000;, score=0.736 total time=  12.4s\n",
      "[CV 4/5] END learning_rate=0.001, loss=deviance, max_depth=50, n_estimators=1000;, score=0.806 total time=  13.1s\n",
      "[CV 5/5] END learning_rate=0.001, loss=deviance, max_depth=50, n_estimators=1000;, score=0.790 total time=  15.6s\n",
      "[CV 1/5] END learning_rate=0.001, loss=deviance, max_depth=100, n_estimators=10;, score=0.624 total time=   0.1s\n",
      "[CV 2/5] END learning_rate=0.001, loss=deviance, max_depth=100, n_estimators=10;, score=0.632 total time=   0.2s\n",
      "[CV 3/5] END learning_rate=0.001, loss=deviance, max_depth=100, n_estimators=10;, score=0.632 total time=   0.1s\n",
      "[CV 4/5] END learning_rate=0.001, loss=deviance, max_depth=100, n_estimators=10;, score=0.629 total time=   0.1s\n",
      "[CV 5/5] END learning_rate=0.001, loss=deviance, max_depth=100, n_estimators=10;, score=0.629 total time=   0.1s\n",
      "[CV 1/5] END learning_rate=0.001, loss=deviance, max_depth=100, n_estimators=100;, score=0.624 total time=   1.9s\n",
      "[CV 2/5] END learning_rate=0.001, loss=deviance, max_depth=100, n_estimators=100;, score=0.632 total time=   2.0s\n",
      "[CV 3/5] END learning_rate=0.001, loss=deviance, max_depth=100, n_estimators=100;, score=0.632 total time=   1.8s\n",
      "[CV 4/5] END learning_rate=0.001, loss=deviance, max_depth=100, n_estimators=100;, score=0.629 total time=   2.7s\n",
      "[CV 5/5] END learning_rate=0.001, loss=deviance, max_depth=100, n_estimators=100;, score=0.629 total time=   2.4s\n",
      "[CV 1/5] END learning_rate=0.001, loss=deviance, max_depth=100, n_estimators=500;, score=0.792 total time=   7.4s\n",
      "[CV 2/5] END learning_rate=0.001, loss=deviance, max_depth=100, n_estimators=500;, score=0.760 total time=  10.0s\n",
      "[CV 3/5] END learning_rate=0.001, loss=deviance, max_depth=100, n_estimators=500;, score=0.744 total time=   7.8s\n",
      "[CV 4/5] END learning_rate=0.001, loss=deviance, max_depth=100, n_estimators=500;, score=0.806 total time=   7.3s\n",
      "[CV 5/5] END learning_rate=0.001, loss=deviance, max_depth=100, n_estimators=500;, score=0.790 total time=   7.8s\n",
      "[CV 1/5] END learning_rate=0.001, loss=deviance, max_depth=100, n_estimators=1000;, score=0.784 total time=  13.2s\n",
      "[CV 2/5] END learning_rate=0.001, loss=deviance, max_depth=100, n_estimators=1000;, score=0.760 total time=  15.9s\n",
      "[CV 3/5] END learning_rate=0.001, loss=deviance, max_depth=100, n_estimators=1000;, score=0.736 total time=  14.7s\n",
      "[CV 4/5] END learning_rate=0.001, loss=deviance, max_depth=100, n_estimators=1000;, score=0.806 total time=  14.2s\n",
      "[CV 5/5] END learning_rate=0.001, loss=deviance, max_depth=100, n_estimators=1000;, score=0.790 total time=  14.7s\n",
      "[CV 1/5] END learning_rate=0.001, loss=exponential, max_depth=3, n_estimators=10;, score=0.624 total time=   0.0s\n",
      "[CV 2/5] END learning_rate=0.001, loss=exponential, max_depth=3, n_estimators=10;, score=0.632 total time=   0.0s\n",
      "[CV 3/5] END learning_rate=0.001, loss=exponential, max_depth=3, n_estimators=10;, score=0.632 total time=   0.0s\n",
      "[CV 4/5] END learning_rate=0.001, loss=exponential, max_depth=3, n_estimators=10;, score=0.629 total time=   0.0s\n",
      "[CV 5/5] END learning_rate=0.001, loss=exponential, max_depth=3, n_estimators=10;, score=0.629 total time=   0.0s\n",
      "[CV 1/5] END learning_rate=0.001, loss=exponential, max_depth=3, n_estimators=100;, score=0.624 total time=   0.1s\n",
      "[CV 2/5] END learning_rate=0.001, loss=exponential, max_depth=3, n_estimators=100;, score=0.632 total time=   0.1s\n",
      "[CV 3/5] END learning_rate=0.001, loss=exponential, max_depth=3, n_estimators=100;, score=0.632 total time=   0.1s\n",
      "[CV 4/5] END learning_rate=0.001, loss=exponential, max_depth=3, n_estimators=100;, score=0.629 total time=   0.1s\n",
      "[CV 5/5] END learning_rate=0.001, loss=exponential, max_depth=3, n_estimators=100;, score=0.629 total time=   0.1s\n",
      "[CV 1/5] END learning_rate=0.001, loss=exponential, max_depth=3, n_estimators=500;, score=0.776 total time=   0.8s\n",
      "[CV 2/5] END learning_rate=0.001, loss=exponential, max_depth=3, n_estimators=500;, score=0.856 total time=   0.8s\n",
      "[CV 3/5] END learning_rate=0.001, loss=exponential, max_depth=3, n_estimators=500;, score=0.776 total time=   0.8s\n",
      "[CV 4/5] END learning_rate=0.001, loss=exponential, max_depth=3, n_estimators=500;, score=0.790 total time=   0.8s\n",
      "[CV 5/5] END learning_rate=0.001, loss=exponential, max_depth=3, n_estimators=500;, score=0.831 total time=   0.9s\n",
      "[CV 1/5] END learning_rate=0.001, loss=exponential, max_depth=3, n_estimators=1000;, score=0.792 total time=   1.7s\n",
      "[CV 2/5] END learning_rate=0.001, loss=exponential, max_depth=3, n_estimators=1000;, score=0.856 total time=   1.7s\n",
      "[CV 3/5] END learning_rate=0.001, loss=exponential, max_depth=3, n_estimators=1000;, score=0.808 total time=   1.9s\n",
      "[CV 4/5] END learning_rate=0.001, loss=exponential, max_depth=3, n_estimators=1000;, score=0.798 total time=   1.8s\n",
      "[CV 5/5] END learning_rate=0.001, loss=exponential, max_depth=3, n_estimators=1000;, score=0.823 total time=   1.7s\n",
      "[CV 1/5] END learning_rate=0.001, loss=exponential, max_depth=10, n_estimators=10;, score=0.624 total time=   0.0s\n",
      "[CV 2/5] END learning_rate=0.001, loss=exponential, max_depth=10, n_estimators=10;, score=0.632 total time=   0.0s\n",
      "[CV 3/5] END learning_rate=0.001, loss=exponential, max_depth=10, n_estimators=10;, score=0.632 total time=   0.0s\n",
      "[CV 4/5] END learning_rate=0.001, loss=exponential, max_depth=10, n_estimators=10;, score=0.629 total time=   0.0s\n",
      "[CV 5/5] END learning_rate=0.001, loss=exponential, max_depth=10, n_estimators=10;, score=0.629 total time=   0.0s\n",
      "[CV 1/5] END learning_rate=0.001, loss=exponential, max_depth=10, n_estimators=100;, score=0.624 total time=   0.8s\n",
      "[CV 2/5] END learning_rate=0.001, loss=exponential, max_depth=10, n_estimators=100;, score=0.632 total time=   0.9s\n",
      "[CV 3/5] END learning_rate=0.001, loss=exponential, max_depth=10, n_estimators=100;, score=0.632 total time=   1.0s\n",
      "[CV 4/5] END learning_rate=0.001, loss=exponential, max_depth=10, n_estimators=100;, score=0.629 total time=   0.9s\n",
      "[CV 5/5] END learning_rate=0.001, loss=exponential, max_depth=10, n_estimators=100;, score=0.629 total time=   0.9s\n",
      "[CV 1/5] END learning_rate=0.001, loss=exponential, max_depth=10, n_estimators=500;, score=0.824 total time=   4.8s\n",
      "[CV 2/5] END learning_rate=0.001, loss=exponential, max_depth=10, n_estimators=500;, score=0.808 total time=   6.1s\n",
      "[CV 3/5] END learning_rate=0.001, loss=exponential, max_depth=10, n_estimators=500;, score=0.768 total time=   5.0s\n",
      "[CV 4/5] END learning_rate=0.001, loss=exponential, max_depth=10, n_estimators=500;, score=0.823 total time=   4.5s\n",
      "[CV 5/5] END learning_rate=0.001, loss=exponential, max_depth=10, n_estimators=500;, score=0.815 total time=   5.2s\n",
      "[CV 1/5] END learning_rate=0.001, loss=exponential, max_depth=10, n_estimators=1000;, score=0.824 total time=  10.5s\n",
      "[CV 2/5] END learning_rate=0.001, loss=exponential, max_depth=10, n_estimators=1000;, score=0.808 total time=  12.2s\n",
      "[CV 3/5] END learning_rate=0.001, loss=exponential, max_depth=10, n_estimators=1000;, score=0.752 total time=  11.9s\n",
      "[CV 4/5] END learning_rate=0.001, loss=exponential, max_depth=10, n_estimators=1000;, score=0.806 total time=  10.0s\n",
      "[CV 5/5] END learning_rate=0.001, loss=exponential, max_depth=10, n_estimators=1000;, score=0.831 total time=  10.1s\n",
      "[CV 1/5] END learning_rate=0.001, loss=exponential, max_depth=50, n_estimators=10;, score=0.624 total time=   0.0s\n",
      "[CV 2/5] END learning_rate=0.001, loss=exponential, max_depth=50, n_estimators=10;, score=0.632 total time=   0.1s\n",
      "[CV 3/5] END learning_rate=0.001, loss=exponential, max_depth=50, n_estimators=10;, score=0.632 total time=   0.0s\n",
      "[CV 4/5] END learning_rate=0.001, loss=exponential, max_depth=50, n_estimators=10;, score=0.629 total time=   0.1s\n",
      "[CV 5/5] END learning_rate=0.001, loss=exponential, max_depth=50, n_estimators=10;, score=0.629 total time=   0.1s\n",
      "[CV 1/5] END learning_rate=0.001, loss=exponential, max_depth=50, n_estimators=100;, score=0.624 total time=   1.3s\n",
      "[CV 2/5] END learning_rate=0.001, loss=exponential, max_depth=50, n_estimators=100;, score=0.632 total time=   1.4s\n",
      "[CV 3/5] END learning_rate=0.001, loss=exponential, max_depth=50, n_estimators=100;, score=0.632 total time=   1.5s\n",
      "[CV 4/5] END learning_rate=0.001, loss=exponential, max_depth=50, n_estimators=100;, score=0.629 total time=   1.7s\n",
      "[CV 5/5] END learning_rate=0.001, loss=exponential, max_depth=50, n_estimators=100;, score=0.629 total time=   1.6s\n",
      "[CV 1/5] END learning_rate=0.001, loss=exponential, max_depth=50, n_estimators=500;, score=0.792 total time=   7.8s\n",
      "[CV 2/5] END learning_rate=0.001, loss=exponential, max_depth=50, n_estimators=500;, score=0.760 total time=   8.8s\n",
      "[CV 3/5] END learning_rate=0.001, loss=exponential, max_depth=50, n_estimators=500;, score=0.744 total time=   8.5s\n",
      "[CV 4/5] END learning_rate=0.001, loss=exponential, max_depth=50, n_estimators=500;, score=0.798 total time=   8.8s\n",
      "[CV 5/5] END learning_rate=0.001, loss=exponential, max_depth=50, n_estimators=500;, score=0.790 total time=   8.6s\n",
      "[CV 1/5] END learning_rate=0.001, loss=exponential, max_depth=50, n_estimators=1000;, score=0.792 total time=  14.7s\n",
      "[CV 2/5] END learning_rate=0.001, loss=exponential, max_depth=50, n_estimators=1000;, score=0.760 total time=  14.7s\n",
      "[CV 3/5] END learning_rate=0.001, loss=exponential, max_depth=50, n_estimators=1000;, score=0.712 total time=  15.3s\n",
      "[CV 4/5] END learning_rate=0.001, loss=exponential, max_depth=50, n_estimators=1000;, score=0.798 total time=  17.4s\n",
      "[CV 5/5] END learning_rate=0.001, loss=exponential, max_depth=50, n_estimators=1000;, score=0.790 total time=  15.4s\n",
      "[CV 1/5] END learning_rate=0.001, loss=exponential, max_depth=100, n_estimators=10;, score=0.624 total time=   0.0s\n",
      "[CV 2/5] END learning_rate=0.001, loss=exponential, max_depth=100, n_estimators=10;, score=0.632 total time=   0.1s\n",
      "[CV 3/5] END learning_rate=0.001, loss=exponential, max_depth=100, n_estimators=10;, score=0.632 total time=   0.0s\n",
      "[CV 4/5] END learning_rate=0.001, loss=exponential, max_depth=100, n_estimators=10;, score=0.629 total time=   0.1s\n",
      "[CV 5/5] END learning_rate=0.001, loss=exponential, max_depth=100, n_estimators=10;, score=0.629 total time=   0.0s\n",
      "[CV 1/5] END learning_rate=0.001, loss=exponential, max_depth=100, n_estimators=100;, score=0.624 total time=   1.2s\n",
      "[CV 2/5] END learning_rate=0.001, loss=exponential, max_depth=100, n_estimators=100;, score=0.632 total time=   1.4s\n",
      "[CV 3/5] END learning_rate=0.001, loss=exponential, max_depth=100, n_estimators=100;, score=0.632 total time=   1.4s\n",
      "[CV 4/5] END learning_rate=0.001, loss=exponential, max_depth=100, n_estimators=100;, score=0.629 total time=   1.2s\n",
      "[CV 5/5] END learning_rate=0.001, loss=exponential, max_depth=100, n_estimators=100;, score=0.629 total time=   1.3s\n",
      "[CV 1/5] END learning_rate=0.001, loss=exponential, max_depth=100, n_estimators=500;, score=0.792 total time=   6.1s\n",
      "[CV 2/5] END learning_rate=0.001, loss=exponential, max_depth=100, n_estimators=500;, score=0.760 total time=   7.0s\n",
      "[CV 3/5] END learning_rate=0.001, loss=exponential, max_depth=100, n_estimators=500;, score=0.744 total time=   6.4s\n",
      "[CV 4/5] END learning_rate=0.001, loss=exponential, max_depth=100, n_estimators=500;, score=0.798 total time=   6.9s\n",
      "[CV 5/5] END learning_rate=0.001, loss=exponential, max_depth=100, n_estimators=500;, score=0.790 total time=   7.0s\n",
      "[CV 1/5] END learning_rate=0.001, loss=exponential, max_depth=100, n_estimators=1000;, score=0.792 total time=  12.9s\n",
      "[CV 2/5] END learning_rate=0.001, loss=exponential, max_depth=100, n_estimators=1000;, score=0.760 total time=  13.8s\n",
      "[CV 3/5] END learning_rate=0.001, loss=exponential, max_depth=100, n_estimators=1000;, score=0.712 total time=  12.9s\n",
      "[CV 4/5] END learning_rate=0.001, loss=exponential, max_depth=100, n_estimators=1000;, score=0.798 total time=  14.0s\n",
      "[CV 5/5] END learning_rate=0.001, loss=exponential, max_depth=100, n_estimators=1000;, score=0.790 total time=  13.8s\n",
      "[CV 1/5] END learning_rate=0.01, loss=deviance, max_depth=3, n_estimators=10;, score=0.624 total time=   0.0s\n",
      "[CV 2/5] END learning_rate=0.01, loss=deviance, max_depth=3, n_estimators=10;, score=0.632 total time=   0.0s\n",
      "[CV 3/5] END learning_rate=0.01, loss=deviance, max_depth=3, n_estimators=10;, score=0.632 total time=   0.0s\n",
      "[CV 4/5] END learning_rate=0.01, loss=deviance, max_depth=3, n_estimators=10;, score=0.629 total time=   0.0s\n",
      "[CV 5/5] END learning_rate=0.01, loss=deviance, max_depth=3, n_estimators=10;, score=0.629 total time=   0.0s\n",
      "[CV 1/5] END learning_rate=0.01, loss=deviance, max_depth=3, n_estimators=100;, score=0.792 total time=   0.1s\n",
      "[CV 2/5] END learning_rate=0.01, loss=deviance, max_depth=3, n_estimators=100;, score=0.856 total time=   0.1s\n",
      "[CV 3/5] END learning_rate=0.01, loss=deviance, max_depth=3, n_estimators=100;, score=0.808 total time=   0.1s\n",
      "[CV 4/5] END learning_rate=0.01, loss=deviance, max_depth=3, n_estimators=100;, score=0.798 total time=   0.1s\n",
      "[CV 5/5] END learning_rate=0.01, loss=deviance, max_depth=3, n_estimators=100;, score=0.815 total time=   0.1s\n",
      "[CV 1/5] END learning_rate=0.01, loss=deviance, max_depth=3, n_estimators=500;, score=0.816 total time=   0.7s\n",
      "[CV 2/5] END learning_rate=0.01, loss=deviance, max_depth=3, n_estimators=500;, score=0.880 total time=   0.7s\n",
      "[CV 3/5] END learning_rate=0.01, loss=deviance, max_depth=3, n_estimators=500;, score=0.768 total time=   0.7s\n",
      "[CV 4/5] END learning_rate=0.01, loss=deviance, max_depth=3, n_estimators=500;, score=0.798 total time=   0.7s\n",
      "[CV 5/5] END learning_rate=0.01, loss=deviance, max_depth=3, n_estimators=500;, score=0.839 total time=   0.8s\n",
      "[CV 1/5] END learning_rate=0.01, loss=deviance, max_depth=3, n_estimators=1000;, score=0.816 total time=   1.8s\n",
      "[CV 2/5] END learning_rate=0.01, loss=deviance, max_depth=3, n_estimators=1000;, score=0.880 total time=   1.5s\n",
      "[CV 3/5] END learning_rate=0.01, loss=deviance, max_depth=3, n_estimators=1000;, score=0.752 total time=   1.5s\n",
      "[CV 4/5] END learning_rate=0.01, loss=deviance, max_depth=3, n_estimators=1000;, score=0.806 total time=   1.6s\n",
      "[CV 5/5] END learning_rate=0.01, loss=deviance, max_depth=3, n_estimators=1000;, score=0.815 total time=   1.5s\n",
      "[CV 1/5] END learning_rate=0.01, loss=deviance, max_depth=10, n_estimators=10;, score=0.624 total time=   0.0s\n",
      "[CV 2/5] END learning_rate=0.01, loss=deviance, max_depth=10, n_estimators=10;, score=0.632 total time=   0.0s\n",
      "[CV 3/5] END learning_rate=0.01, loss=deviance, max_depth=10, n_estimators=10;, score=0.632 total time=   0.0s\n",
      "[CV 4/5] END learning_rate=0.01, loss=deviance, max_depth=10, n_estimators=10;, score=0.629 total time=   0.0s\n",
      "[CV 5/5] END learning_rate=0.01, loss=deviance, max_depth=10, n_estimators=10;, score=0.629 total time=   0.0s\n",
      "[CV 1/5] END learning_rate=0.01, loss=deviance, max_depth=10, n_estimators=100;, score=0.832 total time=   0.8s\n",
      "[CV 2/5] END learning_rate=0.01, loss=deviance, max_depth=10, n_estimators=100;, score=0.808 total time=   1.0s\n",
      "[CV 3/5] END learning_rate=0.01, loss=deviance, max_depth=10, n_estimators=100;, score=0.768 total time=   0.9s\n",
      "[CV 4/5] END learning_rate=0.01, loss=deviance, max_depth=10, n_estimators=100;, score=0.823 total time=   0.7s\n",
      "[CV 5/5] END learning_rate=0.01, loss=deviance, max_depth=10, n_estimators=100;, score=0.815 total time=   0.8s\n",
      "[CV 1/5] END learning_rate=0.01, loss=deviance, max_depth=10, n_estimators=500;, score=0.824 total time=   5.2s\n",
      "[CV 2/5] END learning_rate=0.01, loss=deviance, max_depth=10, n_estimators=500;, score=0.760 total time=   5.0s\n",
      "[CV 3/5] END learning_rate=0.01, loss=deviance, max_depth=10, n_estimators=500;, score=0.736 total time=   5.5s\n",
      "[CV 4/5] END learning_rate=0.01, loss=deviance, max_depth=10, n_estimators=500;, score=0.806 total time=   5.5s\n",
      "[CV 5/5] END learning_rate=0.01, loss=deviance, max_depth=10, n_estimators=500;, score=0.798 total time=   5.0s\n",
      "[CV 1/5] END learning_rate=0.01, loss=deviance, max_depth=10, n_estimators=1000;, score=0.832 total time=  11.0s\n",
      "[CV 2/5] END learning_rate=0.01, loss=deviance, max_depth=10, n_estimators=1000;, score=0.776 total time=  11.0s\n",
      "[CV 3/5] END learning_rate=0.01, loss=deviance, max_depth=10, n_estimators=1000;, score=0.744 total time=  12.4s\n",
      "[CV 4/5] END learning_rate=0.01, loss=deviance, max_depth=10, n_estimators=1000;, score=0.815 total time=  11.3s\n",
      "[CV 5/5] END learning_rate=0.01, loss=deviance, max_depth=10, n_estimators=1000;, score=0.790 total time=  12.1s\n",
      "[CV 1/5] END learning_rate=0.01, loss=deviance, max_depth=50, n_estimators=10;, score=0.624 total time=   0.0s\n",
      "[CV 2/5] END learning_rate=0.01, loss=deviance, max_depth=50, n_estimators=10;, score=0.632 total time=   0.0s\n",
      "[CV 3/5] END learning_rate=0.01, loss=deviance, max_depth=50, n_estimators=10;, score=0.632 total time=   0.0s\n",
      "[CV 4/5] END learning_rate=0.01, loss=deviance, max_depth=50, n_estimators=10;, score=0.629 total time=   0.0s\n",
      "[CV 5/5] END learning_rate=0.01, loss=deviance, max_depth=50, n_estimators=10;, score=0.629 total time=   0.0s\n",
      "[CV 1/5] END learning_rate=0.01, loss=deviance, max_depth=50, n_estimators=100;, score=0.784 total time=   1.1s\n",
      "[CV 2/5] END learning_rate=0.01, loss=deviance, max_depth=50, n_estimators=100;, score=0.760 total time=   1.1s\n",
      "[CV 3/5] END learning_rate=0.01, loss=deviance, max_depth=50, n_estimators=100;, score=0.728 total time=   1.1s\n",
      "[CV 4/5] END learning_rate=0.01, loss=deviance, max_depth=50, n_estimators=100;, score=0.806 total time=   1.2s\n",
      "[CV 5/5] END learning_rate=0.01, loss=deviance, max_depth=50, n_estimators=100;, score=0.790 total time=   1.2s\n",
      "[CV 1/5] END learning_rate=0.01, loss=deviance, max_depth=50, n_estimators=500;, score=0.792 total time=   5.9s\n",
      "[CV 2/5] END learning_rate=0.01, loss=deviance, max_depth=50, n_estimators=500;, score=0.776 total time=   7.2s\n",
      "[CV 3/5] END learning_rate=0.01, loss=deviance, max_depth=50, n_estimators=500;, score=0.720 total time=   6.6s\n",
      "[CV 4/5] END learning_rate=0.01, loss=deviance, max_depth=50, n_estimators=500;, score=0.806 total time=   6.5s\n",
      "[CV 5/5] END learning_rate=0.01, loss=deviance, max_depth=50, n_estimators=500;, score=0.790 total time=   6.2s\n",
      "[CV 1/5] END learning_rate=0.01, loss=deviance, max_depth=50, n_estimators=1000;, score=0.800 total time=  11.6s\n",
      "[CV 2/5] END learning_rate=0.01, loss=deviance, max_depth=50, n_estimators=1000;, score=0.776 total time=  12.5s\n",
      "[CV 3/5] END learning_rate=0.01, loss=deviance, max_depth=50, n_estimators=1000;, score=0.720 total time=  11.7s\n",
      "[CV 4/5] END learning_rate=0.01, loss=deviance, max_depth=50, n_estimators=1000;, score=0.806 total time=  13.1s\n",
      "[CV 5/5] END learning_rate=0.01, loss=deviance, max_depth=50, n_estimators=1000;, score=0.790 total time=  12.7s\n",
      "[CV 1/5] END learning_rate=0.01, loss=deviance, max_depth=100, n_estimators=10;, score=0.624 total time=   0.0s\n",
      "[CV 2/5] END learning_rate=0.01, loss=deviance, max_depth=100, n_estimators=10;, score=0.632 total time=   0.0s\n",
      "[CV 3/5] END learning_rate=0.01, loss=deviance, max_depth=100, n_estimators=10;, score=0.632 total time=   0.0s\n",
      "[CV 4/5] END learning_rate=0.01, loss=deviance, max_depth=100, n_estimators=10;, score=0.629 total time=   0.0s\n",
      "[CV 5/5] END learning_rate=0.01, loss=deviance, max_depth=100, n_estimators=10;, score=0.629 total time=   0.0s\n",
      "[CV 1/5] END learning_rate=0.01, loss=deviance, max_depth=100, n_estimators=100;, score=0.784 total time=   1.1s\n",
      "[CV 2/5] END learning_rate=0.01, loss=deviance, max_depth=100, n_estimators=100;, score=0.760 total time=   1.2s\n",
      "[CV 3/5] END learning_rate=0.01, loss=deviance, max_depth=100, n_estimators=100;, score=0.720 total time=   1.1s\n",
      "[CV 4/5] END learning_rate=0.01, loss=deviance, max_depth=100, n_estimators=100;, score=0.798 total time=   1.2s\n",
      "[CV 5/5] END learning_rate=0.01, loss=deviance, max_depth=100, n_estimators=100;, score=0.790 total time=   1.2s\n",
      "[CV 1/5] END learning_rate=0.01, loss=deviance, max_depth=100, n_estimators=500;, score=0.792 total time=   6.0s\n",
      "[CV 2/5] END learning_rate=0.01, loss=deviance, max_depth=100, n_estimators=500;, score=0.768 total time=   6.0s\n",
      "[CV 3/5] END learning_rate=0.01, loss=deviance, max_depth=100, n_estimators=500;, score=0.728 total time=   6.7s\n",
      "[CV 4/5] END learning_rate=0.01, loss=deviance, max_depth=100, n_estimators=500;, score=0.806 total time=   7.1s\n",
      "[CV 5/5] END learning_rate=0.01, loss=deviance, max_depth=100, n_estimators=500;, score=0.790 total time=   8.0s\n",
      "[CV 1/5] END learning_rate=0.01, loss=deviance, max_depth=100, n_estimators=1000;, score=0.800 total time=  14.1s\n",
      "[CV 2/5] END learning_rate=0.01, loss=deviance, max_depth=100, n_estimators=1000;, score=0.776 total time=  16.3s\n",
      "[CV 3/5] END learning_rate=0.01, loss=deviance, max_depth=100, n_estimators=1000;, score=0.728 total time=  13.1s\n",
      "[CV 4/5] END learning_rate=0.01, loss=deviance, max_depth=100, n_estimators=1000;, score=0.806 total time=  14.2s\n",
      "[CV 5/5] END learning_rate=0.01, loss=deviance, max_depth=100, n_estimators=1000;, score=0.790 total time=  15.1s\n",
      "[CV 1/5] END learning_rate=0.01, loss=exponential, max_depth=3, n_estimators=10;, score=0.624 total time=   0.0s\n",
      "[CV 2/5] END learning_rate=0.01, loss=exponential, max_depth=3, n_estimators=10;, score=0.632 total time=   0.0s\n",
      "[CV 3/5] END learning_rate=0.01, loss=exponential, max_depth=3, n_estimators=10;, score=0.632 total time=   0.0s\n",
      "[CV 4/5] END learning_rate=0.01, loss=exponential, max_depth=3, n_estimators=10;, score=0.629 total time=   0.0s\n",
      "[CV 5/5] END learning_rate=0.01, loss=exponential, max_depth=3, n_estimators=10;, score=0.629 total time=   0.0s\n",
      "[CV 1/5] END learning_rate=0.01, loss=exponential, max_depth=3, n_estimators=100;, score=0.792 total time=   0.1s\n",
      "[CV 2/5] END learning_rate=0.01, loss=exponential, max_depth=3, n_estimators=100;, score=0.856 total time=   0.1s\n",
      "[CV 3/5] END learning_rate=0.01, loss=exponential, max_depth=3, n_estimators=100;, score=0.808 total time=   0.1s\n",
      "[CV 4/5] END learning_rate=0.01, loss=exponential, max_depth=3, n_estimators=100;, score=0.798 total time=   0.1s\n",
      "[CV 5/5] END learning_rate=0.01, loss=exponential, max_depth=3, n_estimators=100;, score=0.823 total time=   0.1s\n",
      "[CV 1/5] END learning_rate=0.01, loss=exponential, max_depth=3, n_estimators=500;, score=0.816 total time=   0.8s\n",
      "[CV 2/5] END learning_rate=0.01, loss=exponential, max_depth=3, n_estimators=500;, score=0.904 total time=   0.8s\n",
      "[CV 3/5] END learning_rate=0.01, loss=exponential, max_depth=3, n_estimators=500;, score=0.776 total time=   0.9s\n",
      "[CV 4/5] END learning_rate=0.01, loss=exponential, max_depth=3, n_estimators=500;, score=0.798 total time=   0.8s\n",
      "[CV 5/5] END learning_rate=0.01, loss=exponential, max_depth=3, n_estimators=500;, score=0.839 total time=   0.9s\n",
      "[CV 1/5] END learning_rate=0.01, loss=exponential, max_depth=3, n_estimators=1000;, score=0.800 total time=   1.7s\n",
      "[CV 2/5] END learning_rate=0.01, loss=exponential, max_depth=3, n_estimators=1000;, score=0.888 total time=   1.6s\n",
      "[CV 3/5] END learning_rate=0.01, loss=exponential, max_depth=3, n_estimators=1000;, score=0.752 total time=   1.8s\n",
      "[CV 4/5] END learning_rate=0.01, loss=exponential, max_depth=3, n_estimators=1000;, score=0.823 total time=   1.8s\n",
      "[CV 5/5] END learning_rate=0.01, loss=exponential, max_depth=3, n_estimators=1000;, score=0.815 total time=   1.8s\n",
      "[CV 1/5] END learning_rate=0.01, loss=exponential, max_depth=10, n_estimators=10;, score=0.624 total time=   0.0s\n",
      "[CV 2/5] END learning_rate=0.01, loss=exponential, max_depth=10, n_estimators=10;, score=0.632 total time=   0.0s\n",
      "[CV 3/5] END learning_rate=0.01, loss=exponential, max_depth=10, n_estimators=10;, score=0.632 total time=   0.0s\n",
      "[CV 4/5] END learning_rate=0.01, loss=exponential, max_depth=10, n_estimators=10;, score=0.629 total time=   0.0s\n",
      "[CV 5/5] END learning_rate=0.01, loss=exponential, max_depth=10, n_estimators=10;, score=0.629 total time=   0.0s\n",
      "[CV 1/5] END learning_rate=0.01, loss=exponential, max_depth=10, n_estimators=100;, score=0.832 total time=   0.9s\n",
      "[CV 2/5] END learning_rate=0.01, loss=exponential, max_depth=10, n_estimators=100;, score=0.808 total time=   1.1s\n",
      "[CV 3/5] END learning_rate=0.01, loss=exponential, max_depth=10, n_estimators=100;, score=0.760 total time=   1.0s\n",
      "[CV 4/5] END learning_rate=0.01, loss=exponential, max_depth=10, n_estimators=100;, score=0.806 total time=   0.9s\n",
      "[CV 5/5] END learning_rate=0.01, loss=exponential, max_depth=10, n_estimators=100;, score=0.831 total time=   1.0s\n",
      "[CV 1/5] END learning_rate=0.01, loss=exponential, max_depth=10, n_estimators=500;, score=0.832 total time=   6.2s\n",
      "[CV 2/5] END learning_rate=0.01, loss=exponential, max_depth=10, n_estimators=500;, score=0.760 total time=   5.7s\n",
      "[CV 3/5] END learning_rate=0.01, loss=exponential, max_depth=10, n_estimators=500;, score=0.736 total time=   6.1s\n",
      "[CV 4/5] END learning_rate=0.01, loss=exponential, max_depth=10, n_estimators=500;, score=0.815 total time=   5.7s\n",
      "[CV 5/5] END learning_rate=0.01, loss=exponential, max_depth=10, n_estimators=500;, score=0.815 total time=   5.6s\n",
      "[CV 1/5] END learning_rate=0.01, loss=exponential, max_depth=10, n_estimators=1000;, score=0.824 total time=  12.6s\n",
      "[CV 2/5] END learning_rate=0.01, loss=exponential, max_depth=10, n_estimators=1000;, score=0.776 total time=  13.3s\n",
      "[CV 3/5] END learning_rate=0.01, loss=exponential, max_depth=10, n_estimators=1000;, score=0.744 total time=  12.8s\n",
      "[CV 4/5] END learning_rate=0.01, loss=exponential, max_depth=10, n_estimators=1000;, score=0.823 total time=  12.1s\n",
      "[CV 5/5] END learning_rate=0.01, loss=exponential, max_depth=10, n_estimators=1000;, score=0.790 total time=  11.7s\n",
      "[CV 1/5] END learning_rate=0.01, loss=exponential, max_depth=50, n_estimators=10;, score=0.624 total time=   0.0s\n",
      "[CV 2/5] END learning_rate=0.01, loss=exponential, max_depth=50, n_estimators=10;, score=0.632 total time=   0.0s\n",
      "[CV 3/5] END learning_rate=0.01, loss=exponential, max_depth=50, n_estimators=10;, score=0.632 total time=   0.0s\n",
      "[CV 4/5] END learning_rate=0.01, loss=exponential, max_depth=50, n_estimators=10;, score=0.629 total time=   0.1s\n",
      "[CV 5/5] END learning_rate=0.01, loss=exponential, max_depth=50, n_estimators=10;, score=0.629 total time=   0.0s\n",
      "[CV 1/5] END learning_rate=0.01, loss=exponential, max_depth=50, n_estimators=100;, score=0.800 total time=   1.2s\n",
      "[CV 2/5] END learning_rate=0.01, loss=exponential, max_depth=50, n_estimators=100;, score=0.760 total time=   1.4s\n",
      "[CV 3/5] END learning_rate=0.01, loss=exponential, max_depth=50, n_estimators=100;, score=0.720 total time=   1.5s\n",
      "[CV 4/5] END learning_rate=0.01, loss=exponential, max_depth=50, n_estimators=100;, score=0.798 total time=   1.3s\n",
      "[CV 5/5] END learning_rate=0.01, loss=exponential, max_depth=50, n_estimators=100;, score=0.790 total time=   1.3s\n",
      "[CV 1/5] END learning_rate=0.01, loss=exponential, max_depth=50, n_estimators=500;, score=0.792 total time=   6.9s\n",
      "[CV 2/5] END learning_rate=0.01, loss=exponential, max_depth=50, n_estimators=500;, score=0.760 total time=   7.1s\n",
      "[CV 3/5] END learning_rate=0.01, loss=exponential, max_depth=50, n_estimators=500;, score=0.720 total time=   6.4s\n",
      "[CV 4/5] END learning_rate=0.01, loss=exponential, max_depth=50, n_estimators=500;, score=0.798 total time=   6.9s\n",
      "[CV 5/5] END learning_rate=0.01, loss=exponential, max_depth=50, n_estimators=500;, score=0.790 total time=   6.9s\n",
      "[CV 1/5] END learning_rate=0.01, loss=exponential, max_depth=50, n_estimators=1000;, score=0.792 total time=  13.3s\n",
      "[CV 2/5] END learning_rate=0.01, loss=exponential, max_depth=50, n_estimators=1000;, score=0.768 total time=  13.8s\n",
      "[CV 3/5] END learning_rate=0.01, loss=exponential, max_depth=50, n_estimators=1000;, score=0.720 total time=  13.3s\n",
      "[CV 4/5] END learning_rate=0.01, loss=exponential, max_depth=50, n_estimators=1000;, score=0.798 total time=  13.8s\n",
      "[CV 5/5] END learning_rate=0.01, loss=exponential, max_depth=50, n_estimators=1000;, score=0.790 total time=  14.0s\n",
      "[CV 1/5] END learning_rate=0.01, loss=exponential, max_depth=100, n_estimators=10;, score=0.624 total time=   0.0s\n",
      "[CV 2/5] END learning_rate=0.01, loss=exponential, max_depth=100, n_estimators=10;, score=0.632 total time=   0.1s\n",
      "[CV 3/5] END learning_rate=0.01, loss=exponential, max_depth=100, n_estimators=10;, score=0.632 total time=   0.0s\n",
      "[CV 4/5] END learning_rate=0.01, loss=exponential, max_depth=100, n_estimators=10;, score=0.629 total time=   0.1s\n",
      "[CV 5/5] END learning_rate=0.01, loss=exponential, max_depth=100, n_estimators=10;, score=0.629 total time=   0.1s\n",
      "[CV 1/5] END learning_rate=0.01, loss=exponential, max_depth=100, n_estimators=100;, score=0.800 total time=   1.2s\n",
      "[CV 2/5] END learning_rate=0.01, loss=exponential, max_depth=100, n_estimators=100;, score=0.760 total time=   1.3s\n",
      "[CV 3/5] END learning_rate=0.01, loss=exponential, max_depth=100, n_estimators=100;, score=0.720 total time=   1.5s\n",
      "[CV 4/5] END learning_rate=0.01, loss=exponential, max_depth=100, n_estimators=100;, score=0.798 total time=   1.4s\n",
      "[CV 5/5] END learning_rate=0.01, loss=exponential, max_depth=100, n_estimators=100;, score=0.790 total time=   1.3s\n",
      "[CV 1/5] END learning_rate=0.01, loss=exponential, max_depth=100, n_estimators=500;, score=0.800 total time=   6.2s\n",
      "[CV 2/5] END learning_rate=0.01, loss=exponential, max_depth=100, n_estimators=500;, score=0.768 total time=   7.0s\n",
      "[CV 3/5] END learning_rate=0.01, loss=exponential, max_depth=100, n_estimators=500;, score=0.720 total time=   6.6s\n",
      "[CV 4/5] END learning_rate=0.01, loss=exponential, max_depth=100, n_estimators=500;, score=0.798 total time=   6.7s\n",
      "[CV 5/5] END learning_rate=0.01, loss=exponential, max_depth=100, n_estimators=500;, score=0.790 total time=   7.2s\n",
      "[CV 1/5] END learning_rate=0.01, loss=exponential, max_depth=100, n_estimators=1000;, score=0.784 total time=  12.8s\n",
      "[CV 2/5] END learning_rate=0.01, loss=exponential, max_depth=100, n_estimators=1000;, score=0.768 total time=  13.8s\n",
      "[CV 3/5] END learning_rate=0.01, loss=exponential, max_depth=100, n_estimators=1000;, score=0.720 total time=  13.0s\n",
      "[CV 4/5] END learning_rate=0.01, loss=exponential, max_depth=100, n_estimators=1000;, score=0.798 total time=  14.0s\n",
      "[CV 5/5] END learning_rate=0.01, loss=exponential, max_depth=100, n_estimators=1000;, score=0.790 total time=  14.0s\n",
      "[CV 1/5] END learning_rate=0.1, loss=deviance, max_depth=3, n_estimators=10;, score=0.800 total time=   0.0s\n",
      "[CV 2/5] END learning_rate=0.1, loss=deviance, max_depth=3, n_estimators=10;, score=0.864 total time=   0.0s\n",
      "[CV 3/5] END learning_rate=0.1, loss=deviance, max_depth=3, n_estimators=10;, score=0.808 total time=   0.0s\n",
      "[CV 4/5] END learning_rate=0.1, loss=deviance, max_depth=3, n_estimators=10;, score=0.798 total time=   0.0s\n",
      "[CV 5/5] END learning_rate=0.1, loss=deviance, max_depth=3, n_estimators=10;, score=0.815 total time=   0.0s\n",
      "[CV 1/5] END learning_rate=0.1, loss=deviance, max_depth=3, n_estimators=100;, score=0.824 total time=   0.1s\n",
      "[CV 2/5] END learning_rate=0.1, loss=deviance, max_depth=3, n_estimators=100;, score=0.864 total time=   0.1s\n",
      "[CV 3/5] END learning_rate=0.1, loss=deviance, max_depth=3, n_estimators=100;, score=0.744 total time=   0.1s\n",
      "[CV 4/5] END learning_rate=0.1, loss=deviance, max_depth=3, n_estimators=100;, score=0.806 total time=   0.1s\n",
      "[CV 5/5] END learning_rate=0.1, loss=deviance, max_depth=3, n_estimators=100;, score=0.823 total time=   0.1s\n",
      "[CV 1/5] END learning_rate=0.1, loss=deviance, max_depth=3, n_estimators=500;, score=0.816 total time=   0.7s\n",
      "[CV 2/5] END learning_rate=0.1, loss=deviance, max_depth=3, n_estimators=500;, score=0.816 total time=   0.7s\n",
      "[CV 3/5] END learning_rate=0.1, loss=deviance, max_depth=3, n_estimators=500;, score=0.752 total time=   0.7s\n",
      "[CV 4/5] END learning_rate=0.1, loss=deviance, max_depth=3, n_estimators=500;, score=0.806 total time=   0.7s\n",
      "[CV 5/5] END learning_rate=0.1, loss=deviance, max_depth=3, n_estimators=500;, score=0.815 total time=   0.7s\n",
      "[CV 1/5] END learning_rate=0.1, loss=deviance, max_depth=3, n_estimators=1000;, score=0.840 total time=   1.8s\n",
      "[CV 2/5] END learning_rate=0.1, loss=deviance, max_depth=3, n_estimators=1000;, score=0.808 total time=   1.6s\n",
      "[CV 3/5] END learning_rate=0.1, loss=deviance, max_depth=3, n_estimators=1000;, score=0.752 total time=   1.5s\n",
      "[CV 4/5] END learning_rate=0.1, loss=deviance, max_depth=3, n_estimators=1000;, score=0.774 total time=   1.5s\n",
      "[CV 5/5] END learning_rate=0.1, loss=deviance, max_depth=3, n_estimators=1000;, score=0.806 total time=   1.7s\n",
      "[CV 1/5] END learning_rate=0.1, loss=deviance, max_depth=10, n_estimators=10;, score=0.824 total time=   0.0s\n",
      "[CV 2/5] END learning_rate=0.1, loss=deviance, max_depth=10, n_estimators=10;, score=0.816 total time=   0.0s\n",
      "[CV 3/5] END learning_rate=0.1, loss=deviance, max_depth=10, n_estimators=10;, score=0.760 total time=   0.0s\n",
      "[CV 4/5] END learning_rate=0.1, loss=deviance, max_depth=10, n_estimators=10;, score=0.806 total time=   0.0s\n",
      "[CV 5/5] END learning_rate=0.1, loss=deviance, max_depth=10, n_estimators=10;, score=0.823 total time=   0.0s\n",
      "[CV 1/5] END learning_rate=0.1, loss=deviance, max_depth=10, n_estimators=100;, score=0.808 total time=   1.0s\n",
      "[CV 2/5] END learning_rate=0.1, loss=deviance, max_depth=10, n_estimators=100;, score=0.760 total time=   1.1s\n",
      "[CV 3/5] END learning_rate=0.1, loss=deviance, max_depth=10, n_estimators=100;, score=0.752 total time=   1.1s\n",
      "[CV 4/5] END learning_rate=0.1, loss=deviance, max_depth=10, n_estimators=100;, score=0.823 total time=   1.1s\n",
      "[CV 5/5] END learning_rate=0.1, loss=deviance, max_depth=10, n_estimators=100;, score=0.798 total time=   0.9s\n",
      "[CV 1/5] END learning_rate=0.1, loss=deviance, max_depth=10, n_estimators=500;, score=0.808 total time=   5.9s\n",
      "[CV 2/5] END learning_rate=0.1, loss=deviance, max_depth=10, n_estimators=500;, score=0.760 total time=   5.4s\n",
      "[CV 3/5] END learning_rate=0.1, loss=deviance, max_depth=10, n_estimators=500;, score=0.744 total time=   5.3s\n",
      "[CV 4/5] END learning_rate=0.1, loss=deviance, max_depth=10, n_estimators=500;, score=0.815 total time=   6.0s\n",
      "[CV 5/5] END learning_rate=0.1, loss=deviance, max_depth=10, n_estimators=500;, score=0.790 total time=   5.3s\n",
      "[CV 1/5] END learning_rate=0.1, loss=deviance, max_depth=10, n_estimators=1000;, score=0.792 total time=   9.2s\n",
      "[CV 2/5] END learning_rate=0.1, loss=deviance, max_depth=10, n_estimators=1000;, score=0.752 total time=   8.6s\n",
      "[CV 3/5] END learning_rate=0.1, loss=deviance, max_depth=10, n_estimators=1000;, score=0.752 total time=   8.8s\n",
      "[CV 4/5] END learning_rate=0.1, loss=deviance, max_depth=10, n_estimators=1000;, score=0.823 total time=   8.6s\n",
      "[CV 5/5] END learning_rate=0.1, loss=deviance, max_depth=10, n_estimators=1000;, score=0.798 total time=   9.3s\n",
      "[CV 1/5] END learning_rate=0.1, loss=deviance, max_depth=50, n_estimators=10;, score=0.792 total time=   0.1s\n",
      "[CV 2/5] END learning_rate=0.1, loss=deviance, max_depth=50, n_estimators=10;, score=0.752 total time=   0.1s\n",
      "[CV 3/5] END learning_rate=0.1, loss=deviance, max_depth=50, n_estimators=10;, score=0.720 total time=   0.1s\n",
      "[CV 4/5] END learning_rate=0.1, loss=deviance, max_depth=50, n_estimators=10;, score=0.798 total time=   0.1s\n",
      "[CV 5/5] END learning_rate=0.1, loss=deviance, max_depth=50, n_estimators=10;, score=0.790 total time=   0.2s\n",
      "[CV 1/5] END learning_rate=0.1, loss=deviance, max_depth=50, n_estimators=100;, score=0.792 total time=   1.3s\n",
      "[CV 2/5] END learning_rate=0.1, loss=deviance, max_depth=50, n_estimators=100;, score=0.776 total time=   1.3s\n",
      "[CV 3/5] END learning_rate=0.1, loss=deviance, max_depth=50, n_estimators=100;, score=0.720 total time=   1.3s\n",
      "[CV 4/5] END learning_rate=0.1, loss=deviance, max_depth=50, n_estimators=100;, score=0.790 total time=   1.4s\n",
      "[CV 5/5] END learning_rate=0.1, loss=deviance, max_depth=50, n_estimators=100;, score=0.790 total time=   1.5s\n",
      "[CV 1/5] END learning_rate=0.1, loss=deviance, max_depth=50, n_estimators=500;, score=0.792 total time=   7.7s\n",
      "[CV 2/5] END learning_rate=0.1, loss=deviance, max_depth=50, n_estimators=500;, score=0.776 total time=   8.0s\n",
      "[CV 3/5] END learning_rate=0.1, loss=deviance, max_depth=50, n_estimators=500;, score=0.736 total time=   7.1s\n",
      "[CV 4/5] END learning_rate=0.1, loss=deviance, max_depth=50, n_estimators=500;, score=0.806 total time=   7.4s\n",
      "[CV 5/5] END learning_rate=0.1, loss=deviance, max_depth=50, n_estimators=500;, score=0.790 total time=   7.1s\n",
      "[CV 1/5] END learning_rate=0.1, loss=deviance, max_depth=50, n_estimators=1000;, score=0.800 total time=  13.2s\n",
      "[CV 2/5] END learning_rate=0.1, loss=deviance, max_depth=50, n_estimators=1000;, score=0.784 total time=  14.1s\n",
      "[CV 3/5] END learning_rate=0.1, loss=deviance, max_depth=50, n_estimators=1000;, score=0.744 total time=  14.7s\n",
      "[CV 4/5] END learning_rate=0.1, loss=deviance, max_depth=50, n_estimators=1000;, score=0.831 total time=  15.6s\n",
      "[CV 5/5] END learning_rate=0.1, loss=deviance, max_depth=50, n_estimators=1000;, score=0.806 total time=  13.9s\n",
      "[CV 1/5] END learning_rate=0.1, loss=deviance, max_depth=100, n_estimators=10;, score=0.784 total time=   0.0s\n",
      "[CV 2/5] END learning_rate=0.1, loss=deviance, max_depth=100, n_estimators=10;, score=0.784 total time=   0.1s\n",
      "[CV 3/5] END learning_rate=0.1, loss=deviance, max_depth=100, n_estimators=10;, score=0.712 total time=   0.0s\n",
      "[CV 4/5] END learning_rate=0.1, loss=deviance, max_depth=100, n_estimators=10;, score=0.806 total time=   0.0s\n",
      "[CV 5/5] END learning_rate=0.1, loss=deviance, max_depth=100, n_estimators=10;, score=0.790 total time=   0.0s\n",
      "[CV 1/5] END learning_rate=0.1, loss=deviance, max_depth=100, n_estimators=100;, score=0.776 total time=   1.1s\n",
      "[CV 2/5] END learning_rate=0.1, loss=deviance, max_depth=100, n_estimators=100;, score=0.768 total time=   1.4s\n",
      "[CV 3/5] END learning_rate=0.1, loss=deviance, max_depth=100, n_estimators=100;, score=0.728 total time=   1.3s\n",
      "[CV 4/5] END learning_rate=0.1, loss=deviance, max_depth=100, n_estimators=100;, score=0.798 total time=   1.2s\n",
      "[CV 5/5] END learning_rate=0.1, loss=deviance, max_depth=100, n_estimators=100;, score=0.790 total time=   1.5s\n",
      "[CV 1/5] END learning_rate=0.1, loss=deviance, max_depth=100, n_estimators=500;, score=0.792 total time=   6.5s\n",
      "[CV 2/5] END learning_rate=0.1, loss=deviance, max_depth=100, n_estimators=500;, score=0.728 total time=   7.6s\n",
      "[CV 3/5] END learning_rate=0.1, loss=deviance, max_depth=100, n_estimators=500;, score=0.736 total time=   6.9s\n",
      "[CV 4/5] END learning_rate=0.1, loss=deviance, max_depth=100, n_estimators=500;, score=0.815 total time=   7.2s\n",
      "[CV 5/5] END learning_rate=0.1, loss=deviance, max_depth=100, n_estimators=500;, score=0.798 total time=   6.4s\n",
      "[CV 1/5] END learning_rate=0.1, loss=deviance, max_depth=100, n_estimators=1000;, score=0.808 total time=  13.1s\n",
      "[CV 2/5] END learning_rate=0.1, loss=deviance, max_depth=100, n_estimators=1000;, score=0.792 total time=  14.2s\n",
      "[CV 3/5] END learning_rate=0.1, loss=deviance, max_depth=100, n_estimators=1000;, score=0.744 total time=  13.3s\n",
      "[CV 4/5] END learning_rate=0.1, loss=deviance, max_depth=100, n_estimators=1000;, score=0.823 total time=  15.0s\n",
      "[CV 5/5] END learning_rate=0.1, loss=deviance, max_depth=100, n_estimators=1000;, score=0.806 total time=  14.3s\n",
      "[CV 1/5] END learning_rate=0.1, loss=exponential, max_depth=3, n_estimators=10;, score=0.784 total time=   0.0s\n",
      "[CV 2/5] END learning_rate=0.1, loss=exponential, max_depth=3, n_estimators=10;, score=0.856 total time=   0.0s\n",
      "[CV 3/5] END learning_rate=0.1, loss=exponential, max_depth=3, n_estimators=10;, score=0.808 total time=   0.0s\n",
      "[CV 4/5] END learning_rate=0.1, loss=exponential, max_depth=3, n_estimators=10;, score=0.798 total time=   0.0s\n",
      "[CV 5/5] END learning_rate=0.1, loss=exponential, max_depth=3, n_estimators=10;, score=0.823 total time=   0.0s\n",
      "[CV 1/5] END learning_rate=0.1, loss=exponential, max_depth=3, n_estimators=100;, score=0.808 total time=   0.1s\n",
      "[CV 2/5] END learning_rate=0.1, loss=exponential, max_depth=3, n_estimators=100;, score=0.888 total time=   0.1s\n",
      "[CV 3/5] END learning_rate=0.1, loss=exponential, max_depth=3, n_estimators=100;, score=0.776 total time=   0.1s\n",
      "[CV 4/5] END learning_rate=0.1, loss=exponential, max_depth=3, n_estimators=100;, score=0.815 total time=   0.1s\n",
      "[CV 5/5] END learning_rate=0.1, loss=exponential, max_depth=3, n_estimators=100;, score=0.815 total time=   0.1s\n",
      "[CV 1/5] END learning_rate=0.1, loss=exponential, max_depth=3, n_estimators=500;, score=0.832 total time=   0.9s\n",
      "[CV 2/5] END learning_rate=0.1, loss=exponential, max_depth=3, n_estimators=500;, score=0.832 total time=   0.9s\n",
      "[CV 3/5] END learning_rate=0.1, loss=exponential, max_depth=3, n_estimators=500;, score=0.760 total time=   0.7s\n",
      "[CV 4/5] END learning_rate=0.1, loss=exponential, max_depth=3, n_estimators=500;, score=0.790 total time=   0.8s\n",
      "[CV 5/5] END learning_rate=0.1, loss=exponential, max_depth=3, n_estimators=500;, score=0.806 total time=   0.8s\n",
      "[CV 1/5] END learning_rate=0.1, loss=exponential, max_depth=3, n_estimators=1000;, score=0.816 total time=   1.6s\n",
      "[CV 2/5] END learning_rate=0.1, loss=exponential, max_depth=3, n_estimators=1000;, score=0.840 total time=   1.5s\n",
      "[CV 3/5] END learning_rate=0.1, loss=exponential, max_depth=3, n_estimators=1000;, score=0.744 total time=   1.5s\n",
      "[CV 4/5] END learning_rate=0.1, loss=exponential, max_depth=3, n_estimators=1000;, score=0.782 total time=   1.6s\n",
      "[CV 5/5] END learning_rate=0.1, loss=exponential, max_depth=3, n_estimators=1000;, score=0.815 total time=   1.6s\n",
      "[CV 1/5] END learning_rate=0.1, loss=exponential, max_depth=10, n_estimators=10;, score=0.832 total time=   0.0s\n",
      "[CV 2/5] END learning_rate=0.1, loss=exponential, max_depth=10, n_estimators=10;, score=0.816 total time=   0.0s\n",
      "[CV 3/5] END learning_rate=0.1, loss=exponential, max_depth=10, n_estimators=10;, score=0.760 total time=   0.0s\n",
      "[CV 4/5] END learning_rate=0.1, loss=exponential, max_depth=10, n_estimators=10;, score=0.798 total time=   0.0s\n",
      "[CV 5/5] END learning_rate=0.1, loss=exponential, max_depth=10, n_estimators=10;, score=0.831 total time=   0.0s\n",
      "[CV 1/5] END learning_rate=0.1, loss=exponential, max_depth=10, n_estimators=100;, score=0.832 total time=   1.1s\n",
      "[CV 2/5] END learning_rate=0.1, loss=exponential, max_depth=10, n_estimators=100;, score=0.784 total time=   1.1s\n",
      "[CV 3/5] END learning_rate=0.1, loss=exponential, max_depth=10, n_estimators=100;, score=0.752 total time=   1.4s\n",
      "[CV 4/5] END learning_rate=0.1, loss=exponential, max_depth=10, n_estimators=100;, score=0.798 total time=   1.2s\n",
      "[CV 5/5] END learning_rate=0.1, loss=exponential, max_depth=10, n_estimators=100;, score=0.823 total time=   1.3s\n",
      "[CV 1/5] END learning_rate=0.1, loss=exponential, max_depth=10, n_estimators=500;, score=0.808 total time=   6.6s\n",
      "[CV 2/5] END learning_rate=0.1, loss=exponential, max_depth=10, n_estimators=500;, score=0.760 total time=   6.1s\n",
      "[CV 3/5] END learning_rate=0.1, loss=exponential, max_depth=10, n_estimators=500;, score=0.736 total time=   5.8s\n",
      "[CV 4/5] END learning_rate=0.1, loss=exponential, max_depth=10, n_estimators=500;, score=0.823 total time=   5.8s\n",
      "[CV 5/5] END learning_rate=0.1, loss=exponential, max_depth=10, n_estimators=500;, score=0.782 total time=   6.2s\n",
      "[CV 1/5] END learning_rate=0.1, loss=exponential, max_depth=10, n_estimators=1000;, score=0.800 total time=   9.4s\n",
      "[CV 2/5] END learning_rate=0.1, loss=exponential, max_depth=10, n_estimators=1000;, score=0.760 total time=   9.4s\n",
      "[CV 3/5] END learning_rate=0.1, loss=exponential, max_depth=10, n_estimators=1000;, score=0.736 total time=   8.9s\n",
      "[CV 4/5] END learning_rate=0.1, loss=exponential, max_depth=10, n_estimators=1000;, score=0.806 total time=   9.6s\n",
      "[CV 5/5] END learning_rate=0.1, loss=exponential, max_depth=10, n_estimators=1000;, score=0.790 total time=   9.7s\n",
      "[CV 1/5] END learning_rate=0.1, loss=exponential, max_depth=50, n_estimators=10;, score=0.776 total time=   0.0s\n",
      "[CV 2/5] END learning_rate=0.1, loss=exponential, max_depth=50, n_estimators=10;, score=0.760 total time=   0.0s\n",
      "[CV 3/5] END learning_rate=0.1, loss=exponential, max_depth=50, n_estimators=10;, score=0.728 total time=   0.0s\n",
      "[CV 4/5] END learning_rate=0.1, loss=exponential, max_depth=50, n_estimators=10;, score=0.798 total time=   0.1s\n",
      "[CV 5/5] END learning_rate=0.1, loss=exponential, max_depth=50, n_estimators=10;, score=0.790 total time=   0.0s\n",
      "[CV 1/5] END learning_rate=0.1, loss=exponential, max_depth=50, n_estimators=100;, score=0.784 total time=   1.2s\n",
      "[CV 2/5] END learning_rate=0.1, loss=exponential, max_depth=50, n_estimators=100;, score=0.760 total time=   1.3s\n",
      "[CV 3/5] END learning_rate=0.1, loss=exponential, max_depth=50, n_estimators=100;, score=0.712 total time=   1.4s\n",
      "[CV 4/5] END learning_rate=0.1, loss=exponential, max_depth=50, n_estimators=100;, score=0.798 total time=   1.5s\n",
      "[CV 5/5] END learning_rate=0.1, loss=exponential, max_depth=50, n_estimators=100;, score=0.790 total time=   1.7s\n",
      "[CV 1/5] END learning_rate=0.1, loss=exponential, max_depth=50, n_estimators=500;, score=0.784 total time=   7.7s\n",
      "[CV 2/5] END learning_rate=0.1, loss=exponential, max_depth=50, n_estimators=500;, score=0.752 total time=   8.0s\n",
      "[CV 3/5] END learning_rate=0.1, loss=exponential, max_depth=50, n_estimators=500;, score=0.736 total time=   7.9s\n",
      "[CV 4/5] END learning_rate=0.1, loss=exponential, max_depth=50, n_estimators=500;, score=0.806 total time=   8.3s\n",
      "[CV 5/5] END learning_rate=0.1, loss=exponential, max_depth=50, n_estimators=500;, score=0.782 total time=   7.8s\n",
      "[CV 1/5] END learning_rate=0.1, loss=exponential, max_depth=50, n_estimators=1000;, score=0.784 total time=  16.4s\n",
      "[CV 2/5] END learning_rate=0.1, loss=exponential, max_depth=50, n_estimators=1000;, score=0.728 total time=  16.3s\n",
      "[CV 3/5] END learning_rate=0.1, loss=exponential, max_depth=50, n_estimators=1000;, score=0.736 total time=  14.2s\n",
      "[CV 4/5] END learning_rate=0.1, loss=exponential, max_depth=50, n_estimators=1000;, score=0.790 total time=  18.5s\n",
      "[CV 5/5] END learning_rate=0.1, loss=exponential, max_depth=50, n_estimators=1000;, score=0.806 total time=  16.7s\n",
      "[CV 1/5] END learning_rate=0.1, loss=exponential, max_depth=100, n_estimators=10;, score=0.776 total time=   0.0s\n",
      "[CV 2/5] END learning_rate=0.1, loss=exponential, max_depth=100, n_estimators=10;, score=0.768 total time=   0.1s\n",
      "[CV 3/5] END learning_rate=0.1, loss=exponential, max_depth=100, n_estimators=10;, score=0.720 total time=   0.0s\n",
      "[CV 4/5] END learning_rate=0.1, loss=exponential, max_depth=100, n_estimators=10;, score=0.798 total time=   0.1s\n",
      "[CV 5/5] END learning_rate=0.1, loss=exponential, max_depth=100, n_estimators=10;, score=0.790 total time=   0.1s\n",
      "[CV 1/5] END learning_rate=0.1, loss=exponential, max_depth=100, n_estimators=100;, score=0.800 total time=   1.2s\n",
      "[CV 2/5] END learning_rate=0.1, loss=exponential, max_depth=100, n_estimators=100;, score=0.760 total time=   1.3s\n",
      "[CV 3/5] END learning_rate=0.1, loss=exponential, max_depth=100, n_estimators=100;, score=0.720 total time=   1.2s\n",
      "[CV 4/5] END learning_rate=0.1, loss=exponential, max_depth=100, n_estimators=100;, score=0.806 total time=   1.3s\n",
      "[CV 5/5] END learning_rate=0.1, loss=exponential, max_depth=100, n_estimators=100;, score=0.790 total time=   1.3s\n",
      "[CV 1/5] END learning_rate=0.1, loss=exponential, max_depth=100, n_estimators=500;, score=0.792 total time=   7.6s\n",
      "[CV 2/5] END learning_rate=0.1, loss=exponential, max_depth=100, n_estimators=500;, score=0.752 total time=   8.2s\n",
      "[CV 3/5] END learning_rate=0.1, loss=exponential, max_depth=100, n_estimators=500;, score=0.736 total time=   8.6s\n",
      "[CV 4/5] END learning_rate=0.1, loss=exponential, max_depth=100, n_estimators=500;, score=0.806 total time=   8.1s\n",
      "[CV 5/5] END learning_rate=0.1, loss=exponential, max_depth=100, n_estimators=500;, score=0.790 total time=   7.6s\n",
      "[CV 1/5] END learning_rate=0.1, loss=exponential, max_depth=100, n_estimators=1000;, score=0.784 total time=  18.5s\n",
      "[CV 2/5] END learning_rate=0.1, loss=exponential, max_depth=100, n_estimators=1000;, score=0.752 total time=  16.2s\n",
      "[CV 3/5] END learning_rate=0.1, loss=exponential, max_depth=100, n_estimators=1000;, score=0.744 total time=  15.6s\n",
      "[CV 4/5] END learning_rate=0.1, loss=exponential, max_depth=100, n_estimators=1000;, score=0.806 total time=  17.8s\n",
      "[CV 5/5] END learning_rate=0.1, loss=exponential, max_depth=100, n_estimators=1000;, score=0.782 total time=  16.7s\n",
      "[CV 1/5] END learning_rate=1, loss=deviance, max_depth=3, n_estimators=10;, score=0.800 total time=   0.0s\n",
      "[CV 2/5] END learning_rate=1, loss=deviance, max_depth=3, n_estimators=10;, score=0.840 total time=   0.0s\n",
      "[CV 3/5] END learning_rate=1, loss=deviance, max_depth=3, n_estimators=10;, score=0.752 total time=   0.0s\n",
      "[CV 4/5] END learning_rate=1, loss=deviance, max_depth=3, n_estimators=10;, score=0.766 total time=   0.0s\n",
      "[CV 5/5] END learning_rate=1, loss=deviance, max_depth=3, n_estimators=10;, score=0.806 total time=   0.0s\n",
      "[CV 1/5] END learning_rate=1, loss=deviance, max_depth=3, n_estimators=100;, score=0.832 total time=   0.1s\n",
      "[CV 2/5] END learning_rate=1, loss=deviance, max_depth=3, n_estimators=100;, score=0.824 total time=   0.1s\n",
      "[CV 3/5] END learning_rate=1, loss=deviance, max_depth=3, n_estimators=100;, score=0.736 total time=   0.1s\n",
      "[CV 4/5] END learning_rate=1, loss=deviance, max_depth=3, n_estimators=100;, score=0.806 total time=   0.1s\n",
      "[CV 5/5] END learning_rate=1, loss=deviance, max_depth=3, n_estimators=100;, score=0.798 total time=   0.1s\n",
      "[CV 1/5] END learning_rate=1, loss=deviance, max_depth=3, n_estimators=500;, score=0.808 total time=   0.7s\n",
      "[CV 2/5] END learning_rate=1, loss=deviance, max_depth=3, n_estimators=500;, score=0.808 total time=   0.7s\n",
      "[CV 3/5] END learning_rate=1, loss=deviance, max_depth=3, n_estimators=500;, score=0.736 total time=   0.7s\n",
      "[CV 4/5] END learning_rate=1, loss=deviance, max_depth=3, n_estimators=500;, score=0.798 total time=   0.7s\n",
      "[CV 5/5] END learning_rate=1, loss=deviance, max_depth=3, n_estimators=500;, score=0.790 total time=   0.7s\n",
      "[CV 1/5] END learning_rate=1, loss=deviance, max_depth=3, n_estimators=1000;, score=0.824 total time=   1.8s\n",
      "[CV 2/5] END learning_rate=1, loss=deviance, max_depth=3, n_estimators=1000;, score=0.816 total time=   1.6s\n",
      "[CV 3/5] END learning_rate=1, loss=deviance, max_depth=3, n_estimators=1000;, score=0.736 total time=   1.5s\n",
      "[CV 4/5] END learning_rate=1, loss=deviance, max_depth=3, n_estimators=1000;, score=0.782 total time=   1.6s\n",
      "[CV 5/5] END learning_rate=1, loss=deviance, max_depth=3, n_estimators=1000;, score=0.798 total time=   1.6s\n",
      "[CV 1/5] END learning_rate=1, loss=deviance, max_depth=10, n_estimators=10;, score=0.816 total time=   0.0s\n",
      "[CV 2/5] END learning_rate=1, loss=deviance, max_depth=10, n_estimators=10;, score=0.760 total time=   0.0s\n",
      "[CV 3/5] END learning_rate=1, loss=deviance, max_depth=10, n_estimators=10;, score=0.768 total time=   0.0s\n",
      "[CV 4/5] END learning_rate=1, loss=deviance, max_depth=10, n_estimators=10;, score=0.774 total time=   0.0s\n",
      "[CV 5/5] END learning_rate=1, loss=deviance, max_depth=10, n_estimators=10;, score=0.774 total time=   0.0s\n",
      "[CV 1/5] END learning_rate=1, loss=deviance, max_depth=10, n_estimators=100;, score=0.792 total time=   0.8s\n",
      "[CV 2/5] END learning_rate=1, loss=deviance, max_depth=10, n_estimators=100;, score=0.768 total time=   0.8s\n",
      "[CV 3/5] END learning_rate=1, loss=deviance, max_depth=10, n_estimators=100;, score=0.736 total time=   0.8s\n",
      "[CV 4/5] END learning_rate=1, loss=deviance, max_depth=10, n_estimators=100;, score=0.831 total time=   1.0s\n",
      "[CV 5/5] END learning_rate=1, loss=deviance, max_depth=10, n_estimators=100;, score=0.782 total time=   0.9s\n",
      "[CV 1/5] END learning_rate=1, loss=deviance, max_depth=10, n_estimators=500;, score=0.784 total time=   2.9s\n",
      "[CV 2/5] END learning_rate=1, loss=deviance, max_depth=10, n_estimators=500;, score=0.768 total time=   2.9s\n",
      "[CV 3/5] END learning_rate=1, loss=deviance, max_depth=10, n_estimators=500;, score=0.752 total time=   2.5s\n",
      "[CV 4/5] END learning_rate=1, loss=deviance, max_depth=10, n_estimators=500;, score=0.798 total time=   2.8s\n",
      "[CV 5/5] END learning_rate=1, loss=deviance, max_depth=10, n_estimators=500;, score=0.782 total time=   3.3s\n",
      "[CV 1/5] END learning_rate=1, loss=deviance, max_depth=10, n_estimators=1000;, score=0.800 total time=   4.7s\n",
      "[CV 2/5] END learning_rate=1, loss=deviance, max_depth=10, n_estimators=1000;, score=0.768 total time=   5.6s\n",
      "[CV 3/5] END learning_rate=1, loss=deviance, max_depth=10, n_estimators=1000;, score=0.728 total time=   4.8s\n",
      "[CV 4/5] END learning_rate=1, loss=deviance, max_depth=10, n_estimators=1000;, score=0.742 total time=   5.9s\n",
      "[CV 5/5] END learning_rate=1, loss=deviance, max_depth=10, n_estimators=1000;, score=0.782 total time=   6.2s\n",
      "[CV 1/5] END learning_rate=1, loss=deviance, max_depth=50, n_estimators=10;, score=0.768 total time=   0.0s\n",
      "[CV 2/5] END learning_rate=1, loss=deviance, max_depth=50, n_estimators=10;, score=0.752 total time=   0.1s\n",
      "[CV 3/5] END learning_rate=1, loss=deviance, max_depth=50, n_estimators=10;, score=0.736 total time=   0.1s\n",
      "[CV 4/5] END learning_rate=1, loss=deviance, max_depth=50, n_estimators=10;, score=0.766 total time=   0.1s\n",
      "[CV 5/5] END learning_rate=1, loss=deviance, max_depth=50, n_estimators=10;, score=0.798 total time=   0.1s\n",
      "[CV 1/5] END learning_rate=1, loss=deviance, max_depth=50, n_estimators=100;, score=0.808 total time=   1.6s\n",
      "[CV 2/5] END learning_rate=1, loss=deviance, max_depth=50, n_estimators=100;, score=0.784 total time=   1.9s\n",
      "[CV 3/5] END learning_rate=1, loss=deviance, max_depth=50, n_estimators=100;, score=0.752 total time=   1.4s\n",
      "[CV 4/5] END learning_rate=1, loss=deviance, max_depth=50, n_estimators=100;, score=0.806 total time=   1.6s\n",
      "[CV 5/5] END learning_rate=1, loss=deviance, max_depth=50, n_estimators=100;, score=0.790 total time=   1.7s\n",
      "[CV 1/5] END learning_rate=1, loss=deviance, max_depth=50, n_estimators=500;, score=0.768 total time=   5.9s\n",
      "[CV 2/5] END learning_rate=1, loss=deviance, max_depth=50, n_estimators=500;, score=0.752 total time=   7.3s\n",
      "[CV 3/5] END learning_rate=1, loss=deviance, max_depth=50, n_estimators=500;, score=0.720 total time=   6.6s\n",
      "[CV 4/5] END learning_rate=1, loss=deviance, max_depth=50, n_estimators=500;, score=0.758 total time=   7.8s\n",
      "[CV 5/5] END learning_rate=1, loss=deviance, max_depth=50, n_estimators=500;, score=0.790 total time=   8.1s\n",
      "[CV 1/5] END learning_rate=1, loss=deviance, max_depth=50, n_estimators=1000;, score=0.744 total time=  14.5s\n",
      "[CV 2/5] END learning_rate=1, loss=deviance, max_depth=50, n_estimators=1000;, score=0.720 total time=  14.0s\n",
      "[CV 3/5] END learning_rate=1, loss=deviance, max_depth=50, n_estimators=1000;, score=0.704 total time=  11.3s\n",
      "[CV 4/5] END learning_rate=1, loss=deviance, max_depth=50, n_estimators=1000;, score=0.742 total time=  16.0s\n",
      "[CV 5/5] END learning_rate=1, loss=deviance, max_depth=50, n_estimators=1000;, score=0.750 total time=  15.4s\n",
      "[CV 1/5] END learning_rate=1, loss=deviance, max_depth=100, n_estimators=10;, score=0.768 total time=   0.1s\n",
      "[CV 2/5] END learning_rate=1, loss=deviance, max_depth=100, n_estimators=10;, score=0.752 total time=   0.1s\n",
      "[CV 3/5] END learning_rate=1, loss=deviance, max_depth=100, n_estimators=10;, score=0.744 total time=   0.1s\n",
      "[CV 4/5] END learning_rate=1, loss=deviance, max_depth=100, n_estimators=10;, score=0.782 total time=   0.1s\n",
      "[CV 5/5] END learning_rate=1, loss=deviance, max_depth=100, n_estimators=10;, score=0.806 total time=   0.1s\n",
      "[CV 1/5] END learning_rate=1, loss=deviance, max_depth=100, n_estimators=100;, score=0.792 total time=   1.4s\n",
      "[CV 2/5] END learning_rate=1, loss=deviance, max_depth=100, n_estimators=100;, score=0.784 total time=   1.8s\n",
      "[CV 3/5] END learning_rate=1, loss=deviance, max_depth=100, n_estimators=100;, score=0.752 total time=   1.4s\n",
      "[CV 4/5] END learning_rate=1, loss=deviance, max_depth=100, n_estimators=100;, score=0.815 total time=   1.5s\n",
      "[CV 5/5] END learning_rate=1, loss=deviance, max_depth=100, n_estimators=100;, score=0.806 total time=   1.4s\n",
      "[CV 1/5] END learning_rate=1, loss=deviance, max_depth=100, n_estimators=500;, score=0.792 total time=   6.3s\n",
      "[CV 2/5] END learning_rate=1, loss=deviance, max_depth=100, n_estimators=500;, score=0.768 total time=   6.8s\n",
      "[CV 3/5] END learning_rate=1, loss=deviance, max_depth=100, n_estimators=500;, score=0.728 total time=   5.7s\n",
      "[CV 4/5] END learning_rate=1, loss=deviance, max_depth=100, n_estimators=500;, score=0.766 total time=   6.7s\n",
      "[CV 5/5] END learning_rate=1, loss=deviance, max_depth=100, n_estimators=500;, score=0.766 total time=   7.2s\n",
      "[CV 1/5] END learning_rate=1, loss=deviance, max_depth=100, n_estimators=1000;, score=0.736 total time=  13.0s\n",
      "[CV 2/5] END learning_rate=1, loss=deviance, max_depth=100, n_estimators=1000;, score=0.736 total time=  13.3s\n",
      "[CV 3/5] END learning_rate=1, loss=deviance, max_depth=100, n_estimators=1000;, score=0.712 total time=  10.0s\n",
      "[CV 4/5] END learning_rate=1, loss=deviance, max_depth=100, n_estimators=1000;, score=0.750 total time=  13.6s\n",
      "[CV 5/5] END learning_rate=1, loss=deviance, max_depth=100, n_estimators=1000;, score=0.742 total time=  14.1s\n",
      "[CV 1/5] END learning_rate=1, loss=exponential, max_depth=3, n_estimators=10;, score=0.776 total time=   0.0s\n",
      "[CV 2/5] END learning_rate=1, loss=exponential, max_depth=3, n_estimators=10;, score=0.880 total time=   0.0s\n",
      "[CV 3/5] END learning_rate=1, loss=exponential, max_depth=3, n_estimators=10;, score=0.760 total time=   0.0s\n",
      "[CV 4/5] END learning_rate=1, loss=exponential, max_depth=3, n_estimators=10;, score=0.782 total time=   0.0s\n",
      "[CV 5/5] END learning_rate=1, loss=exponential, max_depth=3, n_estimators=10;, score=0.815 total time=   0.0s\n",
      "[CV 1/5] END learning_rate=1, loss=exponential, max_depth=3, n_estimators=100;, score=0.824 total time=   0.1s\n",
      "[CV 2/5] END learning_rate=1, loss=exponential, max_depth=3, n_estimators=100;, score=0.800 total time=   0.1s\n",
      "[CV 3/5] END learning_rate=1, loss=exponential, max_depth=3, n_estimators=100;, score=0.744 total time=   0.1s\n",
      "[CV 4/5] END learning_rate=1, loss=exponential, max_depth=3, n_estimators=100;, score=0.766 total time=   0.1s\n",
      "[CV 5/5] END learning_rate=1, loss=exponential, max_depth=3, n_estimators=100;, score=0.831 total time=   0.1s\n",
      "[CV 1/5] END learning_rate=1, loss=exponential, max_depth=3, n_estimators=500;, score=0.816 total time=   0.7s\n",
      "[CV 2/5] END learning_rate=1, loss=exponential, max_depth=3, n_estimators=500;, score=0.800 total time=   0.9s\n",
      "[CV 3/5] END learning_rate=1, loss=exponential, max_depth=3, n_estimators=500;, score=0.728 total time=   1.2s\n",
      "[CV 4/5] END learning_rate=1, loss=exponential, max_depth=3, n_estimators=500;, score=0.798 total time=   1.1s\n",
      "[CV 5/5] END learning_rate=1, loss=exponential, max_depth=3, n_estimators=500;, score=0.782 total time=   1.1s\n",
      "[CV 1/5] END learning_rate=1, loss=exponential, max_depth=3, n_estimators=1000;, score=0.816 total time=   2.0s\n",
      "[CV 2/5] END learning_rate=1, loss=exponential, max_depth=3, n_estimators=1000;, score=0.792 total time=   1.8s\n",
      "[CV 3/5] END learning_rate=1, loss=exponential, max_depth=3, n_estimators=1000;, score=0.744 total time=   1.6s\n",
      "[CV 4/5] END learning_rate=1, loss=exponential, max_depth=3, n_estimators=1000;, score=0.823 total time=   1.8s\n",
      "[CV 5/5] END learning_rate=1, loss=exponential, max_depth=3, n_estimators=1000;, score=0.790 total time=   1.8s\n",
      "[CV 1/5] END learning_rate=1, loss=exponential, max_depth=10, n_estimators=10;, score=0.832 total time=   0.0s\n",
      "[CV 2/5] END learning_rate=1, loss=exponential, max_depth=10, n_estimators=10;, score=0.792 total time=   0.1s\n",
      "[CV 3/5] END learning_rate=1, loss=exponential, max_depth=10, n_estimators=10;, score=0.728 total time=   0.0s\n",
      "[CV 4/5] END learning_rate=1, loss=exponential, max_depth=10, n_estimators=10;, score=0.823 total time=   0.0s\n",
      "[CV 5/5] END learning_rate=1, loss=exponential, max_depth=10, n_estimators=10;, score=0.766 total time=   0.0s\n",
      "[CV 1/5] END learning_rate=1, loss=exponential, max_depth=10, n_estimators=100;, score=0.800 total time=   0.9s\n",
      "[CV 2/5] END learning_rate=1, loss=exponential, max_depth=10, n_estimators=100;, score=0.768 total time=   0.9s\n",
      "[CV 3/5] END learning_rate=1, loss=exponential, max_depth=10, n_estimators=100;, score=0.752 total time=   0.8s\n",
      "[CV 4/5] END learning_rate=1, loss=exponential, max_depth=10, n_estimators=100;, score=0.798 total time=   0.9s\n",
      "[CV 5/5] END learning_rate=1, loss=exponential, max_depth=10, n_estimators=100;, score=0.823 total time=   0.9s\n",
      "[CV 1/5] END learning_rate=1, loss=exponential, max_depth=10, n_estimators=500;, score=0.808 total time=   2.4s\n",
      "[CV 2/5] END learning_rate=1, loss=exponential, max_depth=10, n_estimators=500;, score=0.768 total time=   2.8s\n",
      "[CV 3/5] END learning_rate=1, loss=exponential, max_depth=10, n_estimators=500;, score=0.752 total time=   2.6s\n",
      "[CV 4/5] END learning_rate=1, loss=exponential, max_depth=10, n_estimators=500;, score=0.782 total time=   2.3s\n",
      "[CV 5/5] END learning_rate=1, loss=exponential, max_depth=10, n_estimators=500;, score=0.798 total time=   2.4s\n",
      "[CV 1/5] END learning_rate=1, loss=exponential, max_depth=10, n_estimators=1000;, score=0.808 total time=   4.0s\n",
      "[CV 2/5] END learning_rate=1, loss=exponential, max_depth=10, n_estimators=1000;, score=0.760 total time=   4.3s\n",
      "[CV 3/5] END learning_rate=1, loss=exponential, max_depth=10, n_estimators=1000;, score=0.744 total time=   4.1s\n",
      "[CV 4/5] END learning_rate=1, loss=exponential, max_depth=10, n_estimators=1000;, score=0.790 total time=   4.0s\n",
      "[CV 5/5] END learning_rate=1, loss=exponential, max_depth=10, n_estimators=1000;, score=0.798 total time=   4.9s\n",
      "[CV 1/5] END learning_rate=1, loss=exponential, max_depth=50, n_estimators=10;, score=0.760 total time=   0.1s\n",
      "[CV 2/5] END learning_rate=1, loss=exponential, max_depth=50, n_estimators=10;, score=0.744 total time=   0.1s\n",
      "[CV 3/5] END learning_rate=1, loss=exponential, max_depth=50, n_estimators=10;, score=0.728 total time=   0.1s\n",
      "[CV 4/5] END learning_rate=1, loss=exponential, max_depth=50, n_estimators=10;, score=0.782 total time=   0.1s\n",
      "[CV 5/5] END learning_rate=1, loss=exponential, max_depth=50, n_estimators=10;, score=0.798 total time=   0.1s\n",
      "[CV 1/5] END learning_rate=1, loss=exponential, max_depth=50, n_estimators=100;, score=0.768 total time=   1.9s\n",
      "[CV 2/5] END learning_rate=1, loss=exponential, max_depth=50, n_estimators=100;, score=0.744 total time=   2.2s\n",
      "[CV 3/5] END learning_rate=1, loss=exponential, max_depth=50, n_estimators=100;, score=0.744 total time=   1.7s\n",
      "[CV 4/5] END learning_rate=1, loss=exponential, max_depth=50, n_estimators=100;, score=0.790 total time=   1.8s\n",
      "[CV 5/5] END learning_rate=1, loss=exponential, max_depth=50, n_estimators=100;, score=0.790 total time=   1.7s\n",
      "[CV 1/5] END learning_rate=1, loss=exponential, max_depth=50, n_estimators=500;, score=0.744 total time=   8.6s\n",
      "[CV 2/5] END learning_rate=1, loss=exponential, max_depth=50, n_estimators=500;, score=0.704 total time=   9.9s\n",
      "[CV 3/5] END learning_rate=1, loss=exponential, max_depth=50, n_estimators=500;, score=0.712 total time=   8.3s\n",
      "[CV 4/5] END learning_rate=1, loss=exponential, max_depth=50, n_estimators=500;, score=0.774 total time=  10.3s\n",
      "[CV 5/5] END learning_rate=1, loss=exponential, max_depth=50, n_estimators=500;, score=0.790 total time=   9.7s\n",
      "[CV 1/5] END learning_rate=1, loss=exponential, max_depth=50, n_estimators=1000;, score=0.728 total time=  16.4s\n",
      "[CV 2/5] END learning_rate=1, loss=exponential, max_depth=50, n_estimators=1000;, score=0.712 total time=  21.1s\n",
      "[CV 3/5] END learning_rate=1, loss=exponential, max_depth=50, n_estimators=1000;, score=0.728 total time=  18.6s\n",
      "[CV 4/5] END learning_rate=1, loss=exponential, max_depth=50, n_estimators=1000;, score=0.790 total time=  22.8s\n",
      "[CV 5/5] END learning_rate=1, loss=exponential, max_depth=50, n_estimators=1000;, score=0.734 total time=  20.3s\n",
      "[CV 1/5] END learning_rate=1, loss=exponential, max_depth=100, n_estimators=10;, score=0.736 total time=   0.0s\n",
      "[CV 2/5] END learning_rate=1, loss=exponential, max_depth=100, n_estimators=10;, score=0.752 total time=   0.1s\n",
      "[CV 3/5] END learning_rate=1, loss=exponential, max_depth=100, n_estimators=10;, score=0.728 total time=   0.0s\n",
      "[CV 4/5] END learning_rate=1, loss=exponential, max_depth=100, n_estimators=10;, score=0.766 total time=   0.1s\n",
      "[CV 5/5] END learning_rate=1, loss=exponential, max_depth=100, n_estimators=10;, score=0.806 total time=   0.0s\n",
      "[CV 1/5] END learning_rate=1, loss=exponential, max_depth=100, n_estimators=100;, score=0.768 total time=   1.8s\n",
      "[CV 2/5] END learning_rate=1, loss=exponential, max_depth=100, n_estimators=100;, score=0.768 total time=   1.9s\n",
      "[CV 3/5] END learning_rate=1, loss=exponential, max_depth=100, n_estimators=100;, score=0.760 total time=   1.7s\n",
      "[CV 4/5] END learning_rate=1, loss=exponential, max_depth=100, n_estimators=100;, score=0.798 total time=   1.8s\n",
      "[CV 5/5] END learning_rate=1, loss=exponential, max_depth=100, n_estimators=100;, score=0.823 total time=   1.6s\n",
      "[CV 1/5] END learning_rate=1, loss=exponential, max_depth=100, n_estimators=500;, score=0.720 total time=  10.9s\n",
      "[CV 2/5] END learning_rate=1, loss=exponential, max_depth=100, n_estimators=500;, score=0.728 total time=  10.9s\n",
      "[CV 3/5] END learning_rate=1, loss=exponential, max_depth=100, n_estimators=500;, score=0.720 total time=   9.3s\n",
      "[CV 4/5] END learning_rate=1, loss=exponential, max_depth=100, n_estimators=500;, score=0.766 total time=  11.0s\n",
      "[CV 5/5] END learning_rate=1, loss=exponential, max_depth=100, n_estimators=500;, score=0.790 total time=   9.6s\n",
      "[CV 1/5] END learning_rate=1, loss=exponential, max_depth=100, n_estimators=1000;, score=0.720 total time=  24.3s\n",
      "[CV 2/5] END learning_rate=1, loss=exponential, max_depth=100, n_estimators=1000;, score=0.720 total time=  21.8s\n",
      "[CV 3/5] END learning_rate=1, loss=exponential, max_depth=100, n_estimators=1000;, score=0.712 total time=  19.7s\n",
      "[CV 4/5] END learning_rate=1, loss=exponential, max_depth=100, n_estimators=1000;, score=0.774 total time=  24.0s\n",
      "[CV 5/5] END learning_rate=1, loss=exponential, max_depth=100, n_estimators=1000;, score=0.766 total time=  20.0s\n",
      "[CV 1/5] END learning_rate=10, loss=deviance, max_depth=3, n_estimators=10;, score=0.264 total time=   0.0s\n",
      "[CV 2/5] END learning_rate=10, loss=deviance, max_depth=3, n_estimators=10;, score=0.640 total time=   0.0s\n",
      "[CV 3/5] END learning_rate=10, loss=deviance, max_depth=3, n_estimators=10;, score=0.360 total time=   0.0s\n",
      "[CV 4/5] END learning_rate=10, loss=deviance, max_depth=3, n_estimators=10;, score=0.250 total time=   0.0s\n",
      "[CV 5/5] END learning_rate=10, loss=deviance, max_depth=3, n_estimators=10;, score=0.234 total time=   0.0s\n",
      "[CV 1/5] END learning_rate=10, loss=deviance, max_depth=3, n_estimators=100;, score=0.264 total time=   0.1s\n",
      "[CV 2/5] END learning_rate=10, loss=deviance, max_depth=3, n_estimators=100;, score=0.640 total time=   0.1s\n",
      "[CV 3/5] END learning_rate=10, loss=deviance, max_depth=3, n_estimators=100;, score=0.360 total time=   0.1s\n",
      "[CV 4/5] END learning_rate=10, loss=deviance, max_depth=3, n_estimators=100;, score=0.250 total time=   0.1s\n",
      "[CV 5/5] END learning_rate=10, loss=deviance, max_depth=3, n_estimators=100;, score=0.234 total time=   0.1s\n",
      "[CV 1/5] END learning_rate=10, loss=deviance, max_depth=3, n_estimators=500;, score=0.264 total time=   0.7s\n",
      "[CV 2/5] END learning_rate=10, loss=deviance, max_depth=3, n_estimators=500;, score=0.744 total time=   0.7s\n",
      "[CV 3/5] END learning_rate=10, loss=deviance, max_depth=3, n_estimators=500;, score=0.360 total time=   0.7s\n",
      "[CV 4/5] END learning_rate=10, loss=deviance, max_depth=3, n_estimators=500;, score=0.250 total time=   0.7s\n",
      "[CV 5/5] END learning_rate=10, loss=deviance, max_depth=3, n_estimators=500;, score=0.234 total time=   0.8s\n",
      "[CV 1/5] END learning_rate=10, loss=deviance, max_depth=3, n_estimators=1000;, score=0.264 total time=   1.9s\n",
      "[CV 2/5] END learning_rate=10, loss=deviance, max_depth=3, n_estimators=1000;, score=0.640 total time=   1.7s\n",
      "[CV 3/5] END learning_rate=10, loss=deviance, max_depth=3, n_estimators=1000;, score=0.360 total time=   1.6s\n",
      "[CV 4/5] END learning_rate=10, loss=deviance, max_depth=3, n_estimators=1000;, score=0.250 total time=   1.6s\n",
      "[CV 5/5] END learning_rate=10, loss=deviance, max_depth=3, n_estimators=1000;, score=0.234 total time=   2.1s\n",
      "[CV 1/5] END learning_rate=10, loss=deviance, max_depth=10, n_estimators=10;, score=0.712 total time=   0.0s\n",
      "[CV 2/5] END learning_rate=10, loss=deviance, max_depth=10, n_estimators=10;, score=0.712 total time=   0.1s\n",
      "[CV 3/5] END learning_rate=10, loss=deviance, max_depth=10, n_estimators=10;, score=0.728 total time=   0.0s\n",
      "[CV 4/5] END learning_rate=10, loss=deviance, max_depth=10, n_estimators=10;, score=0.702 total time=   0.0s\n",
      "[CV 5/5] END learning_rate=10, loss=deviance, max_depth=10, n_estimators=10;, score=0.726 total time=   0.0s\n",
      "[CV 1/5] END learning_rate=10, loss=deviance, max_depth=10, n_estimators=100;, score=0.792 total time=   0.7s\n",
      "[CV 2/5] END learning_rate=10, loss=deviance, max_depth=10, n_estimators=100;, score=0.672 total time=   0.8s\n",
      "[CV 3/5] END learning_rate=10, loss=deviance, max_depth=10, n_estimators=100;, score=0.704 total time=   0.3s\n",
      "[CV 4/5] END learning_rate=10, loss=deviance, max_depth=10, n_estimators=100;, score=0.694 total time=   0.7s\n",
      "[CV 5/5] END learning_rate=10, loss=deviance, max_depth=10, n_estimators=100;, score=0.742 total time=   0.7s\n",
      "[CV 1/5] END learning_rate=10, loss=deviance, max_depth=10, n_estimators=500;, score=0.712 total time=   3.8s\n",
      "[CV 2/5] END learning_rate=10, loss=deviance, max_depth=10, n_estimators=500;, score=0.656 total time=   3.8s\n",
      "[CV 3/5] END learning_rate=10, loss=deviance, max_depth=10, n_estimators=500;, score=0.704 total time=   1.5s\n",
      "[CV 4/5] END learning_rate=10, loss=deviance, max_depth=10, n_estimators=500;, score=0.718 total time=   3.2s\n",
      "[CV 5/5] END learning_rate=10, loss=deviance, max_depth=10, n_estimators=500;, score=0.742 total time=   2.8s\n",
      "[CV 1/5] END learning_rate=10, loss=deviance, max_depth=10, n_estimators=1000;, score=0.720 total time=   6.6s\n",
      "[CV 2/5] END learning_rate=10, loss=deviance, max_depth=10, n_estimators=1000;, score=0.704 total time=   7.1s\n",
      "[CV 3/5] END learning_rate=10, loss=deviance, max_depth=10, n_estimators=1000;, score=0.712 total time=   2.8s\n",
      "[CV 4/5] END learning_rate=10, loss=deviance, max_depth=10, n_estimators=1000;, score=0.702 total time=   6.4s\n",
      "[CV 5/5] END learning_rate=10, loss=deviance, max_depth=10, n_estimators=1000;, score=0.726 total time=   5.7s\n",
      "[CV 1/5] END learning_rate=10, loss=deviance, max_depth=50, n_estimators=10;, score=0.760 total time=   0.0s\n",
      "[CV 2/5] END learning_rate=10, loss=deviance, max_depth=50, n_estimators=10;, score=0.720 total time=   0.0s\n",
      "[CV 3/5] END learning_rate=10, loss=deviance, max_depth=50, n_estimators=10;, score=0.720 total time=   0.0s\n",
      "[CV 4/5] END learning_rate=10, loss=deviance, max_depth=50, n_estimators=10;, score=0.766 total time=   0.0s\n",
      "[CV 5/5] END learning_rate=10, loss=deviance, max_depth=50, n_estimators=10;, score=0.734 total time=   0.0s\n",
      "[CV 1/5] END learning_rate=10, loss=deviance, max_depth=50, n_estimators=100;, score=0.776 total time=   0.5s\n",
      "[CV 2/5] END learning_rate=10, loss=deviance, max_depth=50, n_estimators=100;, score=0.720 total time=   0.4s\n",
      "[CV 3/5] END learning_rate=10, loss=deviance, max_depth=50, n_estimators=100;, score=0.728 total time=   0.4s\n",
      "[CV 4/5] END learning_rate=10, loss=deviance, max_depth=50, n_estimators=100;, score=0.766 total time=   0.7s\n",
      "[CV 5/5] END learning_rate=10, loss=deviance, max_depth=50, n_estimators=100;, score=0.726 total time=   0.8s\n",
      "[CV 1/5] END learning_rate=10, loss=deviance, max_depth=50, n_estimators=500;, score=0.752 total time=   2.7s\n",
      "[CV 2/5] END learning_rate=10, loss=deviance, max_depth=50, n_estimators=500;, score=0.720 total time=   2.1s\n",
      "[CV 3/5] END learning_rate=10, loss=deviance, max_depth=50, n_estimators=500;, score=0.736 total time=   1.4s\n",
      "[CV 4/5] END learning_rate=10, loss=deviance, max_depth=50, n_estimators=500;, score=0.774 total time=   2.4s\n",
      "[CV 5/5] END learning_rate=10, loss=deviance, max_depth=50, n_estimators=500;, score=0.726 total time=   3.3s\n",
      "[CV 1/5] END learning_rate=10, loss=deviance, max_depth=50, n_estimators=1000;, score=0.752 total time=   4.6s\n",
      "[CV 2/5] END learning_rate=10, loss=deviance, max_depth=50, n_estimators=1000;, score=0.720 total time=   4.3s\n",
      "[CV 3/5] END learning_rate=10, loss=deviance, max_depth=50, n_estimators=1000;, score=0.728 total time=   3.0s\n",
      "[CV 4/5] END learning_rate=10, loss=deviance, max_depth=50, n_estimators=1000;, score=0.766 total time=   5.0s\n",
      "[CV 5/5] END learning_rate=10, loss=deviance, max_depth=50, n_estimators=1000;, score=0.734 total time=   6.8s\n",
      "[CV 1/5] END learning_rate=10, loss=deviance, max_depth=100, n_estimators=10;, score=0.776 total time=   0.0s\n",
      "[CV 2/5] END learning_rate=10, loss=deviance, max_depth=100, n_estimators=10;, score=0.728 total time=   0.0s\n",
      "[CV 3/5] END learning_rate=10, loss=deviance, max_depth=100, n_estimators=10;, score=0.720 total time=   0.0s\n",
      "[CV 4/5] END learning_rate=10, loss=deviance, max_depth=100, n_estimators=10;, score=0.758 total time=   0.0s\n",
      "[CV 5/5] END learning_rate=10, loss=deviance, max_depth=100, n_estimators=10;, score=0.734 total time=   0.0s\n",
      "[CV 1/5] END learning_rate=10, loss=deviance, max_depth=100, n_estimators=100;, score=0.768 total time=   0.4s\n",
      "[CV 2/5] END learning_rate=10, loss=deviance, max_depth=100, n_estimators=100;, score=0.728 total time=   0.4s\n",
      "[CV 3/5] END learning_rate=10, loss=deviance, max_depth=100, n_estimators=100;, score=0.736 total time=   0.2s\n",
      "[CV 4/5] END learning_rate=10, loss=deviance, max_depth=100, n_estimators=100;, score=0.758 total time=   0.5s\n",
      "[CV 5/5] END learning_rate=10, loss=deviance, max_depth=100, n_estimators=100;, score=0.734 total time=   0.6s\n",
      "[CV 1/5] END learning_rate=10, loss=deviance, max_depth=100, n_estimators=500;, score=0.760 total time=   2.3s\n",
      "[CV 2/5] END learning_rate=10, loss=deviance, max_depth=100, n_estimators=500;, score=0.728 total time=   2.0s\n",
      "[CV 3/5] END learning_rate=10, loss=deviance, max_depth=100, n_estimators=500;, score=0.728 total time=   1.4s\n",
      "[CV 4/5] END learning_rate=10, loss=deviance, max_depth=100, n_estimators=500;, score=0.782 total time=   2.6s\n",
      "[CV 5/5] END learning_rate=10, loss=deviance, max_depth=100, n_estimators=500;, score=0.726 total time=   3.5s\n",
      "[CV 1/5] END learning_rate=10, loss=deviance, max_depth=100, n_estimators=1000;, score=0.752 total time=   4.7s\n",
      "[CV 2/5] END learning_rate=10, loss=deviance, max_depth=100, n_estimators=1000;, score=0.720 total time=   4.0s\n",
      "[CV 3/5] END learning_rate=10, loss=deviance, max_depth=100, n_estimators=1000;, score=0.720 total time=   2.8s\n",
      "[CV 4/5] END learning_rate=10, loss=deviance, max_depth=100, n_estimators=1000;, score=0.774 total time=   5.4s\n",
      "[CV 5/5] END learning_rate=10, loss=deviance, max_depth=100, n_estimators=1000;, score=0.734 total time=   7.5s\n",
      "[CV 1/5] END learning_rate=10, loss=exponential, max_depth=3, n_estimators=10;, score=0.424 total time=   0.0s\n",
      "[CV 2/5] END learning_rate=10, loss=exponential, max_depth=3, n_estimators=10;, score=0.296 total time=   0.0s\n",
      "[CV 3/5] END learning_rate=10, loss=exponential, max_depth=3, n_estimators=10;, score=0.408 total time=   0.0s\n",
      "[CV 4/5] END learning_rate=10, loss=exponential, max_depth=3, n_estimators=10;, score=0.395 total time=   0.0s\n",
      "[CV 5/5] END learning_rate=10, loss=exponential, max_depth=3, n_estimators=10;, score=0.742 total time=   0.0s\n",
      "[CV 1/5] END learning_rate=10, loss=exponential, max_depth=3, n_estimators=100;, score=0.432 total time=   0.1s\n",
      "[CV 2/5] END learning_rate=10, loss=exponential, max_depth=3, n_estimators=100;, score=0.312 total time=   0.1s\n",
      "[CV 3/5] END learning_rate=10, loss=exponential, max_depth=3, n_estimators=100;, score=0.440 total time=   0.1s\n",
      "[CV 4/5] END learning_rate=10, loss=exponential, max_depth=3, n_estimators=100;, score=0.476 total time=   0.1s\n",
      "[CV 5/5] END learning_rate=10, loss=exponential, max_depth=3, n_estimators=100;, score=0.395 total time=   0.1s\n",
      "[CV 1/5] END learning_rate=10, loss=exponential, max_depth=3, n_estimators=500;, score=0.424 total time=   0.8s\n",
      "[CV 2/5] END learning_rate=10, loss=exponential, max_depth=3, n_estimators=500;, score=0.352 total time=   1.0s\n",
      "[CV 3/5] END learning_rate=10, loss=exponential, max_depth=3, n_estimators=500;, score=0.400 total time=   0.8s\n",
      "[CV 4/5] END learning_rate=10, loss=exponential, max_depth=3, n_estimators=500;, score=0.484 total time=   0.8s\n",
      "[CV 5/5] END learning_rate=10, loss=exponential, max_depth=3, n_estimators=500;, score=0.387 total time=   1.0s\n",
      "[CV 1/5] END learning_rate=10, loss=exponential, max_depth=3, n_estimators=1000;, score=0.424 total time=   1.8s\n",
      "[CV 2/5] END learning_rate=10, loss=exponential, max_depth=3, n_estimators=1000;, score=0.352 total time=   1.6s\n",
      "[CV 3/5] END learning_rate=10, loss=exponential, max_depth=3, n_estimators=1000;, score=0.400 total time=   1.6s\n",
      "[CV 4/5] END learning_rate=10, loss=exponential, max_depth=3, n_estimators=1000;, score=0.468 total time=   1.6s\n",
      "[CV 5/5] END learning_rate=10, loss=exponential, max_depth=3, n_estimators=1000;, score=0.411 total time=   1.6s\n",
      "[CV 1/5] END learning_rate=10, loss=exponential, max_depth=10, n_estimators=10;, score=0.768 total time=   0.0s\n",
      "[CV 2/5] END learning_rate=10, loss=exponential, max_depth=10, n_estimators=10;, score=0.688 total time=   0.0s\n",
      "[CV 3/5] END learning_rate=10, loss=exponential, max_depth=10, n_estimators=10;, score=0.672 total time=   0.0s\n",
      "[CV 4/5] END learning_rate=10, loss=exponential, max_depth=10, n_estimators=10;, score=0.758 total time=   0.0s\n",
      "[CV 5/5] END learning_rate=10, loss=exponential, max_depth=10, n_estimators=10;, score=0.726 total time=   0.0s\n",
      "[CV 1/5] END learning_rate=10, loss=exponential, max_depth=10, n_estimators=100;, score=0.744 total time=   0.6s\n",
      "[CV 2/5] END learning_rate=10, loss=exponential, max_depth=10, n_estimators=100;, score=0.688 total time=   0.5s\n",
      "[CV 3/5] END learning_rate=10, loss=exponential, max_depth=10, n_estimators=100;, score=0.696 total time=   0.4s\n",
      "[CV 4/5] END learning_rate=10, loss=exponential, max_depth=10, n_estimators=100;, score=0.758 total time=   0.6s\n",
      "[CV 5/5] END learning_rate=10, loss=exponential, max_depth=10, n_estimators=100;, score=0.702 total time=   0.6s\n",
      "[CV 1/5] END learning_rate=10, loss=exponential, max_depth=10, n_estimators=500;, score=0.752 total time=   4.8s\n",
      "[CV 2/5] END learning_rate=10, loss=exponential, max_depth=10, n_estimators=500;, score=0.720 total time=   3.2s\n",
      "[CV 3/5] END learning_rate=10, loss=exponential, max_depth=10, n_estimators=500;, score=0.752 total time=   2.2s\n",
      "[CV 4/5] END learning_rate=10, loss=exponential, max_depth=10, n_estimators=500;, score=0.766 total time=   3.3s\n",
      "[CV 5/5] END learning_rate=10, loss=exponential, max_depth=10, n_estimators=500;, score=0.758 total time=   2.8s\n",
      "[CV 1/5] END learning_rate=10, loss=exponential, max_depth=10, n_estimators=1000;, score=0.736 total time=   6.9s\n",
      "[CV 2/5] END learning_rate=10, loss=exponential, max_depth=10, n_estimators=1000;, score=0.696 total time=   5.0s\n",
      "[CV 3/5] END learning_rate=10, loss=exponential, max_depth=10, n_estimators=1000;, score=0.752 total time=   4.8s\n",
      "[CV 4/5] END learning_rate=10, loss=exponential, max_depth=10, n_estimators=1000;, score=0.782 total time=   7.1s\n",
      "[CV 5/5] END learning_rate=10, loss=exponential, max_depth=10, n_estimators=1000;, score=0.742 total time=   5.5s\n",
      "[CV 1/5] END learning_rate=10, loss=exponential, max_depth=50, n_estimators=10;, score=0.792 total time=   0.0s\n",
      "[CV 2/5] END learning_rate=10, loss=exponential, max_depth=50, n_estimators=10;, score=0.720 total time=   0.0s\n",
      "[CV 3/5] END learning_rate=10, loss=exponential, max_depth=50, n_estimators=10;, score=0.736 total time=   0.0s\n",
      "[CV 4/5] END learning_rate=10, loss=exponential, max_depth=50, n_estimators=10;, score=0.726 total time=   0.0s\n",
      "[CV 5/5] END learning_rate=10, loss=exponential, max_depth=50, n_estimators=10;, score=0.718 total time=   0.0s\n",
      "[CV 1/5] END learning_rate=10, loss=exponential, max_depth=50, n_estimators=100;, score=0.800 total time=   0.5s\n",
      "[CV 2/5] END learning_rate=10, loss=exponential, max_depth=50, n_estimators=100;, score=0.736 total time=   0.6s\n",
      "[CV 3/5] END learning_rate=10, loss=exponential, max_depth=50, n_estimators=100;, score=0.704 total time=   0.4s\n",
      "[CV 4/5] END learning_rate=10, loss=exponential, max_depth=50, n_estimators=100;, score=0.726 total time=   0.6s\n",
      "[CV 5/5] END learning_rate=10, loss=exponential, max_depth=50, n_estimators=100;, score=0.710 total time=   0.7s\n",
      "[CV 1/5] END learning_rate=10, loss=exponential, max_depth=50, n_estimators=500;, score=0.808 total time=   2.8s\n",
      "[CV 2/5] END learning_rate=10, loss=exponential, max_depth=50, n_estimators=500;, score=0.736 total time=   2.8s\n",
      "[CV 3/5] END learning_rate=10, loss=exponential, max_depth=50, n_estimators=500;, score=0.704 total time=   2.0s\n",
      "[CV 4/5] END learning_rate=10, loss=exponential, max_depth=50, n_estimators=500;, score=0.726 total time=   4.0s\n",
      "[CV 5/5] END learning_rate=10, loss=exponential, max_depth=50, n_estimators=500;, score=0.702 total time=   3.2s\n",
      "[CV 1/5] END learning_rate=10, loss=exponential, max_depth=50, n_estimators=1000;, score=0.808 total time=   5.7s\n",
      "[CV 2/5] END learning_rate=10, loss=exponential, max_depth=50, n_estimators=1000;, score=0.704 total time=   6.0s\n",
      "[CV 3/5] END learning_rate=10, loss=exponential, max_depth=50, n_estimators=1000;, score=0.672 total time=   4.0s\n",
      "[CV 4/5] END learning_rate=10, loss=exponential, max_depth=50, n_estimators=1000;, score=0.774 total time=   6.6s\n",
      "[CV 5/5] END learning_rate=10, loss=exponential, max_depth=50, n_estimators=1000;, score=0.702 total time=   5.8s\n",
      "[CV 1/5] END learning_rate=10, loss=exponential, max_depth=100, n_estimators=10;, score=0.800 total time=   0.0s\n",
      "[CV 2/5] END learning_rate=10, loss=exponential, max_depth=100, n_estimators=10;, score=0.768 total time=   0.0s\n",
      "[CV 3/5] END learning_rate=10, loss=exponential, max_depth=100, n_estimators=10;, score=0.720 total time=   0.0s\n",
      "[CV 4/5] END learning_rate=10, loss=exponential, max_depth=100, n_estimators=10;, score=0.742 total time=   0.0s\n",
      "[CV 5/5] END learning_rate=10, loss=exponential, max_depth=100, n_estimators=10;, score=0.726 total time=   0.0s\n",
      "[CV 1/5] END learning_rate=10, loss=exponential, max_depth=100, n_estimators=100;, score=0.832 total time=   0.5s\n",
      "[CV 2/5] END learning_rate=10, loss=exponential, max_depth=100, n_estimators=100;, score=0.752 total time=   0.5s\n",
      "[CV 3/5] END learning_rate=10, loss=exponential, max_depth=100, n_estimators=100;, score=0.696 total time=   0.4s\n",
      "[CV 4/5] END learning_rate=10, loss=exponential, max_depth=100, n_estimators=100;, score=0.726 total time=   0.6s\n",
      "[CV 5/5] END learning_rate=10, loss=exponential, max_depth=100, n_estimators=100;, score=0.694 total time=   0.7s\n",
      "[CV 1/5] END learning_rate=10, loss=exponential, max_depth=100, n_estimators=500;, score=0.808 total time=   3.2s\n",
      "[CV 2/5] END learning_rate=10, loss=exponential, max_depth=100, n_estimators=500;, score=0.792 total time=   2.8s\n",
      "[CV 3/5] END learning_rate=10, loss=exponential, max_depth=100, n_estimators=500;, score=0.712 total time=   1.7s\n",
      "[CV 4/5] END learning_rate=10, loss=exponential, max_depth=100, n_estimators=500;, score=0.718 total time=   3.5s\n",
      "[CV 5/5] END learning_rate=10, loss=exponential, max_depth=100, n_estimators=500;, score=0.669 total time=   3.1s\n",
      "[CV 1/5] END learning_rate=10, loss=exponential, max_depth=100, n_estimators=1000;, score=0.816 total time=   5.9s\n",
      "[CV 2/5] END learning_rate=10, loss=exponential, max_depth=100, n_estimators=1000;, score=0.712 total time=   7.2s\n",
      "[CV 3/5] END learning_rate=10, loss=exponential, max_depth=100, n_estimators=1000;, score=0.696 total time=   4.0s\n",
      "[CV 4/5] END learning_rate=10, loss=exponential, max_depth=100, n_estimators=1000;, score=0.758 total time=   6.8s\n",
      "[CV 5/5] END learning_rate=10, loss=exponential, max_depth=100, n_estimators=1000;, score=0.710 total time=   6.0s\n"
     ]
    },
    {
     "data": {
      "text/plain": [
       "GridSearchCV(estimator=GradientBoostingClassifier(),\n",
       "             param_grid={'learning_rate': [0.001, 0.01, 0.1, 1, 10],\n",
       "                         'loss': ['deviance', 'exponential'],\n",
       "                         'max_depth': [3, 10, 50, 100],\n",
       "                         'n_estimators': [10, 100, 500, 1000]},\n",
       "             verbose=3)"
      ]
     },
     "execution_count": 140,
     "metadata": {},
     "output_type": "execute_result"
    }
   ],
   "source": [
    "grid.fit(X_train,y_train)\n"
   ]
  },
  {
   "cell_type": "code",
   "execution_count": 141,
   "id": "251c60bc",
   "metadata": {},
   "outputs": [
    {
     "data": {
      "text/plain": [
       "GradientBoostingClassifier(learning_rate=0.01, loss='exponential',\n",
       "                           n_estimators=500)"
      ]
     },
     "execution_count": 141,
     "metadata": {},
     "output_type": "execute_result"
    }
   ],
   "source": [
    "grid.best_estimator_\n"
   ]
  },
  {
   "cell_type": "code",
   "execution_count": 142,
   "id": "efa60e9e",
   "metadata": {},
   "outputs": [],
   "source": [
    "predictions = grid.predict(X_test)"
   ]
  },
  {
   "cell_type": "markdown",
   "id": "3a8d99ac",
   "metadata": {},
   "source": [
    "Checking model performance"
   ]
  },
  {
   "cell_type": "code",
   "execution_count": 143,
   "id": "660fb6ea",
   "metadata": {},
   "outputs": [
    {
     "name": "stdout",
     "output_type": "stream",
     "text": [
      "[[146  11]\n",
      " [ 38  73]]\n"
     ]
    }
   ],
   "source": [
    "print(confusion_matrix(y_test,predictions))"
   ]
  },
  {
   "cell_type": "code",
   "execution_count": 144,
   "id": "61067a00",
   "metadata": {},
   "outputs": [
    {
     "name": "stdout",
     "output_type": "stream",
     "text": [
      "              precision    recall  f1-score   support\n",
      "\n",
      "           0       0.79      0.93      0.86       157\n",
      "           1       0.87      0.66      0.75       111\n",
      "\n",
      "    accuracy                           0.82       268\n",
      "   macro avg       0.83      0.79      0.80       268\n",
      "weighted avg       0.82      0.82      0.81       268\n",
      "\n"
     ]
    }
   ],
   "source": [
    "print(classification_report(y_test,predictions))"
   ]
  },
  {
   "cell_type": "markdown",
   "id": "a69b99cf",
   "metadata": {},
   "source": [
    "# Saving the model"
   ]
  },
  {
   "cell_type": "code",
   "execution_count": 147,
   "id": "313d65b6",
   "metadata": {},
   "outputs": [],
   "source": [
    "# import joblib\n",
    "# joblib.dump(mod,\"Titanic_Project_survival.pkl\")\n",
    "import pickle\n",
    "filename='Titanic_Project_survival.pkl'\n",
    "pickle.dump(gb,open(filename,'wb'))"
   ]
  },
  {
   "cell_type": "code",
   "execution_count": 149,
   "id": "4ffaa9dc",
   "metadata": {},
   "outputs": [
    {
     "name": "stdout",
     "output_type": "stream",
     "text": [
      "0.8134328358208955\n"
     ]
    }
   ],
   "source": [
    "loaded_model=pickle.load(open('Titanic_Project_survival.pkl','rb'))\n",
    "result=loaded_model.score(X_test,y_test)\n",
    "print(result)"
   ]
  },
  {
   "cell_type": "code",
   "execution_count": null,
   "id": "5c77426a",
   "metadata": {},
   "outputs": [],
   "source": []
  }
 ],
 "metadata": {
  "kernelspec": {
   "display_name": "Python 3 (ipykernel)",
   "language": "python",
   "name": "python3"
  },
  "language_info": {
   "codemirror_mode": {
    "name": "ipython",
    "version": 3
   },
   "file_extension": ".py",
   "mimetype": "text/x-python",
   "name": "python",
   "nbconvert_exporter": "python",
   "pygments_lexer": "ipython3",
   "version": "3.9.7"
  }
 },
 "nbformat": 4,
 "nbformat_minor": 5
}
