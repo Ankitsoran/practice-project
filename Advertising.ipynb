{
 "cells": [
  {
   "cell_type": "code",
   "execution_count": 16,
   "id": "9f423ee8",
   "metadata": {},
   "outputs": [],
   "source": [
    "import numpy as np\n",
    "import pandas as pd\n",
    "import sklearn\n",
    "import seaborn as sns\n",
    "import matplotlib.pyplot as plt\n",
    "import warnings \n",
    "warnings.filterwarnings('ignore')\n",
    "\n",
    "from sklearn.metrics import accuracy_score\n",
    "from sklearn.metrics import confusion_matrix,classification_report\n",
    "from sklearn.linear_model import LinearRegression\n",
    "from sklearn.metrics import mean_squared_error,mean_absolute_error\n",
    "from sklearn.model_selection import train_test_split\n",
    "from scipy.stats import zscore\n",
    "from sklearn.linear_model import LinearRegression\n",
    "from sklearn.metrics import roc_curve, roc_auc_score\n",
    "from sklearn.model_selection import train_test_split"
   ]
  },
  {
   "cell_type": "code",
   "execution_count": 17,
   "id": "6f8f1e28",
   "metadata": {},
   "outputs": [
    {
     "data": {
      "text/html": [
       "<div>\n",
       "<style scoped>\n",
       "    .dataframe tbody tr th:only-of-type {\n",
       "        vertical-align: middle;\n",
       "    }\n",
       "\n",
       "    .dataframe tbody tr th {\n",
       "        vertical-align: top;\n",
       "    }\n",
       "\n",
       "    .dataframe thead th {\n",
       "        text-align: right;\n",
       "    }\n",
       "</style>\n",
       "<table border=\"1\" class=\"dataframe\">\n",
       "  <thead>\n",
       "    <tr style=\"text-align: right;\">\n",
       "      <th></th>\n",
       "      <th>Unnamed: 0</th>\n",
       "      <th>TV</th>\n",
       "      <th>radio</th>\n",
       "      <th>newspaper</th>\n",
       "      <th>sales</th>\n",
       "    </tr>\n",
       "  </thead>\n",
       "  <tbody>\n",
       "    <tr>\n",
       "      <th>0</th>\n",
       "      <td>1</td>\n",
       "      <td>230.1</td>\n",
       "      <td>37.8</td>\n",
       "      <td>69.2</td>\n",
       "      <td>22.1</td>\n",
       "    </tr>\n",
       "    <tr>\n",
       "      <th>1</th>\n",
       "      <td>2</td>\n",
       "      <td>44.5</td>\n",
       "      <td>39.3</td>\n",
       "      <td>45.1</td>\n",
       "      <td>10.4</td>\n",
       "    </tr>\n",
       "    <tr>\n",
       "      <th>2</th>\n",
       "      <td>3</td>\n",
       "      <td>17.2</td>\n",
       "      <td>45.9</td>\n",
       "      <td>69.3</td>\n",
       "      <td>9.3</td>\n",
       "    </tr>\n",
       "    <tr>\n",
       "      <th>3</th>\n",
       "      <td>4</td>\n",
       "      <td>151.5</td>\n",
       "      <td>41.3</td>\n",
       "      <td>58.5</td>\n",
       "      <td>18.5</td>\n",
       "    </tr>\n",
       "    <tr>\n",
       "      <th>4</th>\n",
       "      <td>5</td>\n",
       "      <td>180.8</td>\n",
       "      <td>10.8</td>\n",
       "      <td>58.4</td>\n",
       "      <td>12.9</td>\n",
       "    </tr>\n",
       "    <tr>\n",
       "      <th>...</th>\n",
       "      <td>...</td>\n",
       "      <td>...</td>\n",
       "      <td>...</td>\n",
       "      <td>...</td>\n",
       "      <td>...</td>\n",
       "    </tr>\n",
       "    <tr>\n",
       "      <th>195</th>\n",
       "      <td>196</td>\n",
       "      <td>38.2</td>\n",
       "      <td>3.7</td>\n",
       "      <td>13.8</td>\n",
       "      <td>7.6</td>\n",
       "    </tr>\n",
       "    <tr>\n",
       "      <th>196</th>\n",
       "      <td>197</td>\n",
       "      <td>94.2</td>\n",
       "      <td>4.9</td>\n",
       "      <td>8.1</td>\n",
       "      <td>9.7</td>\n",
       "    </tr>\n",
       "    <tr>\n",
       "      <th>197</th>\n",
       "      <td>198</td>\n",
       "      <td>177.0</td>\n",
       "      <td>9.3</td>\n",
       "      <td>6.4</td>\n",
       "      <td>12.8</td>\n",
       "    </tr>\n",
       "    <tr>\n",
       "      <th>198</th>\n",
       "      <td>199</td>\n",
       "      <td>283.6</td>\n",
       "      <td>42.0</td>\n",
       "      <td>66.2</td>\n",
       "      <td>25.5</td>\n",
       "    </tr>\n",
       "    <tr>\n",
       "      <th>199</th>\n",
       "      <td>200</td>\n",
       "      <td>232.1</td>\n",
       "      <td>8.6</td>\n",
       "      <td>8.7</td>\n",
       "      <td>13.4</td>\n",
       "    </tr>\n",
       "  </tbody>\n",
       "</table>\n",
       "<p>200 rows × 5 columns</p>\n",
       "</div>"
      ],
      "text/plain": [
       "     Unnamed: 0     TV  radio  newspaper  sales\n",
       "0             1  230.1   37.8       69.2   22.1\n",
       "1             2   44.5   39.3       45.1   10.4\n",
       "2             3   17.2   45.9       69.3    9.3\n",
       "3             4  151.5   41.3       58.5   18.5\n",
       "4             5  180.8   10.8       58.4   12.9\n",
       "..          ...    ...    ...        ...    ...\n",
       "195         196   38.2    3.7       13.8    7.6\n",
       "196         197   94.2    4.9        8.1    9.7\n",
       "197         198  177.0    9.3        6.4   12.8\n",
       "198         199  283.6   42.0       66.2   25.5\n",
       "199         200  232.1    8.6        8.7   13.4\n",
       "\n",
       "[200 rows x 5 columns]"
      ]
     },
     "execution_count": 17,
     "metadata": {},
     "output_type": "execute_result"
    }
   ],
   "source": [
    "df=pd.read_csv('https://raw.githubusercontent.com/dsrscientist/DSData/master/Advertising.csv')\n",
    "df"
   ]
  },
  {
   "cell_type": "code",
   "execution_count": 18,
   "id": "039d1eeb",
   "metadata": {},
   "outputs": [
    {
     "data": {
      "text/plain": [
       "Unnamed: 0      int64\n",
       "TV            float64\n",
       "radio         float64\n",
       "newspaper     float64\n",
       "sales         float64\n",
       "dtype: object"
      ]
     },
     "execution_count": 18,
     "metadata": {},
     "output_type": "execute_result"
    }
   ],
   "source": [
    "df.dtypes"
   ]
  },
  {
   "cell_type": "code",
   "execution_count": 19,
   "id": "4b392c2b",
   "metadata": {},
   "outputs": [
    {
     "data": {
      "text/plain": [
       "Index(['Unnamed: 0', 'TV', 'radio', 'newspaper', 'sales'], dtype='object')"
      ]
     },
     "execution_count": 19,
     "metadata": {},
     "output_type": "execute_result"
    }
   ],
   "source": [
    "df.columns"
   ]
  },
  {
   "cell_type": "code",
   "execution_count": 20,
   "id": "2903a689",
   "metadata": {},
   "outputs": [],
   "source": [
    "df=df.drop('Unnamed: 0',axis=1)"
   ]
  },
  {
   "cell_type": "code",
   "execution_count": 21,
   "id": "4701aa3a",
   "metadata": {},
   "outputs": [
    {
     "name": "stdout",
     "output_type": "stream",
     "text": [
      "<class 'pandas.core.frame.DataFrame'>\n",
      "RangeIndex: 200 entries, 0 to 199\n",
      "Data columns (total 4 columns):\n",
      " #   Column     Non-Null Count  Dtype  \n",
      "---  ------     --------------  -----  \n",
      " 0   TV         200 non-null    float64\n",
      " 1   radio      200 non-null    float64\n",
      " 2   newspaper  200 non-null    float64\n",
      " 3   sales      200 non-null    float64\n",
      "dtypes: float64(4)\n",
      "memory usage: 6.4 KB\n"
     ]
    }
   ],
   "source": [
    "df.info()"
   ]
  },
  {
   "cell_type": "code",
   "execution_count": 22,
   "id": "5bd1abb5",
   "metadata": {},
   "outputs": [
    {
     "data": {
      "text/plain": [
       "TV           0\n",
       "radio        0\n",
       "newspaper    0\n",
       "sales        0\n",
       "dtype: int64"
      ]
     },
     "execution_count": 22,
     "metadata": {},
     "output_type": "execute_result"
    }
   ],
   "source": [
    "df.isnull().sum()"
   ]
  },
  {
   "cell_type": "markdown",
   "id": "98cb0868",
   "metadata": {},
   "source": [
    "# Graphical Representation"
   ]
  },
  {
   "cell_type": "code",
   "execution_count": 24,
   "id": "06f87a60",
   "metadata": {},
   "outputs": [
    {
     "data": {
      "text/plain": [
       "<AxesSubplot:xlabel='TV', ylabel='Density'>"
      ]
     },
     "execution_count": 24,
     "metadata": {},
     "output_type": "execute_result"
    },
    {
     "data": {
      "image/png": "[encoded data removed]",
      "text/plain": [
       "<Figure size 432x288 with 1 Axes>"
      ]
     },
     "metadata": {
      "needs_background": "light"
     },
     "output_type": "display_data"
    }
   ],
   "source": [
    "sns.distplot(df['TV'],kde=True)"
   ]
  },
  {
   "cell_type": "code",
   "execution_count": 26,
   "id": "14f9c10a",
   "metadata": {},
   "outputs": [
    {
     "data": {
      "text/plain": [
       "<AxesSubplot:xlabel='radio', ylabel='Density'>"
      ]
     },
     "execution_count": 26,
     "metadata": {},
     "output_type": "execute_result"
    },
    {
     "data": {
      "image/png": "[encoded data removed]",
      "text/plain": [
       "<Figure size 432x288 with 1 Axes>"
      ]
     },
     "metadata": {
      "needs_background": "light"
     },
     "output_type": "display_data"
    }
   ],
   "source": [
    "sns.distplot(df['radio'],kde=True)"
   ]
  },
  {
   "cell_type": "code",
   "execution_count": 27,
   "id": "b952b232",
   "metadata": {},
   "outputs": [
    {
     "data": {
      "text/plain": [
       "<AxesSubplot:xlabel='newspaper', ylabel='Density'>"
      ]
     },
     "execution_count": 27,
     "metadata": {},
     "output_type": "execute_result"
    },
    {
     "data": {
      "image/png": "[encoded data removed]",
      "text/plain": [
       "<Figure size 432x288 with 1 Axes>"
      ]
     },
     "metadata": {
      "needs_background": "light"
     },
     "output_type": "display_data"
    }
   ],
   "source": [
    "sns.distplot(df['newspaper'],kde=True)"
   ]
  },
  {
   "cell_type": "code",
   "execution_count": 28,
   "id": "a72a14ff",
   "metadata": {},
   "outputs": [
    {
     "data": {
      "text/plain": [
       "<AxesSubplot:xlabel='sales', ylabel='Density'>"
      ]
     },
     "execution_count": 28,
     "metadata": {},
     "output_type": "execute_result"
    },
    {
     "data": {
      "image/png": "[encoded data removed]",
      "text/plain": [
       "<Figure size 432x288 with 1 Axes>"
      ]
     },
     "metadata": {
      "needs_background": "light"
     },
     "output_type": "display_data"
    }
   ],
   "source": [
    "sns.distplot(df['sales'],kde=True)"
   ]
  },
  {
   "cell_type": "code",
   "execution_count": 29,
   "id": "4866f381",
   "metadata": {},
   "outputs": [
    {
     "data": {
      "text/html": [
       "<div>\n",
       "<style scoped>\n",
       "    .dataframe tbody tr th:only-of-type {\n",
       "        vertical-align: middle;\n",
       "    }\n",
       "\n",
       "    .dataframe tbody tr th {\n",
       "        vertical-align: top;\n",
       "    }\n",
       "\n",
       "    .dataframe thead th {\n",
       "        text-align: right;\n",
       "    }\n",
       "</style>\n",
       "<table border=\"1\" class=\"dataframe\">\n",
       "  <thead>\n",
       "    <tr style=\"text-align: right;\">\n",
       "      <th></th>\n",
       "      <th>TV</th>\n",
       "      <th>radio</th>\n",
       "      <th>newspaper</th>\n",
       "      <th>sales</th>\n",
       "    </tr>\n",
       "  </thead>\n",
       "  <tbody>\n",
       "    <tr>\n",
       "      <th>count</th>\n",
       "      <td>200.000000</td>\n",
       "      <td>200.000000</td>\n",
       "      <td>200.000000</td>\n",
       "      <td>200.000000</td>\n",
       "    </tr>\n",
       "    <tr>\n",
       "      <th>mean</th>\n",
       "      <td>147.042500</td>\n",
       "      <td>23.264000</td>\n",
       "      <td>30.554000</td>\n",
       "      <td>14.022500</td>\n",
       "    </tr>\n",
       "    <tr>\n",
       "      <th>std</th>\n",
       "      <td>85.854236</td>\n",
       "      <td>14.846809</td>\n",
       "      <td>21.778621</td>\n",
       "      <td>5.217457</td>\n",
       "    </tr>\n",
       "    <tr>\n",
       "      <th>min</th>\n",
       "      <td>0.700000</td>\n",
       "      <td>0.000000</td>\n",
       "      <td>0.300000</td>\n",
       "      <td>1.600000</td>\n",
       "    </tr>\n",
       "    <tr>\n",
       "      <th>25%</th>\n",
       "      <td>74.375000</td>\n",
       "      <td>9.975000</td>\n",
       "      <td>12.750000</td>\n",
       "      <td>10.375000</td>\n",
       "    </tr>\n",
       "    <tr>\n",
       "      <th>50%</th>\n",
       "      <td>149.750000</td>\n",
       "      <td>22.900000</td>\n",
       "      <td>25.750000</td>\n",
       "      <td>12.900000</td>\n",
       "    </tr>\n",
       "    <tr>\n",
       "      <th>75%</th>\n",
       "      <td>218.825000</td>\n",
       "      <td>36.525000</td>\n",
       "      <td>45.100000</td>\n",
       "      <td>17.400000</td>\n",
       "    </tr>\n",
       "    <tr>\n",
       "      <th>max</th>\n",
       "      <td>296.400000</td>\n",
       "      <td>49.600000</td>\n",
       "      <td>114.000000</td>\n",
       "      <td>27.000000</td>\n",
       "    </tr>\n",
       "  </tbody>\n",
       "</table>\n",
       "</div>"
      ],
      "text/plain": [
       "               TV       radio   newspaper       sales\n",
       "count  200.000000  200.000000  200.000000  200.000000\n",
       "mean   147.042500   23.264000   30.554000   14.022500\n",
       "std     85.854236   14.846809   21.778621    5.217457\n",
       "min      0.700000    0.000000    0.300000    1.600000\n",
       "25%     74.375000    9.975000   12.750000   10.375000\n",
       "50%    149.750000   22.900000   25.750000   12.900000\n",
       "75%    218.825000   36.525000   45.100000   17.400000\n",
       "max    296.400000   49.600000  114.000000   27.000000"
      ]
     },
     "execution_count": 29,
     "metadata": {},
     "output_type": "execute_result"
    }
   ],
   "source": [
    "df.describe()"
   ]
  },
  {
   "cell_type": "code",
   "execution_count": 35,
   "id": "8eb4a2c3",
   "metadata": {},
   "outputs": [
    {
     "data": {
      "text/plain": [
       "<AxesSubplot:>"
      ]
     },
     "execution_count": 35,
     "metadata": {},
     "output_type": "execute_result"
    },
    {
     "data": {
      "image/png": "[encoded data removed]",
      "text/plain": [
       "<Figure size 1080x432 with 2 Axes>"
      ]
     },
     "metadata": {
      "needs_background": "light"
     },
     "output_type": "display_data"
    }
   ],
   "source": [
    "plt.figure(figsize=(15,6))\n",
    "sns.heatmap(df.describe(),annot=True,linewidths=0.1,linecolor='white',fmt='0.2f')"
   ]
  },
  {
   "cell_type": "code",
   "execution_count": 31,
   "id": "e4097547",
   "metadata": {},
   "outputs": [
    {
     "data": {
      "text/html": [
       "<div>\n",
       "<style scoped>\n",
       "    .dataframe tbody tr th:only-of-type {\n",
       "        vertical-align: middle;\n",
       "    }\n",
       "\n",
       "    .dataframe tbody tr th {\n",
       "        vertical-align: top;\n",
       "    }\n",
       "\n",
       "    .dataframe thead th {\n",
       "        text-align: right;\n",
       "    }\n",
       "</style>\n",
       "<table border=\"1\" class=\"dataframe\">\n",
       "  <thead>\n",
       "    <tr style=\"text-align: right;\">\n",
       "      <th></th>\n",
       "      <th>TV</th>\n",
       "      <th>radio</th>\n",
       "      <th>newspaper</th>\n",
       "      <th>sales</th>\n",
       "    </tr>\n",
       "  </thead>\n",
       "  <tbody>\n",
       "    <tr>\n",
       "      <th>TV</th>\n",
       "      <td>1.000000</td>\n",
       "      <td>0.054809</td>\n",
       "      <td>0.056648</td>\n",
       "      <td>0.782224</td>\n",
       "    </tr>\n",
       "    <tr>\n",
       "      <th>radio</th>\n",
       "      <td>0.054809</td>\n",
       "      <td>1.000000</td>\n",
       "      <td>0.354104</td>\n",
       "      <td>0.576223</td>\n",
       "    </tr>\n",
       "    <tr>\n",
       "      <th>newspaper</th>\n",
       "      <td>0.056648</td>\n",
       "      <td>0.354104</td>\n",
       "      <td>1.000000</td>\n",
       "      <td>0.228299</td>\n",
       "    </tr>\n",
       "    <tr>\n",
       "      <th>sales</th>\n",
       "      <td>0.782224</td>\n",
       "      <td>0.576223</td>\n",
       "      <td>0.228299</td>\n",
       "      <td>1.000000</td>\n",
       "    </tr>\n",
       "  </tbody>\n",
       "</table>\n",
       "</div>"
      ],
      "text/plain": [
       "                 TV     radio  newspaper     sales\n",
       "TV         1.000000  0.054809   0.056648  0.782224\n",
       "radio      0.054809  1.000000   0.354104  0.576223\n",
       "newspaper  0.056648  0.354104   1.000000  0.228299\n",
       "sales      0.782224  0.576223   0.228299  1.000000"
      ]
     },
     "execution_count": 31,
     "metadata": {},
     "output_type": "execute_result"
    }
   ],
   "source": [
    "dfcor=df.corr()\n",
    "dfcor"
   ]
  },
  {
   "cell_type": "code",
   "execution_count": 34,
   "id": "97dba481",
   "metadata": {},
   "outputs": [
    {
     "data": {
      "text/plain": [
       "<AxesSubplot:>"
      ]
     },
     "execution_count": 34,
     "metadata": {},
     "output_type": "execute_result"
    },
    {
     "data": {
      "image/png": "[encoded data removed]",
      "text/plain": [
       "<Figure size 1080x360 with 2 Axes>"
      ]
     },
     "metadata": {
      "needs_background": "light"
     },
     "output_type": "display_data"
    }
   ],
   "source": [
    "plt.figure(figsize=(15,5))\n",
    "sns.heatmap(dfcor,annot=True,linewidths=0.1,linecolor='white',fmt='0.2f')"
   ]
  },
  {
   "cell_type": "code",
   "execution_count": 39,
   "id": "210ffdc3",
   "metadata": {},
   "outputs": [
    {
     "data": {
      "image/png": "[encoded data removed]",
      "text/plain": [
       "<Figure size 720x360 with 1 Axes>"
      ]
     },
     "metadata": {
      "needs_background": "light"
     },
     "output_type": "display_data"
    }
   ],
   "source": [
    "plt.figure(figsize=(10,5))\n",
    "df.corr()['sales'].sort_values(ascending=False).drop(['sales']).plot(kind='bar',color='c')\n",
    "plt.xlabel('Features',fontsize=14)\n",
    "plt.ylabel('Target columns',fontsize=14)\n",
    "plt.title('Correlation',fontsize=18)\n",
    "plt.show()"
   ]
  },
  {
   "cell_type": "code",
   "execution_count": 40,
   "id": "ab21014c",
   "metadata": {},
   "outputs": [
    {
     "data": {
      "text/plain": [
       "TV          -0.069853\n",
       "radio        0.094175\n",
       "newspaper    0.894720\n",
       "sales        0.407571\n",
       "dtype: float64"
      ]
     },
     "execution_count": 40,
     "metadata": {},
     "output_type": "execute_result"
    }
   ],
   "source": [
    "df.skew()"
   ]
  },
  {
   "cell_type": "markdown",
   "id": "95704650",
   "metadata": {},
   "source": [
    "# To Check Outlier"
   ]
  },
  {
   "cell_type": "code",
   "execution_count": 41,
   "id": "60bfe2e5",
   "metadata": {},
   "outputs": [
    {
     "data": {
      "text/plain": [
       "Index(['TV', 'radio', 'newspaper', 'sales'], dtype='object')"
      ]
     },
     "execution_count": 41,
     "metadata": {},
     "output_type": "execute_result"
    }
   ],
   "source": [
    "df.columns"
   ]
  },
  {
   "cell_type": "code",
   "execution_count": 50,
   "id": "67adf1bf",
   "metadata": {},
   "outputs": [
    {
     "data": {
      "text/plain": [
       "<AxesSubplot:>"
      ]
     },
     "execution_count": 50,
     "metadata": {},
     "output_type": "execute_result"
    },
    {
     "data": {
      "image/png": "[encoded data removed]",
      "text/plain": [
       "<Figure size 432x288 with 1 Axes>"
      ]
     },
     "metadata": {
      "needs_background": "light"
     },
     "output_type": "display_data"
    }
   ],
   "source": [
    "df['TV'].plot.box()"
   ]
  },
  {
   "cell_type": "code",
   "execution_count": 49,
   "id": "c342b688",
   "metadata": {},
   "outputs": [
    {
     "data": {
      "text/plain": [
       "<AxesSubplot:>"
      ]
     },
     "execution_count": 49,
     "metadata": {},
     "output_type": "execute_result"
    },
    {
     "data": {
      "image/png": "[encoded data removed]",
      "text/plain": [
       "<Figure size 432x288 with 1 Axes>"
      ]
     },
     "metadata": {
      "needs_background": "light"
     },
     "output_type": "display_data"
    }
   ],
   "source": [
    "df['radio'].plot.box()"
   ]
  },
  {
   "cell_type": "code",
   "execution_count": 48,
   "id": "d70ada87",
   "metadata": {},
   "outputs": [
    {
     "data": {
      "text/plain": [
       "<AxesSubplot:>"
      ]
     },
     "execution_count": 48,
     "metadata": {},
     "output_type": "execute_result"
    },
    {
     "data": {
      "image/png": "[encoded data removed]",
      "text/plain": [
       "<Figure size 432x288 with 1 Axes>"
      ]
     },
     "metadata": {
      "needs_background": "light"
     },
     "output_type": "display_data"
    }
   ],
   "source": [
    "df['newspaper'].plot.box()"
   ]
  },
  {
   "cell_type": "markdown",
   "id": "dcb518ee",
   "metadata": {},
   "source": [
    "We have found outliers in newspaper"
   ]
  },
  {
   "cell_type": "markdown",
   "id": "a148382a",
   "metadata": {},
   "source": [
    "# Removal of Outliers."
   ]
  },
  {
   "cell_type": "code",
   "execution_count": 51,
   "id": "a006254e",
   "metadata": {},
   "outputs": [
    {
     "data": {
      "text/html": [
       "<div>\n",
       "<style scoped>\n",
       "    .dataframe tbody tr th:only-of-type {\n",
       "        vertical-align: middle;\n",
       "    }\n",
       "\n",
       "    .dataframe tbody tr th {\n",
       "        vertical-align: top;\n",
       "    }\n",
       "\n",
       "    .dataframe thead th {\n",
       "        text-align: right;\n",
       "    }\n",
       "</style>\n",
       "<table border=\"1\" class=\"dataframe\">\n",
       "  <thead>\n",
       "    <tr style=\"text-align: right;\">\n",
       "      <th></th>\n",
       "      <th>TV</th>\n",
       "      <th>radio</th>\n",
       "      <th>newspaper</th>\n",
       "      <th>sales</th>\n",
       "    </tr>\n",
       "  </thead>\n",
       "  <tbody>\n",
       "    <tr>\n",
       "      <th>0</th>\n",
       "      <td>0.969852</td>\n",
       "      <td>0.981522</td>\n",
       "      <td>1.778945</td>\n",
       "      <td>1.552053</td>\n",
       "    </tr>\n",
       "    <tr>\n",
       "      <th>1</th>\n",
       "      <td>1.197376</td>\n",
       "      <td>1.082808</td>\n",
       "      <td>0.669579</td>\n",
       "      <td>0.696046</td>\n",
       "    </tr>\n",
       "    <tr>\n",
       "      <th>2</th>\n",
       "      <td>1.516155</td>\n",
       "      <td>1.528463</td>\n",
       "      <td>1.783549</td>\n",
       "      <td>0.907406</td>\n",
       "    </tr>\n",
       "    <tr>\n",
       "      <th>3</th>\n",
       "      <td>0.052050</td>\n",
       "      <td>1.217855</td>\n",
       "      <td>1.286405</td>\n",
       "      <td>0.860330</td>\n",
       "    </tr>\n",
       "    <tr>\n",
       "      <th>4</th>\n",
       "      <td>0.394182</td>\n",
       "      <td>0.841614</td>\n",
       "      <td>1.281802</td>\n",
       "      <td>0.215683</td>\n",
       "    </tr>\n",
       "    <tr>\n",
       "      <th>...</th>\n",
       "      <td>...</td>\n",
       "      <td>...</td>\n",
       "      <td>...</td>\n",
       "      <td>...</td>\n",
       "    </tr>\n",
       "    <tr>\n",
       "      <th>195</th>\n",
       "      <td>1.270941</td>\n",
       "      <td>1.321031</td>\n",
       "      <td>0.771217</td>\n",
       "      <td>1.234053</td>\n",
       "    </tr>\n",
       "    <tr>\n",
       "      <th>196</th>\n",
       "      <td>0.617035</td>\n",
       "      <td>1.240003</td>\n",
       "      <td>1.033598</td>\n",
       "      <td>0.830548</td>\n",
       "    </tr>\n",
       "    <tr>\n",
       "      <th>197</th>\n",
       "      <td>0.349810</td>\n",
       "      <td>0.942899</td>\n",
       "      <td>1.111852</td>\n",
       "      <td>0.234898</td>\n",
       "    </tr>\n",
       "    <tr>\n",
       "      <th>198</th>\n",
       "      <td>1.594565</td>\n",
       "      <td>1.265121</td>\n",
       "      <td>1.640850</td>\n",
       "      <td>2.205347</td>\n",
       "    </tr>\n",
       "    <tr>\n",
       "      <th>199</th>\n",
       "      <td>0.993206</td>\n",
       "      <td>0.990165</td>\n",
       "      <td>1.005979</td>\n",
       "      <td>0.119610</td>\n",
       "    </tr>\n",
       "  </tbody>\n",
       "</table>\n",
       "<p>200 rows × 4 columns</p>\n",
       "</div>"
      ],
      "text/plain": [
       "           TV     radio  newspaper     sales\n",
       "0    0.969852  0.981522   1.778945  1.552053\n",
       "1    1.197376  1.082808   0.669579  0.696046\n",
       "2    1.516155  1.528463   1.783549  0.907406\n",
       "3    0.052050  1.217855   1.286405  0.860330\n",
       "4    0.394182  0.841614   1.281802  0.215683\n",
       "..        ...       ...        ...       ...\n",
       "195  1.270941  1.321031   0.771217  1.234053\n",
       "196  0.617035  1.240003   1.033598  0.830548\n",
       "197  0.349810  0.942899   1.111852  0.234898\n",
       "198  1.594565  1.265121   1.640850  2.205347\n",
       "199  0.993206  0.990165   1.005979  0.119610\n",
       "\n",
       "[200 rows x 4 columns]"
      ]
     },
     "execution_count": 51,
     "metadata": {},
     "output_type": "execute_result"
    }
   ],
   "source": [
    "from scipy.stats import zscore\n",
    "z=np.abs(zscore(df))\n",
    "z"
   ]
  },
  {
   "cell_type": "code",
   "execution_count": 52,
   "id": "2d7ca838",
   "metadata": {},
   "outputs": [
    {
     "name": "stdout",
     "output_type": "stream",
     "text": [
      "(array([ 16, 101], dtype=int64), array([2, 2], dtype=int64))\n"
     ]
    }
   ],
   "source": [
    "threshold=3\n",
    "print(np.where(z>3))"
   ]
  },
  {
   "cell_type": "code",
   "execution_count": 53,
   "id": "4baa195d",
   "metadata": {},
   "outputs": [
    {
     "data": {
      "text/html": [
       "<div>\n",
       "<style scoped>\n",
       "    .dataframe tbody tr th:only-of-type {\n",
       "        vertical-align: middle;\n",
       "    }\n",
       "\n",
       "    .dataframe tbody tr th {\n",
       "        vertical-align: top;\n",
       "    }\n",
       "\n",
       "    .dataframe thead th {\n",
       "        text-align: right;\n",
       "    }\n",
       "</style>\n",
       "<table border=\"1\" class=\"dataframe\">\n",
       "  <thead>\n",
       "    <tr style=\"text-align: right;\">\n",
       "      <th></th>\n",
       "      <th>TV</th>\n",
       "      <th>radio</th>\n",
       "      <th>newspaper</th>\n",
       "      <th>sales</th>\n",
       "    </tr>\n",
       "  </thead>\n",
       "  <tbody>\n",
       "    <tr>\n",
       "      <th>0</th>\n",
       "      <td>230.1</td>\n",
       "      <td>37.8</td>\n",
       "      <td>69.2</td>\n",
       "      <td>22.1</td>\n",
       "    </tr>\n",
       "    <tr>\n",
       "      <th>1</th>\n",
       "      <td>44.5</td>\n",
       "      <td>39.3</td>\n",
       "      <td>45.1</td>\n",
       "      <td>10.4</td>\n",
       "    </tr>\n",
       "    <tr>\n",
       "      <th>2</th>\n",
       "      <td>17.2</td>\n",
       "      <td>45.9</td>\n",
       "      <td>69.3</td>\n",
       "      <td>9.3</td>\n",
       "    </tr>\n",
       "    <tr>\n",
       "      <th>3</th>\n",
       "      <td>151.5</td>\n",
       "      <td>41.3</td>\n",
       "      <td>58.5</td>\n",
       "      <td>18.5</td>\n",
       "    </tr>\n",
       "    <tr>\n",
       "      <th>4</th>\n",
       "      <td>180.8</td>\n",
       "      <td>10.8</td>\n",
       "      <td>58.4</td>\n",
       "      <td>12.9</td>\n",
       "    </tr>\n",
       "    <tr>\n",
       "      <th>...</th>\n",
       "      <td>...</td>\n",
       "      <td>...</td>\n",
       "      <td>...</td>\n",
       "      <td>...</td>\n",
       "    </tr>\n",
       "    <tr>\n",
       "      <th>195</th>\n",
       "      <td>38.2</td>\n",
       "      <td>3.7</td>\n",
       "      <td>13.8</td>\n",
       "      <td>7.6</td>\n",
       "    </tr>\n",
       "    <tr>\n",
       "      <th>196</th>\n",
       "      <td>94.2</td>\n",
       "      <td>4.9</td>\n",
       "      <td>8.1</td>\n",
       "      <td>9.7</td>\n",
       "    </tr>\n",
       "    <tr>\n",
       "      <th>197</th>\n",
       "      <td>177.0</td>\n",
       "      <td>9.3</td>\n",
       "      <td>6.4</td>\n",
       "      <td>12.8</td>\n",
       "    </tr>\n",
       "    <tr>\n",
       "      <th>198</th>\n",
       "      <td>283.6</td>\n",
       "      <td>42.0</td>\n",
       "      <td>66.2</td>\n",
       "      <td>25.5</td>\n",
       "    </tr>\n",
       "    <tr>\n",
       "      <th>199</th>\n",
       "      <td>232.1</td>\n",
       "      <td>8.6</td>\n",
       "      <td>8.7</td>\n",
       "      <td>13.4</td>\n",
       "    </tr>\n",
       "  </tbody>\n",
       "</table>\n",
       "<p>198 rows × 4 columns</p>\n",
       "</div>"
      ],
      "text/plain": [
       "        TV  radio  newspaper  sales\n",
       "0    230.1   37.8       69.2   22.1\n",
       "1     44.5   39.3       45.1   10.4\n",
       "2     17.2   45.9       69.3    9.3\n",
       "3    151.5   41.3       58.5   18.5\n",
       "4    180.8   10.8       58.4   12.9\n",
       "..     ...    ...        ...    ...\n",
       "195   38.2    3.7       13.8    7.6\n",
       "196   94.2    4.9        8.1    9.7\n",
       "197  177.0    9.3        6.4   12.8\n",
       "198  283.6   42.0       66.2   25.5\n",
       "199  232.1    8.6        8.7   13.4\n",
       "\n",
       "[198 rows x 4 columns]"
      ]
     },
     "execution_count": 53,
     "metadata": {},
     "output_type": "execute_result"
    }
   ],
   "source": [
    "df_new=df[(z<3).all(axis=1)]\n",
    "df_new"
   ]
  },
  {
   "cell_type": "code",
   "execution_count": 54,
   "id": "36d8db04",
   "metadata": {},
   "outputs": [
    {
     "data": {
      "text/plain": [
       "(200, 4)"
      ]
     },
     "execution_count": 54,
     "metadata": {},
     "output_type": "execute_result"
    }
   ],
   "source": [
    "df.shape"
   ]
  },
  {
   "cell_type": "code",
   "execution_count": 55,
   "id": "e0f12921",
   "metadata": {},
   "outputs": [
    {
     "data": {
      "text/plain": [
       "(198, 4)"
      ]
     },
     "execution_count": 55,
     "metadata": {},
     "output_type": "execute_result"
    }
   ],
   "source": [
    "df_new.shape"
   ]
  },
  {
   "cell_type": "code",
   "execution_count": 56,
   "id": "ca15ddda",
   "metadata": {},
   "outputs": [
    {
     "data": {
      "text/plain": [
       "1.0"
      ]
     },
     "execution_count": 56,
     "metadata": {},
     "output_type": "execute_result"
    }
   ],
   "source": [
    "Data_loss=((200-198)/200*100)\n",
    "Data_loss"
   ]
  },
  {
   "cell_type": "markdown",
   "id": "ae543398",
   "metadata": {},
   "source": [
    "Outliers is Removed."
   ]
  },
  {
   "cell_type": "markdown",
   "id": "b08e6133",
   "metadata": {},
   "source": [
    "# Separting the Columns into Feature & Target"
   ]
  },
  {
   "cell_type": "code",
   "execution_count": 57,
   "id": "85319e0e",
   "metadata": {},
   "outputs": [],
   "source": [
    "x=df.drop('sales',axis=1)\n",
    "y=df['sales']"
   ]
  },
  {
   "cell_type": "code",
   "execution_count": 58,
   "id": "475f5ac4",
   "metadata": {},
   "outputs": [],
   "source": [
    "from sklearn.preprocessing import MinMaxScaler\n",
    "mms=MinMaxScaler()\n",
    "from sklearn.linear_model import LinearRegression\n",
    "lr=LinearRegression()\n",
    "from sklearn.metrics import r2_score\n",
    "from sklearn.model_selection import train_test_split"
   ]
  },
  {
   "cell_type": "code",
   "execution_count": 59,
   "id": "33a4635e",
   "metadata": {},
   "outputs": [
    {
     "name": "stdout",
     "output_type": "stream",
     "text": [
      "At random state 0,the training accuracy is:0.9067114990146383\n",
      "At random state 0,the testing accuracy is:0.8601145185017868\n",
      "\n",
      "\n",
      "At random state 1,the training accuracy is:0.8959372632325174\n",
      "At random state 1,the testing accuracy is:0.8927605914615385\n",
      "\n",
      "\n",
      "At random state 2,the training accuracy is:0.9151707412454462\n",
      "At random state 2,the testing accuracy is:0.7575894500772719\n",
      "\n",
      "\n",
      "At random state 3,the training accuracy is:0.8930288385772915\n",
      "At random state 3,the testing accuracy is:0.9138375011080567\n",
      "\n",
      "\n",
      "At random state 4,the training accuracy is:0.8911672911176578\n",
      "At random state 4,the testing accuracy is:0.9085774752313167\n",
      "\n",
      "\n",
      "At random state 5,the training accuracy is:0.8956962280033929\n",
      "At random state 5,the testing accuracy is:0.8984204533332627\n",
      "\n",
      "\n",
      "At random state 6,the training accuracy is:0.8915418760966582\n",
      "At random state 6,the testing accuracy is:0.922433347392203\n",
      "\n",
      "\n",
      "At random state 7,the training accuracy is:0.8929164670647455\n",
      "At random state 7,the testing accuracy is:0.9095550600904052\n",
      "\n",
      "\n",
      "At random state 8,the training accuracy is:0.9088025724048052\n",
      "At random state 8,the testing accuracy is:0.8460595754263389\n",
      "\n",
      "\n",
      "At random state 9,the training accuracy is:0.8897851719766416\n",
      "At random state 9,the testing accuracy is:0.9256258465335008\n",
      "\n",
      "\n",
      "At random state 10,the training accuracy is:0.9209087553499528\n",
      "At random state 10,the testing accuracy is:0.8353672324670592\n",
      "\n",
      "\n",
      "At random state 11,the training accuracy is:0.9111583949248847\n",
      "At random state 11,the testing accuracy is:0.8449174816183896\n",
      "\n",
      "\n",
      "At random state 12,the training accuracy is:0.891451009902517\n",
      "At random state 12,the testing accuracy is:0.9125583321991082\n",
      "\n",
      "\n",
      "At random state 13,the training accuracy is:0.8869244310370576\n",
      "At random state 13,the testing accuracy is:0.9308589334107374\n",
      "\n",
      "\n",
      "At random state 14,the training accuracy is:0.908635420499295\n",
      "At random state 14,the testing accuracy is:0.8549663199763199\n",
      "\n",
      "\n",
      "At random state 15,the training accuracy is:0.8935846767022744\n",
      "At random state 15,the testing accuracy is:0.9064939179490465\n",
      "\n",
      "\n",
      "At random state 16,the training accuracy is:0.892634156753275\n",
      "At random state 16,the testing accuracy is:0.91864253803112\n",
      "\n",
      "\n",
      "At random state 17,the training accuracy is:0.911643850109681\n",
      "At random state 17,the testing accuracy is:0.8266375240641093\n",
      "\n",
      "\n",
      "At random state 18,the training accuracy is:0.9058350355666276\n",
      "At random state 18,the testing accuracy is:0.8691428348137913\n",
      "\n",
      "\n",
      "At random state 19,the training accuracy is:0.8936653113157833\n",
      "At random state 19,the testing accuracy is:0.903410880167606\n",
      "\n",
      "\n",
      "At random state 20,the training accuracy is:0.8939415029759354\n",
      "At random state 20,the testing accuracy is:0.9032049399335232\n",
      "\n",
      "\n",
      "At random state 21,the training accuracy is:0.8876272528162706\n",
      "At random state 21,the testing accuracy is:0.9220737408493859\n",
      "\n",
      "\n",
      "At random state 22,the training accuracy is:0.8899965075887379\n",
      "At random state 22,the testing accuracy is:0.9182667532378175\n",
      "\n",
      "\n",
      "At random state 23,the training accuracy is:0.8921659364123988\n",
      "At random state 23,the testing accuracy is:0.910204221189731\n",
      "\n",
      "\n",
      "At random state 24,the training accuracy is:0.8946529864968562\n",
      "At random state 24,the testing accuracy is:0.9043170168345028\n",
      "\n",
      "\n",
      "At random state 25,the training accuracy is:0.9007883778149751\n",
      "At random state 25,the testing accuracy is:0.8738569641880867\n",
      "\n",
      "\n",
      "At random state 26,the training accuracy is:0.8998325917728893\n",
      "At random state 26,the testing accuracy is:0.8756915597547018\n",
      "\n",
      "\n",
      "At random state 27,the training accuracy is:0.8947281937728895\n",
      "At random state 27,the testing accuracy is:0.9064360707520687\n",
      "\n",
      "\n",
      "At random state 28,the training accuracy is:0.899682102176431\n",
      "At random state 28,the testing accuracy is:0.884139581646469\n",
      "\n",
      "\n",
      "At random state 29,the training accuracy is:0.8896422572594604\n",
      "At random state 29,the testing accuracy is:0.9124795091328944\n",
      "\n",
      "\n",
      "At random state 30,the training accuracy is:0.8933633451302291\n",
      "At random state 30,the testing accuracy is:0.9080112550671722\n",
      "\n",
      "\n",
      "At random state 31,the training accuracy is:0.8859036462267695\n",
      "At random state 31,the testing accuracy is:0.9284346926567392\n",
      "\n",
      "\n",
      "At random state 32,the training accuracy is:0.9172972779129942\n",
      "At random state 32,the testing accuracy is:0.7768844650932812\n",
      "\n",
      "\n",
      "At random state 33,the training accuracy is:0.8962848476126538\n",
      "At random state 33,the testing accuracy is:0.8937288845297464\n",
      "\n",
      "\n",
      "At random state 34,the training accuracy is:0.8970495535067476\n",
      "At random state 34,the testing accuracy is:0.8925087896627704\n",
      "\n",
      "\n",
      "At random state 35,the training accuracy is:0.9149802728230204\n",
      "At random state 35,the testing accuracy is:0.7864906125568901\n",
      "\n",
      "\n",
      "At random state 36,the training accuracy is:0.8887387365244299\n",
      "At random state 36,the testing accuracy is:0.926530749168601\n",
      "\n",
      "\n",
      "At random state 37,the training accuracy is:0.8997277119781726\n",
      "At random state 37,the testing accuracy is:0.8837033479022514\n",
      "\n",
      "\n",
      "At random state 38,the training accuracy is:0.8972213778715169\n",
      "At random state 38,the testing accuracy is:0.8927131887797297\n",
      "\n",
      "\n",
      "At random state 39,the training accuracy is:0.8989586369412048\n",
      "At random state 39,the testing accuracy is:0.8789549979127556\n",
      "\n",
      "\n",
      "At random state 40,the training accuracy is:0.9200686687210912\n",
      "At random state 40,the testing accuracy is:0.7982652261831078\n",
      "\n",
      "\n",
      "At random state 41,the training accuracy is:0.9006901704189824\n",
      "At random state 41,the testing accuracy is:0.8819813651740449\n",
      "\n",
      "\n",
      "At random state 42,the training accuracy is:0.8957008271017817\n",
      "At random state 42,the testing accuracy is:0.899438024100912\n",
      "\n",
      "\n",
      "At random state 43,the training accuracy is:0.888477223981934\n",
      "At random state 43,the testing accuracy is:0.9286102071081018\n",
      "\n",
      "\n",
      "At random state 44,the training accuracy is:0.9065895163213828\n",
      "At random state 44,the testing accuracy is:0.8310290458396923\n",
      "\n",
      "\n",
      "At random state 45,the training accuracy is:0.895947647524022\n",
      "At random state 45,the testing accuracy is:0.8955882331233611\n",
      "\n",
      "\n",
      "At random state 46,the training accuracy is:0.9035142166671978\n",
      "At random state 46,the testing accuracy is:0.8508891379360346\n",
      "\n",
      "\n",
      "At random state 47,the training accuracy is:0.8986105026216175\n",
      "At random state 47,the testing accuracy is:0.8861176124930538\n",
      "\n",
      "\n",
      "At random state 48,the training accuracy is:0.8905303930227864\n",
      "At random state 48,the testing accuracy is:0.9192264895105909\n",
      "\n",
      "\n",
      "At random state 49,the training accuracy is:0.9138424680320801\n",
      "At random state 49,the testing accuracy is:0.8236013350803587\n",
      "\n",
      "\n",
      "At random state 50,the training accuracy is:0.9013713199191987\n",
      "At random state 50,the testing accuracy is:0.847551325142633\n",
      "\n",
      "\n",
      "At random state 51,the training accuracy is:0.8935562677321687\n",
      "At random state 51,the testing accuracy is:0.9079126096145103\n",
      "\n",
      "\n",
      "At random state 52,the training accuracy is:0.9018280272898133\n",
      "At random state 52,the testing accuracy is:0.8811159773607995\n",
      "\n",
      "\n",
      "At random state 53,the training accuracy is:0.8887382038237429\n",
      "At random state 53,the testing accuracy is:0.9255679198924357\n",
      "\n",
      "\n",
      "At random state 54,the training accuracy is:0.8919832932654931\n",
      "At random state 54,the testing accuracy is:0.9175053931302267\n",
      "\n",
      "\n",
      "At random state 55,the training accuracy is:0.8946672493883487\n",
      "At random state 55,the testing accuracy is:0.9017603460127576\n",
      "\n",
      "\n",
      "At random state 56,the training accuracy is:0.8989109930720287\n",
      "At random state 56,the testing accuracy is:0.8881081877827508\n",
      "\n",
      "\n",
      "At random state 57,the training accuracy is:0.8825580314985149\n",
      "At random state 57,the testing accuracy is:0.9407051178510067\n",
      "\n",
      "\n",
      "At random state 58,the training accuracy is:0.912712289434702\n",
      "At random state 58,the testing accuracy is:0.8406715244241625\n",
      "\n",
      "\n",
      "At random state 59,the training accuracy is:0.8893082812955636\n",
      "At random state 59,the testing accuracy is:0.9251177591187607\n",
      "\n",
      "\n",
      "At random state 60,the training accuracy is:0.8924386252509565\n",
      "At random state 60,the testing accuracy is:0.9099045150327532\n",
      "\n",
      "\n",
      "At random state 61,the training accuracy is:0.8993442759744174\n",
      "At random state 61,the testing accuracy is:0.880129502853163\n",
      "\n",
      "\n",
      "At random state 62,the training accuracy is:0.9119756650926772\n",
      "At random state 62,the testing accuracy is:0.8417719904234857\n",
      "\n",
      "\n",
      "At random state 63,the training accuracy is:0.8947112911514465\n",
      "At random state 63,the testing accuracy is:0.9039175428258767\n",
      "\n",
      "\n",
      "At random state 64,the training accuracy is:0.8977794992748884\n",
      "At random state 64,the testing accuracy is:0.8818211467861733\n",
      "\n",
      "\n",
      "At random state 65,the training accuracy is:0.8969574133232423\n",
      "At random state 65,the testing accuracy is:0.8941749859375303\n",
      "\n",
      "\n",
      "At random state 66,the training accuracy is:0.8985647494060172\n",
      "At random state 66,the testing accuracy is:0.8898022957140044\n",
      "\n",
      "\n",
      "At random state 67,the training accuracy is:0.899436698387886\n",
      "At random state 67,the testing accuracy is:0.8820468786272049\n",
      "\n",
      "\n",
      "At random state 68,the training accuracy is:0.9001781108442838\n",
      "At random state 68,the testing accuracy is:0.869032140309382\n",
      "\n",
      "\n",
      "At random state 69,the training accuracy is:0.8870175330531669\n",
      "At random state 69,the testing accuracy is:0.923927034148313\n",
      "\n",
      "\n",
      "At random state 70,the training accuracy is:0.886231243596853\n",
      "At random state 70,the testing accuracy is:0.9260798727325859\n",
      "\n",
      "\n",
      "At random state 71,the training accuracy is:0.9163886175032459\n",
      "At random state 71,the testing accuracy is:0.8246989403826485\n",
      "\n",
      "\n",
      "At random state 72,the training accuracy is:0.8937422087162026\n",
      "At random state 72,the testing accuracy is:0.9072541868212965\n",
      "\n",
      "\n",
      "At random state 73,the training accuracy is:0.9077573496620701\n",
      "At random state 73,the testing accuracy is:0.8412998907053818\n",
      "\n",
      "\n",
      "At random state 74,the training accuracy is:0.8979415340515895\n",
      "At random state 74,the testing accuracy is:0.8806020302645325\n",
      "\n",
      "\n",
      "At random state 75,the training accuracy is:0.8943141208860873\n",
      "At random state 75,the testing accuracy is:0.9077086876495712\n",
      "\n",
      "\n",
      "At random state 76,the training accuracy is:0.9092025789360757\n",
      "At random state 76,the testing accuracy is:0.7535174994730748\n",
      "\n",
      "\n",
      "At random state 77,the training accuracy is:0.8859758983122313\n",
      "At random state 77,the testing accuracy is:0.937880163249318\n",
      "\n",
      "\n",
      "At random state 78,the training accuracy is:0.8957285947454089\n",
      "At random state 78,the testing accuracy is:0.9026908232907813\n",
      "\n",
      "\n",
      "At random state 79,the training accuracy is:0.8917194183285055\n",
      "At random state 79,the testing accuracy is:0.9047106228248688\n",
      "\n",
      "\n",
      "At random state 80,the training accuracy is:0.9161683973913906\n",
      "At random state 80,the testing accuracy is:0.8070473986760942\n",
      "\n",
      "\n",
      "At random state 81,the training accuracy is:0.9033802332142854\n",
      "At random state 81,the testing accuracy is:0.862042389496714\n",
      "\n",
      "\n",
      "At random state 82,the training accuracy is:0.9154244887223795\n",
      "At random state 82,the testing accuracy is:0.801472714093516\n",
      "\n",
      "\n",
      "At random state 83,the training accuracy is:0.8840310976077721\n",
      "At random state 83,the testing accuracy is:0.9373350368424965\n",
      "\n",
      "\n",
      "At random state 84,the training accuracy is:0.8951392078054552\n",
      "At random state 84,the testing accuracy is:0.900759781461481\n",
      "\n",
      "\n",
      "At random state 85,the training accuracy is:0.9086027174680293\n",
      "At random state 85,the testing accuracy is:0.8439638394828848\n",
      "\n",
      "\n",
      "At random state 86,the training accuracy is:0.8941525565676501\n",
      "At random state 86,the testing accuracy is:0.9100622221201642\n",
      "\n",
      "\n",
      "At random state 87,the training accuracy is:0.9118983221676124\n",
      "At random state 87,the testing accuracy is:0.7626125810244506\n",
      "\n",
      "\n",
      "At random state 88,the training accuracy is:0.9095202869396248\n",
      "At random state 88,the testing accuracy is:0.8402068643199275\n",
      "\n",
      "\n",
      "At random state 89,the training accuracy is:0.900006853668257\n",
      "At random state 89,the testing accuracy is:0.8763063367531692\n",
      "\n",
      "\n",
      "At random state 90,the training accuracy is:0.9031056838494878\n",
      "At random state 90,the testing accuracy is:0.8515399308497917\n",
      "\n",
      "\n",
      "At random state 91,the training accuracy is:0.8873766899072165\n",
      "At random state 91,the testing accuracy is:0.9042137225502286\n",
      "\n",
      "\n",
      "At random state 92,the training accuracy is:0.8791722270470884\n",
      "At random state 92,the testing accuracy is:0.951970719510946\n",
      "\n",
      "\n",
      "At random state 93,the training accuracy is:0.8929605913041914\n",
      "At random state 93,the testing accuracy is:0.9117655020936757\n",
      "\n",
      "\n",
      "At random state 94,the training accuracy is:0.9084398174091196\n",
      "At random state 94,the testing accuracy is:0.8559316851679385\n",
      "\n",
      "\n",
      "At random state 95,the training accuracy is:0.8935659928494455\n",
      "At random state 95,the testing accuracy is:0.8951810793790586\n",
      "\n",
      "\n",
      "At random state 96,the training accuracy is:0.9035998291188063\n",
      "At random state 96,the testing accuracy is:0.8595641556662492\n",
      "\n",
      "\n",
      "At random state 97,the training accuracy is:0.8900751965631104\n",
      "At random state 97,the testing accuracy is:0.9118128867084085\n",
      "\n",
      "\n",
      "At random state 98,the training accuracy is:0.8819661469883454\n",
      "At random state 98,the testing accuracy is:0.9400331814664702\n",
      "\n",
      "\n",
      "At random state 99,the training accuracy is:0.8906288862925659\n",
      "At random state 99,the testing accuracy is:0.9200846680148507\n",
      "\n",
      "\n",
      "At random state 100,the training accuracy is:0.89152823018429\n",
      "At random state 100,the testing accuracy is:0.9184369032278497\n",
      "\n",
      "\n",
      "At random state 101,the training accuracy is:0.8876537266968315\n",
      "At random state 101,the testing accuracy is:0.9303140201228004\n",
      "\n",
      "\n",
      "At random state 102,the training accuracy is:0.8924059645690493\n",
      "At random state 102,the testing accuracy is:0.9118091151902648\n",
      "\n",
      "\n",
      "At random state 103,the training accuracy is:0.8877626105587927\n",
      "At random state 103,the testing accuracy is:0.9321966691234799\n",
      "\n",
      "\n",
      "At random state 104,the training accuracy is:0.9169350610804488\n",
      "At random state 104,the testing accuracy is:0.8193117218057969\n",
      "\n",
      "\n",
      "At random state 105,the training accuracy is:0.8892610777404015\n",
      "At random state 105,the testing accuracy is:0.9229748617540802\n",
      "\n",
      "\n",
      "At random state 106,the training accuracy is:0.8959940196204268\n",
      "At random state 106,the testing accuracy is:0.8967272067274248\n",
      "\n",
      "\n",
      "At random state 107,the training accuracy is:0.8930055445298694\n",
      "At random state 107,the testing accuracy is:0.9086830281608866\n",
      "\n",
      "\n",
      "At random state 108,the training accuracy is:0.8975498796801888\n",
      "At random state 108,the testing accuracy is:0.8902040136786372\n",
      "\n",
      "\n",
      "At random state 109,the training accuracy is:0.9099974170511244\n",
      "At random state 109,the testing accuracy is:0.863016452682309\n",
      "\n",
      "\n",
      "At random state 110,the training accuracy is:0.8823337069164685\n",
      "At random state 110,the testing accuracy is:0.9389613099612774\n",
      "\n",
      "\n",
      "At random state 111,the training accuracy is:0.9101783253828079\n",
      "At random state 111,the testing accuracy is:0.8649513118185784\n",
      "\n",
      "\n",
      "At random state 112,the training accuracy is:0.8953951101327008\n",
      "At random state 112,the testing accuracy is:0.9039260493025792\n",
      "\n",
      "\n",
      "At random state 113,the training accuracy is:0.8906812016441294\n",
      "At random state 113,the testing accuracy is:0.9219563242060654\n",
      "\n",
      "\n",
      "At random state 114,the training accuracy is:0.8838324878672561\n",
      "At random state 114,the testing accuracy is:0.9340307514641453\n",
      "\n",
      "\n",
      "At random state 115,the training accuracy is:0.8863042795139918\n",
      "At random state 115,the testing accuracy is:0.9219033219215825\n",
      "\n",
      "\n",
      "At random state 116,the training accuracy is:0.9018796065617617\n",
      "At random state 116,the testing accuracy is:0.8760080666757755\n",
      "\n",
      "\n",
      "At random state 117,the training accuracy is:0.8851859469883938\n",
      "At random state 117,the testing accuracy is:0.930008515466872\n",
      "\n",
      "\n",
      "At random state 118,the training accuracy is:0.8943529360882331\n",
      "At random state 118,the testing accuracy is:0.908234695055157\n",
      "\n",
      "\n",
      "At random state 119,the training accuracy is:0.9167765256532698\n",
      "At random state 119,the testing accuracy is:0.7972862937332831\n",
      "\n",
      "\n",
      "At random state 120,the training accuracy is:0.9093488554961664\n",
      "At random state 120,the testing accuracy is:0.838191560235168\n",
      "\n",
      "\n",
      "At random state 121,the training accuracy is:0.8936549683933448\n",
      "At random state 121,the testing accuracy is:0.9042908037176761\n",
      "\n",
      "\n",
      "At random state 122,the training accuracy is:0.9183677917725344\n",
      "At random state 122,the testing accuracy is:0.7926115902582067\n",
      "\n",
      "\n",
      "At random state 123,the training accuracy is:0.8873997664797107\n",
      "At random state 123,the testing accuracy is:0.9288609285248163\n",
      "\n",
      "\n",
      "At random state 124,the training accuracy is:0.8974881814463914\n",
      "At random state 124,the testing accuracy is:0.8849545783615168\n",
      "\n",
      "\n",
      "At random state 125,the training accuracy is:0.8928909173172178\n",
      "At random state 125,the testing accuracy is:0.8982332957071\n",
      "\n",
      "\n",
      "At random state 126,the training accuracy is:0.8969794434942759\n",
      "At random state 126,the testing accuracy is:0.8849763067287131\n",
      "\n",
      "\n",
      "At random state 127,the training accuracy is:0.9092329749899393\n",
      "At random state 127,the testing accuracy is:0.839288419030122\n",
      "\n",
      "\n",
      "At random state 128,the training accuracy is:0.8959010769627497\n",
      "At random state 128,the testing accuracy is:0.8913726507323876\n",
      "\n",
      "\n",
      "At random state 129,the training accuracy is:0.8873040935885581\n",
      "At random state 129,the testing accuracy is:0.9321879291020668\n",
      "\n",
      "\n",
      "At random state 130,the training accuracy is:0.8980109729544313\n",
      "At random state 130,the testing accuracy is:0.8927479417219132\n",
      "\n",
      "\n",
      "At random state 131,the training accuracy is:0.8940081388075611\n",
      "At random state 131,the testing accuracy is:0.9071941959875501\n",
      "\n",
      "\n",
      "At random state 132,the training accuracy is:0.8992279356109635\n",
      "At random state 132,the testing accuracy is:0.8804951255556375\n",
      "\n",
      "\n",
      "At random state 133,the training accuracy is:0.9114954285828043\n",
      "At random state 133,the testing accuracy is:0.8119877978021048\n",
      "\n",
      "\n",
      "At random state 134,the training accuracy is:0.8908013972213731\n",
      "At random state 134,the testing accuracy is:0.9178912031667374\n",
      "\n",
      "\n",
      "At random state 135,the training accuracy is:0.9067342581070497\n",
      "At random state 135,the testing accuracy is:0.8602495207359891\n",
      "\n",
      "\n",
      "At random state 136,the training accuracy is:0.9094691028538184\n",
      "At random state 136,the testing accuracy is:0.8486900895061384\n",
      "\n",
      "\n",
      "At random state 137,the training accuracy is:0.8856362469344792\n",
      "At random state 137,the testing accuracy is:0.9320522395554163\n",
      "\n",
      "\n",
      "At random state 138,the training accuracy is:0.88766817850102\n",
      "At random state 138,the testing accuracy is:0.9186229739531323\n",
      "\n",
      "\n",
      "At random state 139,the training accuracy is:0.8770609283876105\n",
      "At random state 139,the testing accuracy is:0.935884559010129\n",
      "\n",
      "\n",
      "At random state 140,the training accuracy is:0.9126013938024142\n",
      "At random state 140,the testing accuracy is:0.8277786001489122\n",
      "\n",
      "\n",
      "At random state 141,the training accuracy is:0.8912068506068219\n",
      "At random state 141,the testing accuracy is:0.9127973135708977\n",
      "\n",
      "\n",
      "At random state 142,the training accuracy is:0.8951281546097594\n",
      "At random state 142,the testing accuracy is:0.8999159153070782\n",
      "\n",
      "\n",
      "At random state 143,the training accuracy is:0.910855061087838\n",
      "At random state 143,the testing accuracy is:0.8473958959448264\n",
      "\n",
      "\n",
      "At random state 144,the training accuracy is:0.8971614078663419\n",
      "At random state 144,the testing accuracy is:0.8931326517314171\n",
      "\n",
      "\n",
      "At random state 145,the training accuracy is:0.9136901250106932\n",
      "At random state 145,the testing accuracy is:0.8223091784264077\n",
      "\n",
      "\n",
      "At random state 146,the training accuracy is:0.8965240441909718\n",
      "At random state 146,the testing accuracy is:0.897196509838203\n",
      "\n",
      "\n",
      "At random state 147,the training accuracy is:0.9129950328152872\n",
      "At random state 147,the testing accuracy is:0.8357895412614708\n",
      "\n",
      "\n",
      "At random state 148,the training accuracy is:0.891405690476119\n",
      "At random state 148,the testing accuracy is:0.9136003776467767\n",
      "\n",
      "\n",
      "At random state 149,the training accuracy is:0.9036542985620677\n",
      "At random state 149,the testing accuracy is:0.8604896032539925\n",
      "\n",
      "\n",
      "At random state 150,the training accuracy is:0.8889655429018477\n",
      "At random state 150,the testing accuracy is:0.924205430466461\n",
      "\n",
      "\n",
      "At random state 151,the training accuracy is:0.8802815346642163\n",
      "At random state 151,the testing accuracy is:0.9526769603668497\n",
      "\n",
      "\n",
      "At random state 152,the training accuracy is:0.8958191776603227\n",
      "At random state 152,the testing accuracy is:0.8986238910239206\n",
      "\n",
      "\n",
      "At random state 153,the training accuracy is:0.8999247804943022\n",
      "At random state 153,the testing accuracy is:0.8829001760633601\n",
      "\n",
      "\n",
      "At random state 154,the training accuracy is:0.8853620335578589\n",
      "At random state 154,the testing accuracy is:0.9355354282267712\n",
      "\n",
      "\n",
      "At random state 155,the training accuracy is:0.9190774769533746\n",
      "At random state 155,the testing accuracy is:0.8063591427358658\n",
      "\n",
      "\n",
      "At random state 156,the training accuracy is:0.8923768884472657\n",
      "At random state 156,the testing accuracy is:0.9153968664966043\n",
      "\n",
      "\n",
      "At random state 157,the training accuracy is:0.9127150163128905\n",
      "At random state 157,the testing accuracy is:0.8161261581306969\n",
      "\n",
      "\n",
      "At random state 158,the training accuracy is:0.888227837208093\n",
      "At random state 158,the testing accuracy is:0.924362444108671\n",
      "\n",
      "\n",
      "At random state 159,the training accuracy is:0.8899930952230336\n",
      "At random state 159,the testing accuracy is:0.9131935968578506\n",
      "\n",
      "\n",
      "At random state 160,the training accuracy is:0.898420273015649\n",
      "At random state 160,the testing accuracy is:0.8805320384213267\n",
      "\n",
      "\n",
      "At random state 161,the training accuracy is:0.8905752342396447\n",
      "At random state 161,the testing accuracy is:0.9177647834708885\n",
      "\n",
      "\n",
      "At random state 162,the training accuracy is:0.902079671748827\n",
      "At random state 162,the testing accuracy is:0.8716021609291986\n",
      "\n",
      "\n",
      "At random state 163,the training accuracy is:0.8996497597154296\n",
      "At random state 163,the testing accuracy is:0.8816832112147743\n",
      "\n",
      "\n",
      "At random state 164,the training accuracy is:0.877968123579041\n",
      "At random state 164,the testing accuracy is:0.9365983980878579\n",
      "\n",
      "\n",
      "At random state 165,the training accuracy is:0.9121691940699284\n",
      "At random state 165,the testing accuracy is:0.8329778602693951\n",
      "\n",
      "\n",
      "At random state 166,the training accuracy is:0.9062638152880933\n",
      "At random state 166,the testing accuracy is:0.8585665054648732\n",
      "\n",
      "\n",
      "At random state 167,the training accuracy is:0.905479991881681\n",
      "At random state 167,the testing accuracy is:0.8598576033838528\n",
      "\n",
      "\n",
      "At random state 168,the training accuracy is:0.8929377424994172\n",
      "At random state 168,the testing accuracy is:0.9072629333169542\n",
      "\n",
      "\n",
      "At random state 169,the training accuracy is:0.8951205550822221\n",
      "At random state 169,the testing accuracy is:0.9010724684098623\n",
      "\n",
      "\n",
      "At random state 170,the training accuracy is:0.9073957230003843\n",
      "At random state 170,the testing accuracy is:0.8417190417948366\n",
      "\n",
      "\n",
      "At random state 171,the training accuracy is:0.8959278486210703\n",
      "At random state 171,the testing accuracy is:0.9015612288472048\n",
      "\n",
      "\n",
      "At random state 172,the training accuracy is:0.8990889803427939\n",
      "At random state 172,the testing accuracy is:0.88480700093946\n",
      "\n",
      "\n",
      "At random state 173,the training accuracy is:0.8911952266148641\n",
      "At random state 173,the testing accuracy is:0.9165433072369129\n",
      "\n",
      "\n",
      "At random state 174,the training accuracy is:0.891872478824022\n",
      "At random state 174,the testing accuracy is:0.907831904570727\n",
      "\n",
      "\n",
      "At random state 175,the training accuracy is:0.8916799479055695\n",
      "At random state 175,the testing accuracy is:0.916232270873818\n",
      "\n",
      "\n",
      "At random state 176,the training accuracy is:0.8990161783571669\n",
      "At random state 176,the testing accuracy is:0.8794607303939714\n",
      "\n",
      "\n",
      "At random state 177,the training accuracy is:0.8961404369216946\n",
      "At random state 177,the testing accuracy is:0.8946361675104506\n",
      "\n",
      "\n",
      "At random state 178,the training accuracy is:0.8930808759225586\n",
      "At random state 178,the testing accuracy is:0.915129212392247\n",
      "\n",
      "\n",
      "At random state 179,the training accuracy is:0.8915416228537298\n",
      "At random state 179,the testing accuracy is:0.9226748079768062\n",
      "\n",
      "\n",
      "At random state 180,the training accuracy is:0.8970788376166258\n",
      "At random state 180,the testing accuracy is:0.8941271187422832\n",
      "\n",
      "\n",
      "At random state 181,the training accuracy is:0.8946149602463613\n",
      "At random state 181,the testing accuracy is:0.9007572769649679\n",
      "\n",
      "\n",
      "At random state 182,the training accuracy is:0.8923937523678187\n",
      "At random state 182,the testing accuracy is:0.9185066597278135\n",
      "\n",
      "\n",
      "At random state 183,the training accuracy is:0.9069696655093666\n",
      "At random state 183,the testing accuracy is:0.8642373879390426\n",
      "\n",
      "\n",
      "At random state 184,the training accuracy is:0.9117797467348021\n",
      "At random state 184,the testing accuracy is:0.8475443402838825\n",
      "\n",
      "\n",
      "At random state 185,the training accuracy is:0.8963473718823352\n",
      "At random state 185,the testing accuracy is:0.8954280562485131\n",
      "\n",
      "\n",
      "At random state 186,the training accuracy is:0.9131181557528211\n",
      "At random state 186,the testing accuracy is:0.7950694031359089\n",
      "\n",
      "\n",
      "At random state 187,the training accuracy is:0.877785958352567\n",
      "At random state 187,the testing accuracy is:0.9354887728048834\n",
      "\n",
      "\n",
      "At random state 188,the training accuracy is:0.8979494198727167\n",
      "At random state 188,the testing accuracy is:0.8785688627203962\n",
      "\n",
      "\n",
      "At random state 189,the training accuracy is:0.9207201259770312\n",
      "At random state 189,the testing accuracy is:0.7963412706607678\n",
      "\n",
      "\n",
      "At random state 190,the training accuracy is:0.8958007017804992\n",
      "At random state 190,the testing accuracy is:0.8990545247385542\n",
      "\n",
      "\n",
      "At random state 191,the training accuracy is:0.8977783762260664\n",
      "At random state 191,the testing accuracy is:0.8917330319117199\n",
      "\n",
      "\n",
      "At random state 192,the training accuracy is:0.89947239982021\n",
      "At random state 192,the testing accuracy is:0.8738522775791598\n",
      "\n",
      "\n",
      "At random state 193,the training accuracy is:0.8897283553221677\n",
      "At random state 193,the testing accuracy is:0.9299125544384303\n",
      "\n",
      "\n",
      "At random state 194,the training accuracy is:0.8885837912771734\n",
      "At random state 194,the testing accuracy is:0.9207415432092005\n",
      "\n",
      "\n",
      "At random state 195,the training accuracy is:0.9100615007577526\n",
      "At random state 195,the testing accuracy is:0.8484468046009004\n",
      "\n",
      "\n",
      "At random state 196,the training accuracy is:0.8988849999309575\n",
      "At random state 196,the testing accuracy is:0.8880379666820399\n",
      "\n",
      "\n",
      "At random state 197,the training accuracy is:0.9006653202856929\n",
      "At random state 197,the testing accuracy is:0.8829768888919496\n",
      "\n",
      "\n",
      "At random state 198,the training accuracy is:0.9017870271382123\n",
      "At random state 198,the testing accuracy is:0.8660423140296721\n",
      "\n",
      "\n",
      "At random state 199,the training accuracy is:0.9052667834927683\n",
      "At random state 199,the testing accuracy is:0.8561258474266573\n",
      "\n",
      "\n",
      "At random state 200,the training accuracy is:0.9137891095058835\n",
      "At random state 200,the testing accuracy is:0.8376343484553097\n",
      "\n",
      "\n",
      "At random state 201,the training accuracy is:0.8929873270335229\n",
      "At random state 201,the testing accuracy is:0.906931991849219\n",
      "\n",
      "\n",
      "At random state 202,the training accuracy is:0.8863459830739961\n",
      "At random state 202,the testing accuracy is:0.9236558557499953\n",
      "\n",
      "\n",
      "At random state 203,the training accuracy is:0.8965362647854309\n",
      "At random state 203,the testing accuracy is:0.8972937386540724\n",
      "\n",
      "\n",
      "At random state 204,the training accuracy is:0.8961558870422326\n",
      "At random state 204,the testing accuracy is:0.8958980833581821\n",
      "\n",
      "\n",
      "At random state 205,the training accuracy is:0.8996344107312393\n",
      "At random state 205,the testing accuracy is:0.8823391449656576\n",
      "\n",
      "\n",
      "At random state 206,the training accuracy is:0.908125961780265\n",
      "At random state 206,the testing accuracy is:0.8456416025104302\n",
      "\n",
      "\n",
      "At random state 207,the training accuracy is:0.8895940319412373\n",
      "At random state 207,the testing accuracy is:0.9223581167836424\n",
      "\n",
      "\n",
      "At random state 208,the training accuracy is:0.9154138076325841\n",
      "At random state 208,the testing accuracy is:0.8433969638670902\n",
      "\n",
      "\n",
      "At random state 209,the training accuracy is:0.90974637355936\n",
      "At random state 209,the testing accuracy is:0.8396712674819115\n",
      "\n",
      "\n",
      "At random state 210,the training accuracy is:0.908187907221172\n",
      "At random state 210,the testing accuracy is:0.8457348739489532\n",
      "\n",
      "\n",
      "At random state 211,the training accuracy is:0.8918644674142467\n",
      "At random state 211,the testing accuracy is:0.9146595652758467\n",
      "\n",
      "\n",
      "At random state 212,the training accuracy is:0.8922049624243499\n",
      "At random state 212,the testing accuracy is:0.9223893117009202\n",
      "\n",
      "\n",
      "At random state 213,the training accuracy is:0.895000389884352\n",
      "At random state 213,the testing accuracy is:0.9055945375587595\n",
      "\n",
      "\n",
      "At random state 214,the training accuracy is:0.8888041958541054\n",
      "At random state 214,the testing accuracy is:0.9161246542948961\n",
      "\n",
      "\n",
      "At random state 215,the training accuracy is:0.9011592014528811\n",
      "At random state 215,the testing accuracy is:0.8678486679772848\n",
      "\n",
      "\n",
      "At random state 216,the training accuracy is:0.8988639042453471\n",
      "At random state 216,the testing accuracy is:0.8716066473253925\n",
      "\n",
      "\n",
      "At random state 217,the training accuracy is:0.8863933448115245\n",
      "At random state 217,the testing accuracy is:0.929040900286059\n",
      "\n",
      "\n",
      "At random state 218,the training accuracy is:0.8902038413732117\n",
      "At random state 218,the testing accuracy is:0.9151995971244932\n",
      "\n",
      "\n",
      "At random state 219,the training accuracy is:0.8876615457212472\n",
      "At random state 219,the testing accuracy is:0.9435310668065895\n",
      "\n",
      "\n",
      "At random state 220,the training accuracy is:0.903206040142415\n",
      "At random state 220,the testing accuracy is:0.8597492279266794\n",
      "\n",
      "\n",
      "At random state 221,the training accuracy is:0.8971399321062502\n",
      "At random state 221,the testing accuracy is:0.887358500006557\n",
      "\n",
      "\n",
      "At random state 222,the training accuracy is:0.9225218292371419\n",
      "At random state 222,the testing accuracy is:0.7941634820252783\n",
      "\n",
      "\n",
      "At random state 223,the training accuracy is:0.905902730794294\n",
      "At random state 223,the testing accuracy is:0.838205601925686\n",
      "\n",
      "\n",
      "At random state 224,the training accuracy is:0.9218888802524869\n",
      "At random state 224,the testing accuracy is:0.8055012419779444\n",
      "\n",
      "\n",
      "At random state 225,the training accuracy is:0.8892081795612695\n",
      "At random state 225,the testing accuracy is:0.9148013632328842\n",
      "\n",
      "\n",
      "At random state 226,the training accuracy is:0.9123186698916821\n",
      "At random state 226,the testing accuracy is:0.8449637162712222\n",
      "\n",
      "\n",
      "At random state 227,the training accuracy is:0.8847299790551197\n",
      "At random state 227,the testing accuracy is:0.9266724346916578\n",
      "\n",
      "\n",
      "At random state 228,the training accuracy is:0.9098512404662938\n",
      "At random state 228,the testing accuracy is:0.8499195347477773\n",
      "\n",
      "\n",
      "At random state 229,the training accuracy is:0.8867631107415421\n",
      "At random state 229,the testing accuracy is:0.9342937800227282\n",
      "\n",
      "\n",
      "At random state 230,the training accuracy is:0.9068828592103939\n",
      "At random state 230,the testing accuracy is:0.8558148549471375\n",
      "\n",
      "\n",
      "At random state 231,the training accuracy is:0.898622759782372\n",
      "At random state 231,the testing accuracy is:0.8899589779123137\n",
      "\n",
      "\n",
      "At random state 232,the training accuracy is:0.8935987673323679\n",
      "At random state 232,the testing accuracy is:0.9037879512255198\n",
      "\n",
      "\n",
      "At random state 233,the training accuracy is:0.8930315439606672\n",
      "At random state 233,the testing accuracy is:0.9133257136070652\n",
      "\n",
      "\n",
      "At random state 234,the training accuracy is:0.8808318502022701\n",
      "At random state 234,the testing accuracy is:0.9351955165640574\n",
      "\n",
      "\n",
      "At random state 235,the training accuracy is:0.9075413604797569\n",
      "At random state 235,the testing accuracy is:0.8627063831177294\n",
      "\n",
      "\n",
      "At random state 236,the training accuracy is:0.9001064482047629\n",
      "At random state 236,the testing accuracy is:0.8755729508266238\n",
      "\n",
      "\n",
      "At random state 237,the training accuracy is:0.9037216550458984\n",
      "At random state 237,the testing accuracy is:0.8607047033557199\n",
      "\n",
      "\n",
      "At random state 238,the training accuracy is:0.8952435151792032\n",
      "At random state 238,the testing accuracy is:0.9083563641010199\n",
      "\n",
      "\n",
      "At random state 239,the training accuracy is:0.893528438919309\n",
      "At random state 239,the testing accuracy is:0.9146058873714925\n",
      "\n",
      "\n",
      "At random state 240,the training accuracy is:0.9215534773009735\n",
      "At random state 240,the testing accuracy is:0.8164078220639188\n",
      "\n",
      "\n",
      "At random state 241,the training accuracy is:0.8934482684806152\n",
      "At random state 241,the testing accuracy is:0.908924064824841\n",
      "\n",
      "\n",
      "At random state 242,the training accuracy is:0.8981649725612981\n",
      "At random state 242,the testing accuracy is:0.8875227263085063\n",
      "\n",
      "\n",
      "At random state 243,the training accuracy is:0.8928204691582133\n",
      "At random state 243,the testing accuracy is:0.9097629629765609\n",
      "\n",
      "\n",
      "At random state 244,the training accuracy is:0.9019823457501479\n",
      "At random state 244,the testing accuracy is:0.8668449878394856\n",
      "\n",
      "\n",
      "At random state 245,the training accuracy is:0.9141574322421937\n",
      "At random state 245,the testing accuracy is:0.8046841311644088\n",
      "\n",
      "\n",
      "At random state 246,the training accuracy is:0.9016615634511969\n",
      "At random state 246,the testing accuracy is:0.8750298518940112\n",
      "\n",
      "\n",
      "At random state 247,the training accuracy is:0.8888874826210458\n",
      "At random state 247,the testing accuracy is:0.9246391439675539\n",
      "\n",
      "\n",
      "At random state 248,the training accuracy is:0.9099816973760391\n",
      "At random state 248,the testing accuracy is:0.8502909554530035\n",
      "\n",
      "\n",
      "At random state 249,the training accuracy is:0.8939196661179579\n",
      "At random state 249,the testing accuracy is:0.9093295330514009\n",
      "\n",
      "\n",
      "At random state 250,the training accuracy is:0.9054079876643061\n",
      "At random state 250,the testing accuracy is:0.8528030422919608\n",
      "\n",
      "\n",
      "At random state 251,the training accuracy is:0.9102495300772067\n",
      "At random state 251,the testing accuracy is:0.8294784898476154\n",
      "\n",
      "\n",
      "At random state 252,the training accuracy is:0.9010781408257241\n",
      "At random state 252,the testing accuracy is:0.8617233467795602\n",
      "\n",
      "\n",
      "At random state 253,the training accuracy is:0.894590898395744\n",
      "At random state 253,the testing accuracy is:0.9010739327877397\n",
      "\n",
      "\n",
      "At random state 254,the training accuracy is:0.8936484176991673\n",
      "At random state 254,the testing accuracy is:0.8921249255526972\n",
      "\n",
      "\n",
      "At random state 255,the training accuracy is:0.8974992779521431\n",
      "At random state 255,the testing accuracy is:0.892030255609692\n",
      "\n",
      "\n",
      "At random state 256,the training accuracy is:0.903700591547123\n",
      "At random state 256,the testing accuracy is:0.8459962721016926\n",
      "\n",
      "\n",
      "At random state 257,the training accuracy is:0.8951129200625934\n",
      "At random state 257,the testing accuracy is:0.904660004781107\n",
      "\n",
      "\n",
      "At random state 258,the training accuracy is:0.8893085811421357\n",
      "At random state 258,the testing accuracy is:0.9198686603072121\n",
      "\n",
      "\n",
      "At random state 259,the training accuracy is:0.8938126670493322\n",
      "At random state 259,the testing accuracy is:0.9053079565182529\n",
      "\n",
      "\n",
      "At random state 260,the training accuracy is:0.8961127207747366\n",
      "At random state 260,the testing accuracy is:0.8966371735219422\n",
      "\n",
      "\n",
      "At random state 261,the training accuracy is:0.8974850648061871\n",
      "At random state 261,the testing accuracy is:0.8943287506632993\n",
      "\n",
      "\n",
      "At random state 262,the training accuracy is:0.892082081784535\n",
      "At random state 262,the testing accuracy is:0.9111144593796184\n",
      "\n",
      "\n",
      "At random state 263,the training accuracy is:0.8882038186264876\n",
      "At random state 263,the testing accuracy is:0.926860910181615\n",
      "\n",
      "\n",
      "At random state 264,the training accuracy is:0.8993356678024031\n",
      "At random state 264,the testing accuracy is:0.87133616858345\n",
      "\n",
      "\n",
      "At random state 265,the training accuracy is:0.9006577230972959\n",
      "At random state 265,the testing accuracy is:0.8734418419158894\n",
      "\n",
      "\n",
      "At random state 266,the training accuracy is:0.9097473703891836\n",
      "At random state 266,the testing accuracy is:0.8442679797970164\n",
      "\n",
      "\n",
      "At random state 267,the training accuracy is:0.8956405048712359\n",
      "At random state 267,the testing accuracy is:0.9010291764902495\n",
      "\n",
      "\n",
      "At random state 268,the training accuracy is:0.8966228746230269\n",
      "At random state 268,the testing accuracy is:0.8972904162875767\n",
      "\n",
      "\n",
      "At random state 269,the training accuracy is:0.8993125233129635\n",
      "At random state 269,the testing accuracy is:0.8853316674125796\n",
      "\n",
      "\n",
      "At random state 270,the training accuracy is:0.89429874434067\n",
      "At random state 270,the testing accuracy is:0.9043009724910307\n",
      "\n",
      "\n",
      "At random state 271,the training accuracy is:0.9092696706227914\n",
      "At random state 271,the testing accuracy is:0.8477762619291406\n",
      "\n",
      "\n",
      "At random state 272,the training accuracy is:0.9076336165477635\n",
      "At random state 272,the testing accuracy is:0.8438763783038179\n",
      "\n",
      "\n",
      "At random state 273,the training accuracy is:0.8988119476547402\n",
      "At random state 273,the testing accuracy is:0.8890904631208898\n",
      "\n",
      "\n",
      "At random state 274,the training accuracy is:0.8945557563119221\n",
      "At random state 274,the testing accuracy is:0.9018267581586703\n",
      "\n",
      "\n",
      "At random state 275,the training accuracy is:0.892533825148539\n",
      "At random state 275,the testing accuracy is:0.9100363627324921\n",
      "\n",
      "\n",
      "At random state 276,the training accuracy is:0.8885901747100613\n",
      "At random state 276,the testing accuracy is:0.932207647435388\n",
      "\n",
      "\n",
      "At random state 277,the training accuracy is:0.891412540431541\n",
      "At random state 277,the testing accuracy is:0.9162519503367046\n",
      "\n",
      "\n",
      "At random state 278,the training accuracy is:0.89467790626467\n",
      "At random state 278,the testing accuracy is:0.9064973554478125\n",
      "\n",
      "\n",
      "At random state 279,the training accuracy is:0.8941662192776986\n",
      "At random state 279,the testing accuracy is:0.910500880573094\n",
      "\n",
      "\n",
      "At random state 280,the training accuracy is:0.8968925852816432\n",
      "At random state 280,the testing accuracy is:0.8851476251567315\n",
      "\n",
      "\n",
      "At random state 281,the training accuracy is:0.8947269731708474\n",
      "At random state 281,the testing accuracy is:0.9090783545037052\n",
      "\n",
      "\n",
      "At random state 282,the training accuracy is:0.8989086941683693\n",
      "At random state 282,the testing accuracy is:0.8816892008204794\n",
      "\n",
      "\n",
      "At random state 283,the training accuracy is:0.9020798651978255\n",
      "At random state 283,the testing accuracy is:0.8564298183792738\n",
      "\n",
      "\n",
      "At random state 284,the training accuracy is:0.887148738468551\n",
      "At random state 284,the testing accuracy is:0.9268356185951121\n",
      "\n",
      "\n",
      "At random state 285,the training accuracy is:0.8893359679143955\n",
      "At random state 285,the testing accuracy is:0.9287308729103865\n",
      "\n",
      "\n",
      "At random state 286,the training accuracy is:0.8899185454021293\n",
      "At random state 286,the testing accuracy is:0.9237563555207053\n",
      "\n",
      "\n",
      "At random state 287,the training accuracy is:0.8891598331764275\n",
      "At random state 287,the testing accuracy is:0.9233774228752115\n",
      "\n",
      "\n",
      "At random state 288,the training accuracy is:0.9071327039643035\n",
      "At random state 288,the testing accuracy is:0.8622942519566107\n",
      "\n",
      "\n",
      "At random state 289,the training accuracy is:0.8877689068018293\n",
      "At random state 289,the testing accuracy is:0.9310172635366706\n",
      "\n",
      "\n",
      "At random state 290,the training accuracy is:0.8884782699726881\n",
      "At random state 290,the testing accuracy is:0.9230036516790824\n",
      "\n",
      "\n",
      "At random state 291,the training accuracy is:0.9031262637440158\n",
      "At random state 291,the testing accuracy is:0.8383713179807095\n",
      "\n",
      "\n",
      "At random state 292,the training accuracy is:0.9255722963844869\n",
      "At random state 292,the testing accuracy is:0.7813421303469594\n",
      "\n",
      "\n",
      "At random state 293,the training accuracy is:0.8943469424455233\n",
      "At random state 293,the testing accuracy is:0.9019349617744646\n",
      "\n",
      "\n",
      "At random state 294,the training accuracy is:0.8942359344590727\n",
      "At random state 294,the testing accuracy is:0.9084813689296816\n",
      "\n",
      "\n",
      "At random state 295,the training accuracy is:0.9040916532875152\n",
      "At random state 295,the testing accuracy is:0.8418108564892111\n",
      "\n",
      "\n",
      "At random state 296,the training accuracy is:0.9016218060054667\n",
      "At random state 296,the testing accuracy is:0.870124877129014\n",
      "\n",
      "\n",
      "At random state 297,the training accuracy is:0.9062315474242434\n",
      "At random state 297,the testing accuracy is:0.8560959339196579\n",
      "\n",
      "\n",
      "At random state 298,the training accuracy is:0.9191811765065476\n",
      "At random state 298,the testing accuracy is:0.8027734965499813\n",
      "\n",
      "\n",
      "At random state 299,the training accuracy is:0.8950195582922474\n",
      "At random state 299,the testing accuracy is:0.8894266088665254\n",
      "\n",
      "\n"
     ]
    }
   ],
   "source": [
    "for i in range(0,300):\n",
    "    x_train,x_test,y_train,y_test=train_test_split(x,y,test_size=0.2,random_state=i)\n",
    "    lr.fit(x_train,y_train)\n",
    "    pred_train=lr.predict(x_train)\n",
    "    pred_test=lr.predict(x_test)\n",
    "    print(f'At random state {i},the training accuracy is:{r2_score(y_train,pred_train)}')\n",
    "    print(f'At random state {i},the testing accuracy is:{r2_score(y_test,pred_test)}')\n",
    "    print('\\n')"
   ]
  },
  {
   "cell_type": "code",
   "execution_count": 60,
   "id": "f8483b9a",
   "metadata": {},
   "outputs": [
    {
     "data": {
      "text/plain": [
       "LinearRegression()"
      ]
     },
     "execution_count": 60,
     "metadata": {},
     "output_type": "execute_result"
    }
   ],
   "source": [
    "x_train,x_test,y_train,y_test=train_test_split(x,y,test_size=0.2,random_state=1)\n",
    "lr.fit(x_train,y_train)"
   ]
  },
  {
   "cell_type": "code",
   "execution_count": 61,
   "id": "6b58f345",
   "metadata": {},
   "outputs": [
    {
     "name": "stdout",
     "output_type": "stream",
     "text": [
      "89.27605914615386\n"
     ]
    }
   ],
   "source": [
    "predict_test=lr.predict(x_test)\n",
    "print(r2_score(y_test,predict_test)*100)"
   ]
  },
  {
   "cell_type": "code",
   "execution_count": 62,
   "id": "69dbd1e5",
   "metadata": {},
   "outputs": [
    {
     "name": "stdout",
     "output_type": "stream",
     "text": [
      "89.59372632325174\n"
     ]
    }
   ],
   "source": [
    "predict_train=lr.predict(x_train)\n",
    "print(r2_score(y_train,predict_train)*100)"
   ]
  },
  {
   "cell_type": "markdown",
   "id": "ff9df307",
   "metadata": {},
   "source": [
    "# Cross Validation of the Model"
   ]
  },
  {
   "cell_type": "code",
   "execution_count": 63,
   "id": "a409eaeb",
   "metadata": {},
   "outputs": [
    {
     "name": "stdout",
     "output_type": "stream",
     "text": [
      "At cross fold(j) the cv score is 0.8908473589845056 and accuracy score for training is 0.8959372632325174 and accuracy score  for the 0.8927605914615385\n",
      "\n",
      "\n",
      "At cross fold(j) the cv score is 0.8916464591145559 and accuracy score for training is 0.8959372632325174 and accuracy score  for the 0.8927605914615385\n",
      "\n",
      "\n",
      "At cross fold(j) the cv score is 0.8900070660549507 and accuracy score for training is 0.8959372632325174 and accuracy score  for the 0.8927605914615385\n",
      "\n",
      "\n",
      "At cross fold(j) the cv score is 0.8871063495438436 and accuracy score for training is 0.8959372632325174 and accuracy score  for the 0.8927605914615385\n",
      "\n",
      "\n",
      "At cross fold(j) the cv score is 0.8899208882186672 and accuracy score for training is 0.8959372632325174 and accuracy score  for the 0.8927605914615385\n",
      "\n",
      "\n",
      "At cross fold(j) the cv score is 0.8859930219823539 and accuracy score for training is 0.8959372632325174 and accuracy score  for the 0.8927605914615385\n",
      "\n",
      "\n",
      "At cross fold(j) the cv score is 0.8826686689919152 and accuracy score for training is 0.8959372632325174 and accuracy score  for the 0.8927605914615385\n",
      "\n",
      "\n",
      "At cross fold(j) the cv score is 0.8822728227103587 and accuracy score for training is 0.8959372632325174 and accuracy score  for the 0.8927605914615385\n",
      "\n",
      "\n"
     ]
    }
   ],
   "source": [
    "Train_accuracy=r2_score(y_train,predict_train)\n",
    "Test_accuracy=r2_score(y_test,predict_test)\n",
    "\n",
    "from sklearn.model_selection import cross_val_score\n",
    "for j in range(2,10):\n",
    "    cv_score=cross_val_score(lr,x,y,cv=j)\n",
    "    cv_mean=cv_score.mean()\n",
    "    print(f'At cross fold(j) the cv score is {cv_mean} and accuracy score for training is {Train_accuracy} and accuracy score  for the {Test_accuracy}')\n",
    "    print('\\n')"
   ]
  },
  {
   "cell_type": "markdown",
   "id": "2d43dc46",
   "metadata": {},
   "source": [
    "since the number of folds dont have such impact on the accuracy and cv_score . so cv=5 is selected.\n",
    "\n",
    "Here we have handled the problem of the overfitting and the underfitting by checking the training and testing score."
   ]
  },
  {
   "cell_type": "code",
   "execution_count": 65,
   "id": "963a531f",
   "metadata": {},
   "outputs": [
    {
     "data": {
      "image/png": "[encoded data removed]",
      "text/plain": [
       "<Figure size 576x432 with 1 Axes>"
      ]
     },
     "metadata": {
      "needs_background": "light"
     },
     "output_type": "display_data"
    }
   ],
   "source": [
    "import matplotlib.pyplot as plt\n",
    "plt.figure(figsize=(8,6))\n",
    "plt.scatter(x=y_test,y=predict_test,color='b')\n",
    "plt.plot(y_test,y_test,color='g')\n",
    "plt.xlabel('Actual charges',fontsize=14)\n",
    "plt.ylabel('Predicted charges',fontsize=14)\n",
    "plt.title('Linear Regression',fontsize=18)\n",
    "plt.show()"
   ]
  },
  {
   "cell_type": "markdown",
   "id": "d4c26e3b",
   "metadata": {},
   "source": [
    "# Regularization"
   ]
  },
  {
   "cell_type": "code",
   "execution_count": 67,
   "id": "152cc3da",
   "metadata": {},
   "outputs": [],
   "source": [
    "from sklearn.model_selection import GridSearchCV\n",
    "from sklearn.model_selection import cross_val_score\n",
    "import warnings\n",
    "warnings.filterwarnings('ignore')"
   ]
  },
  {
   "cell_type": "code",
   "execution_count": 68,
   "id": "8684b423",
   "metadata": {},
   "outputs": [
    {
     "name": "stdout",
     "output_type": "stream",
     "text": [
      "{'alpha': 1, 'random_state': 0}\n"
     ]
    }
   ],
   "source": [
    "from sklearn.linear_model import Lasso\n",
    "parameters={'alpha':[.0001,.001,0.1,.1,1,10],'random_state':list(range(0,10))}\n",
    "ls=Lasso()\n",
    "clf=GridSearchCV(ls,parameters)\n",
    "clf.fit(x_train,y_train)\n",
    "print(clf.best_params_)"
   ]
  },
  {
   "cell_type": "code",
   "execution_count": 69,
   "id": "ec9c1359",
   "metadata": {},
   "outputs": [
    {
     "data": {
      "text/plain": [
       "0.8899191365872575"
      ]
     },
     "execution_count": 69,
     "metadata": {},
     "output_type": "execute_result"
    }
   ],
   "source": [
    "ls=Lasso(alpha=1,random_state=0)\n",
    "ls.fit(x_train,y_train)\n",
    "ls.score(x_train,y_train)\n",
    "pred_ls=ls.predict(x_test)\n",
    "lss=r2_score(y_test,pred_ls)\n",
    "lss"
   ]
  },
  {
   "cell_type": "markdown",
   "id": "a48de1ef",
   "metadata": {},
   "source": [
    "# Ensemble Technique"
   ]
  },
  {
   "cell_type": "code",
   "execution_count": 71,
   "id": "797eabfa",
   "metadata": {},
   "outputs": [
    {
     "name": "stdout",
     "output_type": "stream",
     "text": [
      "{'criterion': 'mae', 'max_features': 'auto'}\n"
     ]
    }
   ],
   "source": [
    "from sklearn.model_selection import GridSearchCV\n",
    "from sklearn.ensemble import RandomForestRegressor\n",
    "parameters={'criterion':['mse','mae'],'max_features':['auto','sqrt','log2']}\n",
    "rf=RandomForestRegressor()\n",
    "clf=GridSearchCV(rf,parameters)\n",
    "clf.fit(x_train,y_train)\n",
    "print(clf.best_params_)"
   ]
  },
  {
   "cell_type": "code",
   "execution_count": 72,
   "id": "f4719ba3",
   "metadata": {},
   "outputs": [
    {
     "name": "stdout",
     "output_type": "stream",
     "text": [
      "R2 Score: 97.57928725708484\n",
      "Cross Val Score: 97.56011625304772\n"
     ]
    }
   ],
   "source": [
    "rf=RandomForestRegressor(criterion='mse',max_features='auto')\n",
    "rf.fit(x_train,y_train)\n",
    "rf.score(x_train,y_train)\n",
    "pred_decision=rf.predict(x_test)\n",
    "rfs=r2_score(y_test,pred_decision)\n",
    "print('R2 Score:',rfs*100)\n",
    "rfscore=cross_val_score(rf,x,y,cv=5)\n",
    "rfc=rfscore.mean()\n",
    "print('Cross Val Score:',rfc*100)"
   ]
  },
  {
   "cell_type": "markdown",
   "id": "9d98e3eb",
   "metadata": {},
   "source": [
    "We are getting model accuracy and cross validation both 97.5% and 97.5% respectively. hence model performance is Good."
   ]
  },
  {
   "cell_type": "markdown",
   "id": "af011433",
   "metadata": {},
   "source": [
    "# Reciever Operating Characteristic(ROC)"
   ]
  },
  {
   "cell_type": "code",
   "execution_count": 73,
   "id": "a442c845",
   "metadata": {},
   "outputs": [],
   "source": [
    "from itertools import cycle\n",
    "\n",
    "from sklearn import svm, datasets\n",
    "from sklearn.metrics import roc_curve, auc\n",
    "from sklearn.model_selection import train_test_split\n",
    "from sklearn.preprocessing import label_binarize\n",
    "from sklearn.multiclass import OneVsRestClassifier\n",
    "from scipy import interp\n",
    "from sklearn.metrics import roc_auc_score \n"
   ]
  },
  {
   "cell_type": "code",
   "execution_count": 74,
   "id": "31c9fba8",
   "metadata": {},
   "outputs": [],
   "source": [
    "#Import some data\n",
    "iris = datasets.load_iris()\n",
    "X=iris.data\n",
    "Y=iris.target"
   ]
  },
  {
   "cell_type": "code",
   "execution_count": 77,
   "id": "2aa1315d",
   "metadata": {},
   "outputs": [],
   "source": [
    "#Binarize the output\n",
    "Y=label_binarize(Y,classes=[0,1,2])\n",
    "n_classes=Y.shape[1]"
   ]
  },
  {
   "cell_type": "code",
   "execution_count": 78,
   "id": "71750577",
   "metadata": {},
   "outputs": [],
   "source": [
    "# Add noisy feautures to make the problem harder\n",
    "random_state=np.random.RandomState(42)\n",
    "n_samples,n_features=X.shape\n",
    "X=np.c_[X,random_state.randn(n_samples,200*n_features)]"
   ]
  },
  {
   "cell_type": "code",
   "execution_count": 79,
   "id": "2c505cfe",
   "metadata": {},
   "outputs": [],
   "source": [
    "#shuffle and split training and test sets\n",
    "X_train,X_test,Y_train,Y_test=train_test_split(X,Y,test_size=.5,random_state=42)"
   ]
  },
  {
   "cell_type": "code",
   "execution_count": 80,
   "id": "fcbae8fb",
   "metadata": {},
   "outputs": [],
   "source": [
    "#learn to predict each class against the other\n",
    "classifier=OneVsRestClassifier(svm.SVC(kernel='linear',probability=True,random_state=random_state))\n",
    "Y_score=classifier.fit(X_train,Y_train).decision_function(X_test)"
   ]
  },
  {
   "cell_type": "code",
   "execution_count": 81,
   "id": "5c50109d",
   "metadata": {},
   "outputs": [],
   "source": [
    "# Compute ROC curve and ROC area for each class \n",
    "fpr=dict()\n",
    "tpr=dict()\n",
    "roc_auc=dict()\n",
    "for i in range(n_classes):\n",
    "    fpr[i],tpr[i],_=roc_curve(Y_test[:,i],Y_score[:,i])\n",
    "    roc_auc[i]=auc(fpr[i],tpr[i])"
   ]
  },
  {
   "cell_type": "code",
   "execution_count": 82,
   "id": "c04ed759",
   "metadata": {},
   "outputs": [],
   "source": [
    "# Compute micro-average ROC curve and ROC area\n",
    "fpr[\"micro\"],tpr[\"micro\"],_=roc_curve(Y_test.ravel(),Y_score.ravel())\n",
    "roc_auc[\"micro\"]=auc(fpr[\"micro\"],tpr[\"micro\"])"
   ]
  },
  {
   "cell_type": "markdown",
   "id": "90e2695d",
   "metadata": {},
   "source": [
    "Plot of ROC curve for a specific class"
   ]
  },
  {
   "cell_type": "code",
   "execution_count": 83,
   "id": "dec2ee2c",
   "metadata": {},
   "outputs": [
    {
     "data": {
      "image/png": "[encoded data removed]",
      "text/plain": [
       "<Figure size 432x288 with 1 Axes>"
      ]
     },
     "metadata": {
      "needs_background": "light"
     },
     "output_type": "display_data"
    }
   ],
   "source": [
    "plt.figure()\n",
    "lw=2\n",
    "plt.plot(fpr[2],tpr[2],color='r',\n",
    "        lw=lw,label='ROC curve(area=%0.2f)'%roc_auc[2])\n",
    "plt.plot([0,1],[0,1],color='b',lw=lw,linestyle='--')\n",
    "plt.xlim([0.0,1.05])\n",
    "plt.ylim([0.0,1.05])\n",
    "plt.xlabel('False Positive Rate')\n",
    "plt.ylabel('True Positive Rate')\n",
    "plt.title('Reciever Operating Characteristics')\n",
    "plt.legend(loc=\"lower right\")\n",
    "plt.show()"
   ]
  },
  {
   "cell_type": "code",
   "execution_count": 84,
   "id": "c607514b",
   "metadata": {},
   "outputs": [],
   "source": [
    "Y_prob=classifier.predict_proba(X_test)\n",
    "macro_roc_auc_ovo=roc_auc_score(Y_test,Y_prob,multi_class=\"ovo\",average=\"macro\")\n",
    "weighted_roc_auc_ovo=roc_auc_score(Y_test,Y_prob,multi_class=\"ovo\",average=\"weighted\")\n",
    "macro_roc_auc_ovr=roc_auc_score(Y_test,Y_prob,multi_class=\"ovr\",average=\"macro\")\n",
    "weighted_roc_auc_ovr=roc_auc_score(Y_test,Y_prob,multi_class=\"ovo\",average=\"weighted\")"
   ]
  },
  {
   "cell_type": "code",
   "execution_count": 85,
   "id": "ace268a0",
   "metadata": {},
   "outputs": [
    {
     "name": "stdout",
     "output_type": "stream",
     "text": [
      "One-vs-One ROC AUC scores:\n",
      "0.75030(macro),\n",
      "0.76386(weighted by prevalance)\n",
      "One-vs-One ROC AUC scores:\n",
      "0.75030(macro),\n",
      "0.76386(weighted by prevalance)\n"
     ]
    }
   ],
   "source": [
    "print(\"One-vs-One ROC AUC scores:\\n{:.5f}(macro),\\n{:.5f}\"\n",
    "     \"(weighted by prevalance)\"\n",
    "     .format(macro_roc_auc_ovo, weighted_roc_auc_ovo))\n",
    "print(\"One-vs-One ROC AUC scores:\\n{:.5f}(macro),\\n{:.5f}\"\n",
    "     \"(weighted by prevalance)\"\n",
    "     .format(macro_roc_auc_ovr, weighted_roc_auc_ovr))"
   ]
  },
  {
   "cell_type": "markdown",
   "id": "770d6460",
   "metadata": {},
   "source": [
    "# Saving the Model"
   ]
  },
  {
   "cell_type": "code",
   "execution_count": 86,
   "id": "3987a2c0",
   "metadata": {},
   "outputs": [],
   "source": [
    "import pickle\n",
    "filename='Advertising Sale Channel Prediction.csv.pkl'\n",
    "pickle.dump(rf,open(filename,'wb'))"
   ]
  },
  {
   "cell_type": "markdown",
   "id": "7b8b62e1",
   "metadata": {},
   "source": [
    "# Conclusion"
   ]
  },
  {
   "cell_type": "code",
   "execution_count": 87,
   "id": "693212f9",
   "metadata": {},
   "outputs": [
    {
     "name": "stdout",
     "output_type": "stream",
     "text": [
      "0.9757928725708485\n"
     ]
    }
   ],
   "source": [
    "loaded_model=pickle.load(open('Advertising Sale Channel Prediction.csv.pkl','rb'))\n",
    "result=loaded_model.score(x_test,y_test)\n",
    "print(result)"
   ]
  },
  {
   "cell_type": "code",
   "execution_count": 89,
   "id": "911dac1f",
   "metadata": {},
   "outputs": [
    {
     "data": {
      "text/html": [
       "<div>\n",
       "<style scoped>\n",
       "    .dataframe tbody tr th:only-of-type {\n",
       "        vertical-align: middle;\n",
       "    }\n",
       "\n",
       "    .dataframe tbody tr th {\n",
       "        vertical-align: top;\n",
       "    }\n",
       "\n",
       "    .dataframe thead th {\n",
       "        text-align: right;\n",
       "    }\n",
       "</style>\n",
       "<table border=\"1\" class=\"dataframe\">\n",
       "  <thead>\n",
       "    <tr style=\"text-align: right;\">\n",
       "      <th></th>\n",
       "      <th>0</th>\n",
       "      <th>1</th>\n",
       "      <th>2</th>\n",
       "      <th>3</th>\n",
       "      <th>4</th>\n",
       "      <th>5</th>\n",
       "      <th>6</th>\n",
       "      <th>7</th>\n",
       "      <th>8</th>\n",
       "      <th>9</th>\n",
       "      <th>...</th>\n",
       "      <th>30</th>\n",
       "      <th>31</th>\n",
       "      <th>32</th>\n",
       "      <th>33</th>\n",
       "      <th>34</th>\n",
       "      <th>35</th>\n",
       "      <th>36</th>\n",
       "      <th>37</th>\n",
       "      <th>38</th>\n",
       "      <th>39</th>\n",
       "    </tr>\n",
       "  </thead>\n",
       "  <tbody>\n",
       "    <tr>\n",
       "      <th>Predicted</th>\n",
       "      <td>23.211</td>\n",
       "      <td>15.864</td>\n",
       "      <td>9.573</td>\n",
       "      <td>13.859</td>\n",
       "      <td>16.033</td>\n",
       "      <td>24.834</td>\n",
       "      <td>17.275</td>\n",
       "      <td>13.928</td>\n",
       "      <td>10.936</td>\n",
       "      <td>16.254</td>\n",
       "      <td>...</td>\n",
       "      <td>23.12</td>\n",
       "      <td>12.165</td>\n",
       "      <td>16.471</td>\n",
       "      <td>12.53</td>\n",
       "      <td>20.198</td>\n",
       "      <td>15.166</td>\n",
       "      <td>11.898</td>\n",
       "      <td>11.143</td>\n",
       "      <td>22.174</td>\n",
       "      <td>6.943</td>\n",
       "    </tr>\n",
       "    <tr>\n",
       "      <th>Original</th>\n",
       "      <td>23.211</td>\n",
       "      <td>15.864</td>\n",
       "      <td>9.573</td>\n",
       "      <td>13.859</td>\n",
       "      <td>16.033</td>\n",
       "      <td>24.834</td>\n",
       "      <td>17.275</td>\n",
       "      <td>13.928</td>\n",
       "      <td>10.936</td>\n",
       "      <td>16.254</td>\n",
       "      <td>...</td>\n",
       "      <td>23.12</td>\n",
       "      <td>12.165</td>\n",
       "      <td>16.471</td>\n",
       "      <td>12.53</td>\n",
       "      <td>20.198</td>\n",
       "      <td>15.166</td>\n",
       "      <td>11.898</td>\n",
       "      <td>11.143</td>\n",
       "      <td>22.174</td>\n",
       "      <td>6.943</td>\n",
       "    </tr>\n",
       "  </tbody>\n",
       "</table>\n",
       "<p>2 rows × 40 columns</p>\n",
       "</div>"
      ],
      "text/plain": [
       "               0       1      2       3       4       5       6       7   \\\n",
       "Predicted  23.211  15.864  9.573  13.859  16.033  24.834  17.275  13.928   \n",
       "Original   23.211  15.864  9.573  13.859  16.033  24.834  17.275  13.928   \n",
       "\n",
       "               8       9   ...     30      31      32     33      34      35  \\\n",
       "Predicted  10.936  16.254  ...  23.12  12.165  16.471  12.53  20.198  15.166   \n",
       "Original   10.936  16.254  ...  23.12  12.165  16.471  12.53  20.198  15.166   \n",
       "\n",
       "               36      37      38     39  \n",
       "Predicted  11.898  11.143  22.174  6.943  \n",
       "Original   11.898  11.143  22.174  6.943  \n",
       "\n",
       "[2 rows x 40 columns]"
      ]
     },
     "execution_count": 89,
     "metadata": {},
     "output_type": "execute_result"
    }
   ],
   "source": [
    "conclusion=pd.DataFrame([loaded_model.predict(x_test)[:],pred_decision[:]],index=['Predicted','Original'])\n",
    "conclusion"
   ]
  },
  {
   "cell_type": "code",
   "execution_count": null,
   "id": "d650c321",
   "metadata": {},
   "outputs": [],
   "source": []
  }
 ],
 "metadata": {
  "kernelspec": {
   "display_name": "Python 3 (ipykernel)",
   "language": "python",
   "name": "python3"
  },
  "language_info": {
   "codemirror_mode": {
    "name": "ipython",
    "version": 3
   },
   "file_extension": ".py",
   "mimetype": "text/x-python",
   "name": "python",
   "nbconvert_exporter": "python",
   "pygments_lexer": "ipython3",
   "version": "3.9.7"
  }
 },
 "nbformat": 4,
 "nbformat_minor": 5
}
